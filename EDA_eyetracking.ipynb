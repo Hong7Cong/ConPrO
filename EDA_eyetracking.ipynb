{
 "cells": [
  {
   "cell_type": "code",
   "execution_count": 1,
   "metadata": {},
   "outputs": [
    {
     "name": "stderr",
     "output_type": "stream",
     "text": [
      "2023-11-27 10:46:43.550818: I tensorflow/core/platform/cpu_feature_guard.cc:193] This TensorFlow binary is optimized with oneAPI Deep Neural Network Library (oneDNN) to use the following CPU instructions in performance-critical operations:  AVX2 FMA\n",
      "To enable them in other operations, rebuild TensorFlow with the appropriate compiler flags.\n",
      "2023-11-27 10:46:45.745887: W tensorflow/compiler/xla/stream_executor/platform/default/dso_loader.cc:64] Could not load dynamic library 'libnvinfer.so.7'; dlerror: libnvinfer.so.7: cannot open shared object file: No such file or directory; LD_LIBRARY_PATH: /home/hongn/miniconda3/envs/ee660/lib/python3.7/site-packages/cv2/../../lib64:\n",
      "2023-11-27 10:46:45.746039: W tensorflow/compiler/xla/stream_executor/platform/default/dso_loader.cc:64] Could not load dynamic library 'libnvinfer_plugin.so.7'; dlerror: libnvinfer_plugin.so.7: cannot open shared object file: No such file or directory; LD_LIBRARY_PATH: /home/hongn/miniconda3/envs/ee660/lib/python3.7/site-packages/cv2/../../lib64:\n",
      "2023-11-27 10:46:45.746049: W tensorflow/compiler/tf2tensorrt/utils/py_utils.cc:38] TF-TRT Warning: Cannot dlopen some TensorRT libraries. If you would like to use Nvidia GPU with TensorRT, please make sure the missing libraries mentioned above are installed properly.\n"
     ]
    }
   ],
   "source": [
    "import os\n",
    "from scipy import stats\n",
    "from process import *\n",
    "from utils import *"
   ]
  },
  {
   "cell_type": "markdown",
   "metadata": {},
   "source": [
    "## Pre-defined"
   ]
  },
  {
   "cell_type": "code",
   "execution_count": 2,
   "metadata": {},
   "outputs": [],
   "source": [
    "TRIALS = {\n",
    "    \"all\": TRIAL_LIST,\n",
    "    \"texture\": TRIAL_TEXTURE,\n",
    "    \"complexity\": TRIAL_COMPLEXITY,\n",
    "    \"orientation\": TRIAL_ORIENTATION,\n",
    "    \"brightness\": TRIAL_BRIGHTNESS,\n",
    "    \"contrast\": TRIAL_CONTRAST,\n",
    "    \"color\": TRIAL_COLOR,\n",
    "    \"depth\": TRIAL_DEPTH,\n",
    "    \"face\": TRIAL_FACE,\n",
    "    \"movement\": TRIAL_MOVEMENT,\n",
    "    \"face_texture\": TRIAL_FACE_TEXTURE,\n",
    "}\n",
    "\n",
    "these_trials = TRIALS[\"all\"]\n",
    "smap = \"face\"\n",
    "\n",
    "def statistic_mw(x, y):\n",
    "    return stats.mannwhitneyu(x, y)[0]\n",
    "\n",
    "\n",
    "def iqr(x):\n",
    "    q1, q3 = np.percentile(x, [25, 75])\n",
    "    return q3 - q1\n",
    "\n",
    "\n",
    "def extract_features(ids, trial, smap):\n",
    "    if smap is not None:\n",
    "        smap = trial.load_saliency_map(smap)\n",
    "        smap_vs = trial.load_saliency_map(\"red\")\n",
    "\n",
    "    features = []\n",
    "    for subject in ids:\n",
    "        sub = Subject(DATA_ROOT, subject)\n",
    "        out = sub.extract_fixations(trial_name=this_trial.trial_name)\n",
    "        analyzer = FixationAnalyzer(DATA_ROOT, out)\n",
    "        feat = analyzer.average_saliency(smap)\n",
    "        feat_vs = analyzer.average_saliency(smap_vs)\n",
    "        # feat = analyzer.number_of_fixations()\n",
    "        # feat = sub.eye_mov_entropy(trial.trial_name, perplexity=True)\n",
    "        features.append(feat - feat_vs)\n",
    "        feats[subject].append(feat - feat_vs)\n",
    "    return features"
   ]
  },
  {
   "cell_type": "code",
   "execution_count": 3,
   "metadata": {},
   "outputs": [],
   "source": [
    "class ImageTrial:\n",
    "    def __init__(self, root, trial_name, smap_dir):\n",
    "        self.root = root\n",
    "        self.new_res = True if \"new_res\" in root else False\n",
    "        self.path = glob.glob(f\"/mnt/c/Users/Hong/Dropbox/cvi-stimuli/*{trial_name}*\")[0]\n",
    "        self.trial_name = trial_name\n",
    "        self.smap_dir = smap_dir\n",
    "        self.ids = glob.glob(os.path.join(root, \"*.asc\"))\n",
    "        self.ids = [os.path.basename(d)[:-4] for d in self.ids]\n",
    "\n",
    "    def load_trial_img(self):\n",
    "        img = cv2.imread(self.path)\n",
    "        return cv2.cvtColor(img, cv2.COLOR_BGR2RGB)\n",
    "\n",
    "    def load_saliency_map(self, smap_type):\n",
    "        image_name = self.trial_name.strip(\".jpg\")\n",
    "        filename = f\"{image_name}_{smap_type}.jpg\"\n",
    "        path = os.path.join(self.smap_dir, image_name, filename)\n",
    "\n",
    "        if os.path.exists(path):\n",
    "            smap = plt.imread(path)\n",
    "        else:\n",
    "            os.makedirs(os.path.join(self.smap_dir, image_name), exist_ok=True)\n",
    "            sal = SaliencyMap(smap_type)\n",
    "            smap = sal.get_smap(self.load_trial_img())\n",
    "            cv2.imwrite(path, smap)\n",
    "\n",
    "        if self.new_res:\n",
    "            smap = np.pad(smap, ((240, 240), (320, 320)), 'constant')\n",
    "        return smap.T\n",
    "\n",
    "    def complexity(self):\n",
    "        img = self.load_trial_img()\n",
    "        img = cv2.cvtColor(img, cv2.COLOR_BGR2GRAY)\n",
    "        stats = measure.regionprops(img)\n",
    "        areas = [l.area for l in stats]\n",
    "        rp_tot = img.shape[0] * img.shape[1]\n",
    "        return sum(areas > (rp_tot / 25000))\n",
    "\n",
    "    def read_subjects(self, names, vel=False):\n",
    "        data, frac = {}, {}\n",
    "        for subject in names:\n",
    "            sub = Subject(subject)\n",
    "            trial_data, frac = sub.extract_data(self.trial_name, vel)\n",
    "            data[subject] = trial_data\n",
    "            frac[subject] = 1 - frac\n",
    "        return data, frac\n",
    "\n",
    "    def read_fixations(self, names):\n",
    "        fixations = {}\n",
    "        for subject in names:\n",
    "            sub = Subject(subject)\n",
    "            this = sub.extract_fixations(self.trial_name)\n",
    "            fixations[subject] = this\n",
    "        return fixations\n",
    "\n",
    "    def extract_traces(self, names, smap):\n",
    "        traces = {}\n",
    "        for subject in names:\n",
    "            sub = Subject(subject)\n",
    "            this = sub.extract_trace(self.trial_name, smap)\n",
    "            traces[subject] = this\n",
    "        return traces"
   ]
  },
  {
   "cell_type": "markdown",
   "metadata": {},
   "source": [
    "## Testing"
   ]
  },
  {
   "cell_type": "code",
   "execution_count": 4,
   "metadata": {},
   "outputs": [],
   "source": [
    "DATA_ROOT = \"/mnt/c/Users/Hong/Dropbox/cvi-asc/\""
   ]
  },
  {
   "cell_type": "code",
   "execution_count": 5,
   "metadata": {},
   "outputs": [
    {
     "name": "stdout",
     "output_type": "stream",
     "text": [
      "number of control 10 and cvi 31\n"
     ]
    }
   ],
   "source": [
    "ids = [i for i in os.listdir(DATA_ROOT) if i.endswith(\".asc\")]\n",
    "ctrl_ids = [i.split(\".\")[0] for i in ids if i.startswith(\"2\")]\n",
    "cvi_ids = [i.split(\".\")[0] for i in ids if i.startswith(\"1\")]\n",
    "print(f'number of control {len(ctrl_ids)} and cvi {len(cvi_ids)}')"
   ]
  },
  {
   "cell_type": "code",
   "execution_count": 6,
   "metadata": {},
   "outputs": [
    {
     "data": {
      "text/plain": [
       "'Freeviewingstillimage_4'"
      ]
     },
     "execution_count": 6,
     "metadata": {},
     "output_type": "execute_result"
    }
   ],
   "source": [
    "feats = {name.split(\".\")[0]: [] for name in ids}\n",
    "trial = these_trials[2]\n",
    "trial"
   ]
  },
  {
   "cell_type": "code",
   "execution_count": 7,
   "metadata": {},
   "outputs": [],
   "source": [
    "this_trial = ImageTrial(DATA_ROOT, trial, \"smaps\")\n",
    "# features_ctrl = extract_features(ctrl_ids, this_trial, smap)\n",
    "# features_cvi = extract_features(cvi_ids, this_trial, smap)"
   ]
  },
  {
   "cell_type": "code",
   "execution_count": 8,
   "metadata": {},
   "outputs": [],
   "source": [
    "subject = cvi_ids[1]\n",
    "sub = Subject(DATA_ROOT, subject)\n",
    "out = sub.extract_fixations(trial_name='Freeviewingstillimage_2')\n",
    "out_saccade = sub.extract_saccades(trial_name=this_trial.trial_name)\n",
    "analyzer = FixationAnalyzer(DATA_ROOT, out)"
   ]
  },
  {
   "cell_type": "code",
   "execution_count": 9,
   "metadata": {},
   "outputs": [
    {
     "data": {
      "text/plain": [
       "['1003_2',\n",
       " '1003_3',\n",
       " '1003_4',\n",
       " '1004_2',\n",
       " '1005_1',\n",
       " '1006_1',\n",
       " '1006_2',\n",
       " '1006_3',\n",
       " '1006_4',\n",
       " '1007_1',\n",
       " '1007_2',\n",
       " '1007_3',\n",
       " '1007_4',\n",
       " '1008_1',\n",
       " '1010_1',\n",
       " '1010_2',\n",
       " '1011_1',\n",
       " '1011_2',\n",
       " '1013_1',\n",
       " '1013_2',\n",
       " '1015_1',\n",
       " '1015_2',\n",
       " '1017_1',\n",
       " '1017_2',\n",
       " '1018_1',\n",
       " '1018_2',\n",
       " '1019_1',\n",
       " '1020_1',\n",
       " '1020_2',\n",
       " '1022_1',\n",
       " '1022_2']"
      ]
     },
     "execution_count": 9,
     "metadata": {},
     "output_type": "execute_result"
    }
   ],
   "source": [
    "cvi_ids"
   ]
  },
  {
   "cell_type": "code",
   "execution_count": 10,
   "metadata": {},
   "outputs": [],
   "source": [
    "cvi_train = {}\n",
    "ctrl_train = {}\n",
    "for sbjname in cvi_ids:\n",
    "# subject = cvi_ids[1]\n",
    "    sub = Subject(DATA_ROOT, sbjname)\n",
    "    trainctmc = []\n",
    "    for name in these_trials:  \n",
    "        temp = sub.get_CTMC(trial_name=name)\n",
    "        if(len(temp) > 2):\n",
    "            trainctmc.append(temp)\n",
    "    cvi_train[sbjname] = trainctmc\n",
    "\n",
    "for sbjname in ctrl_ids:\n",
    "# subject = cvi_ids[1]\n",
    "    sub = Subject(DATA_ROOT, sbjname)\n",
    "    trainctmc = []\n",
    "    for name in these_trials:  \n",
    "        temp = sub.get_CTMC(trial_name=name)\n",
    "        if(len(temp) > 2):\n",
    "            trainctmc.append(temp)\n",
    "    ctrl_train[sbjname] = trainctmc\n"
   ]
  },
  {
   "cell_type": "markdown",
   "metadata": {},
   "source": [
    "## CTMC"
   ]
  },
  {
   "cell_type": "code",
   "execution_count": 11,
   "metadata": {},
   "outputs": [
    {
     "name": "stdout",
     "output_type": "stream",
     "text": [
      "WARNING: Stormpy not found.\n"
     ]
    }
   ],
   "source": [
    "import jajapy as ja\n",
    "from jajapy.base.Set import Set"
   ]
  },
  {
   "cell_type": "code",
   "execution_count": 12,
   "metadata": {},
   "outputs": [],
   "source": [
    "# labelling = ['EBLINK','EBLINK','ESACC','EFIX','EFIX']\n",
    "# transitions = [(0,1,0.08),(0,2,0.12),(1,1,0.3),(1,2,0.7),\n",
    "#                 (2,0,0.2),(2,3,0.1),(2,4,0.2),(3,3,0.8),\n",
    "#                 (3,1,0.1),(3,4,0.1),(4,2,0.25)]\n",
    "# original_model = ja.createCTMC(transitions,labelling,initial_state=0,name=\"My_CTMC\")"
   ]
  },
  {
   "cell_type": "code",
   "execution_count": 13,
   "metadata": {},
   "outputs": [],
   "source": [
    "from jajapy.base.Set import Set\n",
    "# Set(trainctmc[2], [1] * 39)"
   ]
  },
  {
   "cell_type": "code",
   "execution_count": 14,
   "metadata": {},
   "outputs": [
    {
     "data": {
      "text/plain": [
       "dict_keys(['2002_1', '2002_2', '2003_1', '2003_2', '2004_1', '2004_2', '2005_1', '2005_2', '2006_1', '2006_2'])"
      ]
     },
     "execution_count": 14,
     "metadata": {},
     "output_type": "execute_result"
    }
   ],
   "source": [
    "ctrl_train.keys()"
   ]
  },
  {
   "cell_type": "code",
   "execution_count": 15,
   "metadata": {},
   "outputs": [
    {
     "data": {
      "text/plain": [
       "38"
      ]
     },
     "execution_count": 15,
     "metadata": {},
     "output_type": "execute_result"
    }
   ],
   "source": [
    "trainctmc = ctrl_train['2004_2']\n",
    "len(trainctmc)"
   ]
  },
  {
   "cell_type": "code",
   "execution_count": 16,
   "metadata": {},
   "outputs": [
    {
     "name": "stdout",
     "output_type": "stream",
     "text": [
      "38\n",
      "39\n",
      "39\n",
      "39\n",
      "39\n",
      "38\n",
      "26\n",
      "38\n",
      "38\n",
      "38\n"
     ]
    }
   ],
   "source": [
    "for key in ctrl_train:\n",
    "    print(len(ctrl_train[key]))"
   ]
  },
  {
   "cell_type": "code",
   "execution_count": 18,
   "metadata": {},
   "outputs": [],
   "source": [
    "ctmc_ctrl_models = {}\n",
    "ctmc_cvi_models = {}"
   ]
  },
  {
   "cell_type": "code",
   "execution_count": 22,
   "metadata": {},
   "outputs": [],
   "source": [
    "nb_trials = 5\n",
    "ctmc_ctrl_models = {}\n",
    "ctmc_cvi_models = {}\n",
    "\n",
    "for key in cvi_train:\n",
    "    best_model = None\n",
    "    quality_best = -1024\n",
    "    for n in range(1,nb_trials+1):\n",
    "        current_model = ja.CTMC_random(nb_states=3,\n",
    "                                labelling=['EFIX','ESACC','EBLINK'],\n",
    "                                self_loop=False,\n",
    "                                random_initial_state=True,\n",
    "                                min_exit_rate_time=1,\n",
    "                                max_exit_rate_time=6)\n",
    "        current_quality = current_model.logLikelihood(Set(cvi_train[key], [1] * len(cvi_train[key]), t=4))\n",
    "        if quality_best < current_quality: #we keep the best model only\n",
    "                        quality_best = current_quality\n",
    "                        best_model = current_model\n",
    "    ctmc_cvi_models[key] = ja.BW().fit(Set(cvi_train[key], [1] * len(cvi_train[key]), t=4),initial_model=best_model)"
   ]
  },
  {
   "cell_type": "code",
   "execution_count": 20,
   "metadata": {},
   "outputs": [],
   "source": [
    "import pickle \n",
    "\n",
    "with open('ctmc_ctrl_models.pkl', 'wb') as f:\n",
    "    pickle.dump(ctmc_ctrl_models, f)"
   ]
  },
  {
   "cell_type": "code",
   "execution_count": 22,
   "metadata": {},
   "outputs": [
    {
     "name": "stdout",
     "output_type": "stream",
     "text": [
      "Learning a CTMC...\n",
      "WARNING: stormpy not found. The output model will be a Jajapy model\n",
      "|████████████████████████████████████████| 4 in 0.6s (6.98/s) \n"
     ]
    }
   ],
   "source": [
    "output_model = ja.BW().fit(Set(trainctmc, [1] * len(trainctmc), t=4),initial_model=best_model)"
   ]
  },
  {
   "cell_type": "code",
   "execution_count": 21,
   "metadata": {},
   "outputs": [
    {
     "ename": "NameError",
     "evalue": "name 'output_model' is not defined",
     "output_type": "error",
     "traceback": [
      "\u001b[0;31m---------------------------------------------------------------------------\u001b[0m",
      "\u001b[0;31mNameError\u001b[0m                                 Traceback (most recent call last)",
      "\u001b[0;32m/tmp/ipykernel_12363/3921428637.py\u001b[0m in \u001b[0;36m<module>\u001b[0;34m\u001b[0m\n\u001b[0;32m----> 1\u001b[0;31m \u001b[0moutput_model\u001b[0m\u001b[0;34m.\u001b[0m\u001b[0mmatrix\u001b[0m\u001b[0;34m\u001b[0m\u001b[0;34m\u001b[0m\u001b[0m\n\u001b[0m",
      "\u001b[0;31mNameError\u001b[0m: name 'output_model' is not defined"
     ]
    }
   ],
   "source": [
    "output_model.matrix"
   ]
  },
  {
   "cell_type": "code",
   "execution_count": 23,
   "metadata": {},
   "outputs": [
    {
     "name": "stdout",
     "output_type": "stream",
     "text": [
      "Name: CTMC_random_3_states\n",
      "Initial state: s3\n",
      "----STATE 0--EFIX----\n",
      "Exepected waiting time: 42.54\n",
      "s0 -> s1 : lambda = 0.021391631405735778091\n",
      "s0 -> s2 : lambda = 0.0021156558533145275035\n",
      "\n",
      "----STATE 1--ESACC----\n",
      "Exepected waiting time: 262.79069767441860464\n",
      "s1 -> s0 : lambda = 0.0038053097345132743363\n",
      "\n",
      "----STATE 2--EBLINK----\n",
      "Exepected waiting time: 65.777777777777777776\n",
      "s2 -> s1 : lambda = 0.015202702702702702703\n",
      "\n",
      "----STATE 3--init----\n",
      "Exepected waiting time: 385.72972972972972971\n",
      "s3 -> s0 : lambda = 0.0025924887892376681615\n",
      "\n",
      "\n",
      "\n"
     ]
    }
   ],
   "source": [
    "print(output_model)"
   ]
  }
 ],
 "metadata": {
  "kernelspec": {
   "display_name": "xai",
   "language": "python",
   "name": "python3"
  },
  "language_info": {
   "codemirror_mode": {
    "name": "ipython",
    "version": 3
   },
   "file_extension": ".py",
   "mimetype": "text/x-python",
   "name": "python",
   "nbconvert_exporter": "python",
   "pygments_lexer": "ipython3",
   "version": "3.7.13"
  }
 },
 "nbformat": 4,
 "nbformat_minor": 2
}
