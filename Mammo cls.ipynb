{
 "cells": [
  {
   "cell_type": "code",
   "execution_count": 1,
   "id": "261cb88a",
   "metadata": {},
   "outputs": [],
   "source": [
    "from IPython.display import clear_output \n",
    "import numpy as np\n",
    "# import pandas as pd\n",
    "import matplotlib.pyplot as plt\n",
    "import torchvision.transforms.functional as F\n",
    "import torch\n",
    "from torchvision.utils import make_grid\n",
    "from torchvision.io import read_image\n",
    "# from torchvision import models, transforms\n",
    "# import sys\n",
    "# import os\n",
    "from PIL import Image\n",
    "import torch\n",
    "# import torch.functional as F\n",
    "import numpy as np\n",
    "clear_output()\n",
    "# import glob\n",
    "from utils import *\n",
    "from datetime import date\n",
    "from torch.optim import lr_scheduler\n",
    "import torchvision\n",
    "from constants import mean, std\n",
    "from VindrMammoLoader import MammoDataset, MammoCompDataset\n",
    "import torch.nn as nn\n",
    "import torch.optim as optim\n",
    "from tqdm import tqdm\n",
    "from torchvision.ops.focal_loss import sigmoid_focal_loss\n",
    "from sklearn.metrics import classification_report\n",
    "from sklearn.metrics import roc_auc_score"
   ]
  },
  {
   "cell_type": "markdown",
   "id": "fb1178ed",
   "metadata": {},
   "source": [
    "# Dataloader"
   ]
  },
  {
   "cell_type": "code",
   "execution_count": 2,
   "id": "12405e21",
   "metadata": {},
   "outputs": [
    {
     "name": "stdout",
     "output_type": "stream",
     "text": [
      "cuda:0 ['1', '2', '3', '4', '5']\n",
      "{'train': 14396, 'val': 1604, 'test': 4000}\n"
     ]
    }
   ],
   "source": [
    "image_datasets = {x: MammoDataset(phase=x,  seed =22) for x in ['train', 'val', 'test']}\n",
    "batch_size = {'train':32, 'val':8, 'test':1}\n",
    "dataloaders = {x: torch.utils.data.DataLoader(image_datasets[x], batch_size=batch_size[x], shuffle=True, num_workers=8, pin_memory = True)\n",
    "              for x in ['train', 'val', 'test']}\n",
    "\n",
    "dataset_sizes = {x: len(image_datasets[x]) for x in ['train', 'val',  'test']}\n",
    "class_names = ['1','2','3', '4', '5']\n",
    "\n",
    "device = torch.device(\"cuda:0\" if torch.cuda.is_available() else \"cpu\")\n",
    "print(device, class_names)\n",
    "print(dataset_sizes)"
   ]
  },
  {
   "cell_type": "markdown",
   "id": "e6f62bc5",
   "metadata": {},
   "source": [
    "# Load saved model"
   ]
  },
  {
   "cell_type": "code",
   "execution_count": 3,
   "id": "4b5cdd24",
   "metadata": {},
   "outputs": [],
   "source": [
    "class SiameseNetwork101(nn.Module):\n",
    "    \"\"\"\n",
    "    Siamese neural network\n",
    "    Modified from: https://hackernoon.com/facial-similarity-with-siamese-networks-in-pytorch-9642aa9db2f7\n",
    "    Siamese ResNet-101 from Pytorch library\n",
    "    \"\"\" \n",
    "    def __init__(self):\n",
    "        super(SiameseNetwork101, self).__init__()\n",
    "        # note that resnet101 requires 3 input channels, will repeat grayscale image x3\n",
    "        self.cnn1 = get_feature_extractor(feature_extractor='resnet50', cotrain=False )\n",
    "        self.cnn1.fc = nn.Sequential(torch.nn.Linear(2048, 1000),\n",
    "                                torch.nn.ReLU(),\n",
    "                                torch.nn.Dropout(0.1),\n",
    "                                torch.nn.Linear(1000, 256))\n",
    "    \n",
    "    def forward_once(self, x):\n",
    "        output = self.cnn1(x)\n",
    "        return output\n",
    "\n",
    "    def forward(self, input1, input2):\n",
    "        output1 = self.forward_once(input1)\n",
    "        output2 = self.forward_once(input2)\n",
    "        return output1, output2\n",
    "    \n",
    "class SeverityModel(nn.Module):\n",
    "    \"\"\"\n",
    "    Siamese neural network\n",
    "    Modified from: https://hackernoon.com/facial-similarity-with-siamese-networks-in-pytorch-9642aa9db2f7\n",
    "    Siamese ResNet-101 from Pytorch library\n",
    "    \"\"\" \n",
    "    def __init__(self, path2pretrained='pretrained/best-contrastive50-2024-03-15.pt'):\n",
    "        super(SeverityModel, self).__init__()\n",
    "        # note that resnet101 requires 3 input channels, will repeat grayscale image x3\n",
    "        self.bestsimese50simclr = SiameseNetwork101()\n",
    "        state_dict = torch.load(path2pretrained)\n",
    "        self.bestsimese50simclr.load_state_dict(state_dict)\n",
    "        self.bestsimese50simclr.cnn1.add_module('fc2',\n",
    "            nn.Sequential(torch.nn.Linear(256, 256),\n",
    "                          torch.nn.ReLU(),\n",
    "                        torch.nn.Dropout(0.1),\n",
    "                        torch.nn.Linear(256, 256)))\n",
    "    \n",
    "    def forward_once(self, x):\n",
    "        output = self.bestsimese50simclr.cnn1.fc2(self.bestsimese50simclr.cnn1(x))\n",
    "        return output\n",
    "\n",
    "    def forward(self, input1, input2, refinput):\n",
    "        output1 = self.forward_once(input1)\n",
    "        output2 = self.forward_once(input2)\n",
    "        refinput = self.bestsimese50simclr.cnn1(refinput)\n",
    "        return output1, output2, refinput"
   ]
  },
  {
   "cell_type": "code",
   "execution_count": 4,
   "id": "f57caa05",
   "metadata": {},
   "outputs": [
    {
     "name": "stdout",
     "output_type": "stream",
     "text": [
      "load simclr resnet\n"
     ]
    }
   ],
   "source": [
    "#SAVE then LOAD resnet50 weights for Inference\n",
    "\n",
    "# # Save resnet50 from ConPrO weights\n",
    "# bestsmodel = SeverityModel().to(device)\n",
    "# state_dict = torch.load('/home/vishc1/hoang/pseudopapill/pretrained/best-smodel50-wofreeze-2024-03-24.pt')\n",
    "# bestsmodel.load_state_dict(state_dict)\n",
    "# bestsmodel.bestsimese50simclr.cnn1.fc = torch.nn.Sequential(*(list(bestsmodel.bestsimese50simclr.cnn1.fc)+list(bestsmodel.bestsimese50simclr.cnn1.fc2)))\n",
    "# torch.save(bestsmodel.bestsimese50simclr.cnn1.state_dict(), f'pretrained/pretrained-resnet50-ConPro.pt')\n",
    "# del bestsmodel\n",
    "# # Save resnet50 from SupCon-2 weights\n",
    "# smodel = SeverityModel(path2pretrained='pretrained/best-contrastive50-2024-03-15.pt').to(device)\n",
    "# torch.save(smodel.bestsimese50simclr.cnn1.state_dict(), f'./pretrained/pretrained-resnet50-SupCon.pt')\n",
    "\n",
    "# # Save resnet50 from SupCon-5 weights\n",
    "#smodel5 = SeverityModel(path2pretrained='./pretrained/best-multiclass-contrastive50-2024-03-18.pt').to(device)\n",
    "#torch.save(smodel5.bestsimese50simclr.cnn1.state_dict(), f'pretrained/pretrained-resnet50-SupCon5.pt')\n",
    "\n",
    "# # Save resnet50 from Simclr weights\n",
    "simclrweight = get_feature_extractor(feature_extractor='resnet50', cotrain=False, simclr='/home/vishc1/hoang/simCLR-clone/runs/Mar21_17-27-27_huypn168/checkpoint_95_21032024.pth.tar')\n",
    "torch.save(simclrweight.state_dict(), f'pretrained/pretrained-resnet50-SimCLR.pt')"
   ]
  },
  {
   "cell_type": "code",
   "execution_count": 5,
   "id": "dd6eee0c",
   "metadata": {},
   "outputs": [],
   "source": [
    "pretrain_mode = 'SimCLR'\n",
    "\n",
    "clf_model = models.resnet50(weights='ResNet50_Weights.DEFAULT')\n",
    "clf_model.load_state_dict(torch.load(f'pretrained/pretrained-resnet50-{pretrain_mode}.pt'), strict=False)\n",
    "clf_model.fc = nn.Sequential(torch.nn.Linear(2048, 1000),\n",
    "                                torch.nn.ReLU(),\n",
    "                                torch.nn.Dropout(0.1),\n",
    "                                torch.nn.Linear(1000, 256),\n",
    "                                torch.nn.ReLU(),\n",
    "                                torch.nn.Dropout(0.1),\n",
    "                                torch.nn.Linear(256, len(class_names)))"
   ]
  },
  {
   "cell_type": "code",
   "execution_count": 6,
   "id": "cbf0b072",
   "metadata": {},
   "outputs": [],
   "source": [
    "def Focal_loss(class_logits,  labels):\n",
    "    if class_logits.numel() == 0:\n",
    "        return class_logits.new_zeros([1])[0]\n",
    "\n",
    "    N = class_logits.shape[0]\n",
    "    K = class_logits.shape[1] \n",
    "\n",
    "    target = class_logits.new_zeros(N, K)\n",
    "    target[range(len(labels)), labels] = 1\n",
    "    loss = sigmoid_focal_loss(class_logits, target, reduction = 'mean')\n",
    "    return loss "
   ]
  },
  {
   "cell_type": "code",
   "execution_count": 7,
   "id": "e281a194",
   "metadata": {},
   "outputs": [
    {
     "name": "stderr",
     "output_type": "stream",
     "text": [
      "100%|███████████████████████████████████████████████████████████████████████████████████████████████████████████████████████████████████████████████████████████████████████████████████████████████████████████████████████████████████████████████████████████████████████████████████| 450/450 [00:51<00:00,  8.75it/s]"
     ]
    },
    {
     "name": "stdout",
     "output_type": "stream",
     "text": [
      "14396\n"
     ]
    },
    {
     "name": "stderr",
     "output_type": "stream",
     "text": [
      "\n"
     ]
    },
    {
     "data": {
      "text/plain": [
       "array([ 0.29836269,  0.8553773 ,  4.31017964,  5.23490909, 17.77283951])"
      ]
     },
     "execution_count": 7,
     "metadata": {},
     "output_type": "execute_result"
    }
   ],
   "source": [
    "from sklearn.utils.class_weight import compute_class_weight\n",
    "y= []\n",
    "for _, y1 in tqdm(dataloaders['train']):\n",
    "    y = y+ y1.tolist()\n",
    "print(len(y))\n",
    "class_weight = compute_class_weight(class_weight=\"balanced\", classes=np.unique(y), y=y)\n",
    "class_weight"
   ]
  },
  {
   "cell_type": "code",
   "execution_count": null,
   "id": "334098de",
   "metadata": {},
   "outputs": [],
   "source": []
  },
  {
   "cell_type": "code",
   "execution_count": 8,
   "id": "451cf26d",
   "metadata": {},
   "outputs": [],
   "source": [
    "siamese50simclr = clf_model.to(device)\n",
    "momentum = 0.9\n",
    "lr = 0.001\n",
    "optimizer_ft = optim.SGD([{'params': siamese50simclr.fc.parameters()}], lr=lr, momentum=momentum)\n",
    "# optimizer_ft = optim.SGD([{'params': siamese50simclr.conv1.parameters()},\n",
    "#                         {'params': siamese50simclr.layer1.parameters()},\n",
    "#                         {'params':  siamese50simclr.layer2.parameters()},\n",
    "#                         {'params': siamese50simclr.layer3.parameters()},\n",
    "#                         {'params': siamese50simclr.layer4.parameters()},\n",
    "#                         {'params': siamese50simclr.fc.parameters(), 'lr':lr*10}], lr=lr, momentum=momentum)\n",
    "class_weights=torch.tensor(class_weight,dtype=torch.float).to(device)\n",
    "loss_fn = torch.nn.CrossEntropyLoss(weight=class_weights)\n",
    "#loss_fn= Focal_loss\n",
    "scheduler = lr_scheduler.StepLR(optimizer_ft, step_size=10, gamma=0.5)\n",
    "\n",
    "for param in siamese50simclr.parameters():\n",
    "    param.requires_grad = False\n",
    "for param in siamese50simclr.fc.parameters():\n",
    "    param.requires_grad = True"
   ]
  },
  {
   "cell_type": "code",
   "execution_count": 9,
   "id": "de023b5c",
   "metadata": {
    "scrolled": true
   },
   "outputs": [
    {
     "name": "stderr",
     "output_type": "stream",
     "text": [
      "100%|███████████████████████████████████████████████████████████████████████████████████████████████████████████████████████████████████████████████████████████████████████████████████████████████████████████████████████████████████████████████████████████████████████████████████| 450/450 [00:56<00:00,  7.96it/s]\n"
     ]
    },
    {
     "name": "stdout",
     "output_type": "stream",
     "text": [
      "New best mode at epoch 0\n",
      "E0 With LR 0.001 training acc:  0.3952486801889414 Val acc:  0.5548628428927681 traning loss:  1.5899672112752412 f1 0.18988106329581417\n"
     ]
    },
    {
     "name": "stderr",
     "output_type": "stream",
     "text": [
      "100%|███████████████████████████████████████████████████████████████████████████████████████████████████████████████████████████████████████████████████████████████████████████████████████████████████████████████████████████████████████████████████████████████████████████████████| 450/450 [00:49<00:00,  9.12it/s]\n"
     ]
    },
    {
     "name": "stdout",
     "output_type": "stream",
     "text": [
      "New best mode at epoch 1\n",
      "E1 With LR 0.001 training acc:  0.43519033064740203 Val acc:  0.5723192019950125 traning loss:  1.564874430436762 f1 0.2339485511742513\n"
     ]
    },
    {
     "name": "stderr",
     "output_type": "stream",
     "text": [
      "100%|███████████████████████████████████████████████████████████████████████████████████████████████████████████████████████████████████████████████████████████████████████████████████████████████████████████████████████████████████████████████████████████████████████████████████| 450/450 [00:49<00:00,  9.12it/s]\n"
     ]
    },
    {
     "name": "stdout",
     "output_type": "stream",
     "text": [
      "E2 With LR 0.001 training acc:  0.4524868018894137 Val acc:  0.3933915211970075 traning loss:  1.5344653026565442 f1 0.20525334509912585\n"
     ]
    },
    {
     "name": "stderr",
     "output_type": "stream",
     "text": [
      "100%|███████████████████████████████████████████████████████████████████████████████████████████████████████████████████████████████████████████████████████████████████████████████████████████████████████████████████████████████████████████████████████████████████████████████████| 450/450 [00:49<00:00,  9.13it/s]\n"
     ]
    },
    {
     "name": "stdout",
     "output_type": "stream",
     "text": [
      "E3 With LR 0.001 training acc:  0.44220616838010557 Val acc:  0.23379052369077308 traning loss:  1.5110807537071969 f1 0.15690675048908578\n"
     ]
    },
    {
     "name": "stderr",
     "output_type": "stream",
     "text": [
      "100%|███████████████████████████████████████████████████████████████████████████████████████████████████████████████████████████████████████████████████████████████████████████████████████████████████████████████████████████████████████████████████████████████████████████████████| 450/450 [00:49<00:00,  9.15it/s]\n"
     ]
    },
    {
     "name": "stdout",
     "output_type": "stream",
     "text": [
      "E4 With LR 0.001 training acc:  0.37572936926924144 Val acc:  0.4014962593516209 traning loss:  1.50026195361966 f1 0.2235958162218677\n"
     ]
    },
    {
     "name": "stderr",
     "output_type": "stream",
     "text": [
      "100%|███████████████████████████████████████████████████████████████████████████████████████████████████████████████████████████████████████████████████████████████████████████████████████████████████████████████████████████████████████████████████████████████████████████████████| 450/450 [00:49<00:00,  9.18it/s]\n"
     ]
    },
    {
     "name": "stdout",
     "output_type": "stream",
     "text": [
      "New best mode at epoch 5\n",
      "E5 With LR 0.001 training acc:  0.39545707140872466 Val acc:  0.422069825436409 traning loss:  1.4854139537902697 f1 0.24375393862293646\n"
     ]
    },
    {
     "name": "stderr",
     "output_type": "stream",
     "text": [
      "100%|███████████████████████████████████████████████████████████████████████████████████████████████████████████████████████████████████████████████████████████████████████████████████████████████████████████████████████████████████████████████████████████████████████████████████| 450/450 [00:49<00:00,  9.14it/s]\n"
     ]
    },
    {
     "name": "stdout",
     "output_type": "stream",
     "text": [
      "E6 With LR 0.001 training acc:  0.40309808280077797 Val acc:  0.45074812967581046 traning loss:  1.4782492092298978 f1 0.2425257466291349\n"
     ]
    },
    {
     "name": "stderr",
     "output_type": "stream",
     "text": [
      "100%|███████████████████████████████████████████████████████████████████████████████████████████████████████████████████████████████████████████████████████████████████████████████████████████████████████████████████████████████████████████████████████████████████████████████████| 450/450 [00:49<00:00,  9.17it/s]\n"
     ]
    },
    {
     "name": "stdout",
     "output_type": "stream",
     "text": [
      "E7 With LR 0.001 training acc:  0.3993470408446791 Val acc:  0.3765586034912718 traning loss:  1.4681325842520037 f1 0.21178417798581167\n"
     ]
    },
    {
     "name": "stderr",
     "output_type": "stream",
     "text": [
      "100%|███████████████████████████████████████████████████████████████████████████████████████████████████████████████████████████████████████████████████████████████████████████████████████████████████████████████████████████████████████████████████████████████████████████████████| 450/450 [00:49<00:00,  9.10it/s]\n"
     ]
    },
    {
     "name": "stdout",
     "output_type": "stream",
     "text": [
      "New best mode at epoch 8\n",
      "E8 With LR 0.001 training acc:  0.40198666296193386 Val acc:  0.41458852867830426 traning loss:  1.4657636014214155 f1 0.25195779071481816\n"
     ]
    },
    {
     "name": "stderr",
     "output_type": "stream",
     "text": [
      "100%|███████████████████████████████████████████████████████████████████████████████████████████████████████████████████████████████████████████████████████████████████████████████████████████████████████████████████████████████████████████████████████████████████████████████████| 450/450 [00:49<00:00,  9.13it/s]\n"
     ]
    },
    {
     "name": "stdout",
     "output_type": "stream",
     "text": [
      "E9 With LR 0.001 training acc:  0.37996665740483465 Val acc:  0.31733167082294267 traning loss:  1.4572633972894022 f1 0.21980098562597492\n"
     ]
    },
    {
     "name": "stderr",
     "output_type": "stream",
     "text": [
      "100%|███████████████████████████████████████████████████████████████████████████████████████████████████████████████████████████████████████████████████████████████████████████████████████████████████████████████████████████████████████████████████████████████████████████████████| 450/450 [00:49<00:00,  9.12it/s]\n"
     ]
    },
    {
     "name": "stdout",
     "output_type": "stream",
     "text": [
      "New best mode at epoch 10\n",
      "E10 With LR 0.001 training acc:  0.3748958043901084 Val acc:  0.4376558603491272 traning loss:  1.4436989176369401 f1 0.26075292502046804\n"
     ]
    },
    {
     "name": "stderr",
     "output_type": "stream",
     "text": [
      "100%|███████████████████████████████████████████████████████████████████████████████████████████████████████████████████████████████████████████████████████████████████████████████████████████████████████████████████████████████████████████████████████████████████████████████████| 450/450 [00:48<00:00,  9.22it/s]\n"
     ]
    },
    {
     "name": "stdout",
     "output_type": "stream",
     "text": [
      "New best mode at epoch 11\n",
      "E11 With LR 0.001 training acc:  0.3858016115587663 Val acc:  0.42643391521197005 traning loss:  1.454368064522114 f1 0.26368708893860593\n"
     ]
    },
    {
     "name": "stderr",
     "output_type": "stream",
     "text": [
      "100%|███████████████████████████████████████████████████████████████████████████████████████████████████████████████████████████████████████████████████████████████████████████████████████████████████████████████████████████████████████████████████████████████████████████████████| 450/450 [00:49<00:00,  9.15it/s]\n"
     ]
    },
    {
     "name": "stdout",
     "output_type": "stream",
     "text": [
      "New best mode at epoch 12\n",
      "E12 With LR 0.001 training acc:  0.38955265351486523 Val acc:  0.43516209476309226 traning loss:  1.444794810358171 f1 0.2690231180472078\n"
     ]
    },
    {
     "name": "stderr",
     "output_type": "stream",
     "text": [
      "100%|███████████████████████████████████████████████████████████████████████████████████████████████████████████████████████████████████████████████████████████████████████████████████████████████████████████████████████████████████████████████████████████████████████████████████| 450/450 [00:49<00:00,  9.10it/s]\n"
     ]
    },
    {
     "name": "stdout",
     "output_type": "stream",
     "text": [
      "E13 With LR 0.001 training acc:  0.3687135315365379 Val acc:  0.3329177057356609 traning loss:  1.4347067668259756 f1 0.22160404491031627\n"
     ]
    },
    {
     "name": "stderr",
     "output_type": "stream",
     "text": [
      "100%|███████████████████████████████████████████████████████████████████████████████████████████████████████████████████████████████████████████████████████████████████████████████████████████████████████████████████████████████████████████████████████████████████████████████████| 450/450 [00:49<00:00,  9.09it/s]\n"
     ]
    },
    {
     "name": "stdout",
     "output_type": "stream",
     "text": [
      "E14 With LR 0.001 training acc:  0.3768407891080856 Val acc:  0.44576059850374067 traning loss:  1.4309590535383816 f1 0.2609873678521106\n"
     ]
    },
    {
     "name": "stderr",
     "output_type": "stream",
     "text": [
      "100%|███████████████████████████████████████████████████████████████████████████████████████████████████████████████████████████████████████████████████████████████████████████████████████████████████████████████████████████████████████████████████████████████████████████████████| 450/450 [00:49<00:00,  9.14it/s]\n"
     ]
    },
    {
     "name": "stdout",
     "output_type": "stream",
     "text": [
      "E15 With LR 0.001 training acc:  0.37329813837176995 Val acc:  0.26683291770573564 traning loss:  1.42608377088206 f1 0.18755332191934132\n"
     ]
    },
    {
     "name": "stderr",
     "output_type": "stream",
     "text": [
      "100%|███████████████████████████████████████████████████████████████████████████████████████████████████████████████████████████████████████████████████████████████████████████████████████████████████████████████████████████████████████████████████████████████████████████████████| 450/450 [00:49<00:00,  9.14it/s]\n"
     ]
    },
    {
     "name": "stdout",
     "output_type": "stream",
     "text": [
      "New best mode at epoch 16\n",
      "E16 With LR 0.001 training acc:  0.36669908307863297 Val acc:  0.4607231920199501 traning loss:  1.4216034703865486 f1 0.2719777562736413\n"
     ]
    },
    {
     "name": "stderr",
     "output_type": "stream",
     "text": [
      "100%|███████████████████████████████████████████████████████████████████████████████████████████████████████████████████████████████████████████████████████████████████████████████████████████████████████████████████████████████████████████████████████████████████████████████████| 450/450 [00:49<00:00,  9.15it/s]\n"
     ]
    },
    {
     "name": "stdout",
     "output_type": "stream",
     "text": [
      "E17 With LR 0.001 training acc:  0.387329813837177 Val acc:  0.42144638403990026 traning loss:  1.415451991819746 f1 0.2505935538856881\n"
     ]
    },
    {
     "name": "stderr",
     "output_type": "stream",
     "text": [
      "100%|███████████████████████████████████████████████████████████████████████████████████████████████████████████████████████████████████████████████████████████████████████████████████████████████████████████████████████████████████████████████████████████████████████████████████| 450/450 [00:49<00:00,  9.10it/s]\n"
     ]
    },
    {
     "name": "stdout",
     "output_type": "stream",
     "text": [
      "E18 With LR 0.001 training acc:  0.371561544873576 Val acc:  0.4869077306733167 traning loss:  1.4112996379346707 f1 0.26959354306354655\n"
     ]
    },
    {
     "name": "stderr",
     "output_type": "stream",
     "text": [
      "100%|███████████████████████████████████████████████████████████████████████████████████████████████████████████████████████████████████████████████████████████████████████████████████████████████████████████████████████████████████████████████████████████████████████████████████| 450/450 [00:49<00:00,  9.14it/s]\n"
     ]
    },
    {
     "name": "stdout",
     "output_type": "stream",
     "text": [
      "E19 With LR 0.001 training acc:  0.37871631008613504 Val acc:  0.35099750623441395 traning loss:  1.4026041844050796 f1 0.21965175398502162\n"
     ]
    }
   ],
   "source": [
    "from sklearn.metrics import f1_score\n",
    "# bestmodel = siamese50simclr\n",
    "f1max = 0\n",
    "for e in range(20):\n",
    "    training_acc = 0\n",
    "    val_acc = 0\n",
    "    training_loss_test = 0.0\n",
    "\n",
    "    for inputs, labels in tqdm(dataloaders['train'], total= len(dataloaders['train'])):\n",
    "        siamese50simclr.train()\n",
    "        inputs = inputs.to(device)\n",
    "        labels = labels.to(device)\n",
    "        # zero the parameter gradients\n",
    "        optimizer_ft.zero_grad()\n",
    "\n",
    "        outputs = siamese50simclr(inputs)\n",
    "        _, preds = torch.max(outputs, 1)\n",
    "        loss = loss_fn(outputs, labels)\n",
    "        loss.backward()\n",
    "        optimizer_ft.step()\n",
    "        training_loss_test += loss.item() * inputs.size(0)\n",
    "        training_acc += torch.sum(preds == labels.data)\n",
    "    predlist = []\n",
    "    labelist = []\n",
    "    for inputs, labels in dataloaders['val']:\n",
    "        siamese50simclr.eval()\n",
    "        inputs = inputs.to(device)\n",
    "        labels = labels.to(device)\n",
    "\n",
    "        with torch.no_grad():\n",
    "            outputs = siamese50simclr(inputs)\n",
    "            _, preds = torch.max(outputs, 1)\n",
    "            loss = loss_fn(outputs, labels)\n",
    "        labelist.append(labels.detach().cpu().numpy()*1)\n",
    "        predlist.append(preds.detach().cpu().numpy())\n",
    "        val_acc += torch.sum(preds == labels.data)\n",
    "    labelist = np.concatenate(labelist).ravel()\n",
    "    predlist = np.concatenate(predlist).ravel()\n",
    "    f1 = f1_score(predlist, labelist, average ='macro')\n",
    "    if(f1 >= f1max):\n",
    "        f1max = f1\n",
    "        print(f\"New best mode at epoch {e}\")\n",
    "        today = date.today()\n",
    "        torch.save(siamese50simclr.state_dict(), f'pretrained/best-classification-siamese50simclr-SimCLR-{today}.pt')\n",
    "    torch.save(siamese50simclr.state_dict(), f'pretrained/last-classification-siamese50simclr-SimCLR-{today}.pt')\n",
    "    #scheduler.step()\n",
    "\n",
    "    print(f\"E{e} With LR {optimizer_ft.param_groups[0]['lr']} training acc: \", training_acc.detach().cpu().numpy() / dataset_sizes['train'], \"Val acc: \", val_acc.detach().cpu().numpy() / dataset_sizes['val'], \"traning loss: \", training_loss_test / dataset_sizes['train'], \"f1\", f1)"
   ]
  },
  {
   "cell_type": "code",
   "execution_count": 10,
   "id": "bd408c57",
   "metadata": {},
   "outputs": [
    {
     "data": {
      "text/plain": [
       "ResNet(\n",
       "  (conv1): Conv2d(3, 64, kernel_size=(7, 7), stride=(2, 2), padding=(3, 3), bias=False)\n",
       "  (bn1): BatchNorm2d(64, eps=1e-05, momentum=0.1, affine=True, track_running_stats=True)\n",
       "  (relu): ReLU(inplace=True)\n",
       "  (maxpool): MaxPool2d(kernel_size=3, stride=2, padding=1, dilation=1, ceil_mode=False)\n",
       "  (layer1): Sequential(\n",
       "    (0): Bottleneck(\n",
       "      (conv1): Conv2d(64, 64, kernel_size=(1, 1), stride=(1, 1), bias=False)\n",
       "      (bn1): BatchNorm2d(64, eps=1e-05, momentum=0.1, affine=True, track_running_stats=True)\n",
       "      (conv2): Conv2d(64, 64, kernel_size=(3, 3), stride=(1, 1), padding=(1, 1), bias=False)\n",
       "      (bn2): BatchNorm2d(64, eps=1e-05, momentum=0.1, affine=True, track_running_stats=True)\n",
       "      (conv3): Conv2d(64, 256, kernel_size=(1, 1), stride=(1, 1), bias=False)\n",
       "      (bn3): BatchNorm2d(256, eps=1e-05, momentum=0.1, affine=True, track_running_stats=True)\n",
       "      (relu): ReLU(inplace=True)\n",
       "      (downsample): Sequential(\n",
       "        (0): Conv2d(64, 256, kernel_size=(1, 1), stride=(1, 1), bias=False)\n",
       "        (1): BatchNorm2d(256, eps=1e-05, momentum=0.1, affine=True, track_running_stats=True)\n",
       "      )\n",
       "    )\n",
       "    (1): Bottleneck(\n",
       "      (conv1): Conv2d(256, 64, kernel_size=(1, 1), stride=(1, 1), bias=False)\n",
       "      (bn1): BatchNorm2d(64, eps=1e-05, momentum=0.1, affine=True, track_running_stats=True)\n",
       "      (conv2): Conv2d(64, 64, kernel_size=(3, 3), stride=(1, 1), padding=(1, 1), bias=False)\n",
       "      (bn2): BatchNorm2d(64, eps=1e-05, momentum=0.1, affine=True, track_running_stats=True)\n",
       "      (conv3): Conv2d(64, 256, kernel_size=(1, 1), stride=(1, 1), bias=False)\n",
       "      (bn3): BatchNorm2d(256, eps=1e-05, momentum=0.1, affine=True, track_running_stats=True)\n",
       "      (relu): ReLU(inplace=True)\n",
       "    )\n",
       "    (2): Bottleneck(\n",
       "      (conv1): Conv2d(256, 64, kernel_size=(1, 1), stride=(1, 1), bias=False)\n",
       "      (bn1): BatchNorm2d(64, eps=1e-05, momentum=0.1, affine=True, track_running_stats=True)\n",
       "      (conv2): Conv2d(64, 64, kernel_size=(3, 3), stride=(1, 1), padding=(1, 1), bias=False)\n",
       "      (bn2): BatchNorm2d(64, eps=1e-05, momentum=0.1, affine=True, track_running_stats=True)\n",
       "      (conv3): Conv2d(64, 256, kernel_size=(1, 1), stride=(1, 1), bias=False)\n",
       "      (bn3): BatchNorm2d(256, eps=1e-05, momentum=0.1, affine=True, track_running_stats=True)\n",
       "      (relu): ReLU(inplace=True)\n",
       "    )\n",
       "  )\n",
       "  (layer2): Sequential(\n",
       "    (0): Bottleneck(\n",
       "      (conv1): Conv2d(256, 128, kernel_size=(1, 1), stride=(1, 1), bias=False)\n",
       "      (bn1): BatchNorm2d(128, eps=1e-05, momentum=0.1, affine=True, track_running_stats=True)\n",
       "      (conv2): Conv2d(128, 128, kernel_size=(3, 3), stride=(2, 2), padding=(1, 1), bias=False)\n",
       "      (bn2): BatchNorm2d(128, eps=1e-05, momentum=0.1, affine=True, track_running_stats=True)\n",
       "      (conv3): Conv2d(128, 512, kernel_size=(1, 1), stride=(1, 1), bias=False)\n",
       "      (bn3): BatchNorm2d(512, eps=1e-05, momentum=0.1, affine=True, track_running_stats=True)\n",
       "      (relu): ReLU(inplace=True)\n",
       "      (downsample): Sequential(\n",
       "        (0): Conv2d(256, 512, kernel_size=(1, 1), stride=(2, 2), bias=False)\n",
       "        (1): BatchNorm2d(512, eps=1e-05, momentum=0.1, affine=True, track_running_stats=True)\n",
       "      )\n",
       "    )\n",
       "    (1): Bottleneck(\n",
       "      (conv1): Conv2d(512, 128, kernel_size=(1, 1), stride=(1, 1), bias=False)\n",
       "      (bn1): BatchNorm2d(128, eps=1e-05, momentum=0.1, affine=True, track_running_stats=True)\n",
       "      (conv2): Conv2d(128, 128, kernel_size=(3, 3), stride=(1, 1), padding=(1, 1), bias=False)\n",
       "      (bn2): BatchNorm2d(128, eps=1e-05, momentum=0.1, affine=True, track_running_stats=True)\n",
       "      (conv3): Conv2d(128, 512, kernel_size=(1, 1), stride=(1, 1), bias=False)\n",
       "      (bn3): BatchNorm2d(512, eps=1e-05, momentum=0.1, affine=True, track_running_stats=True)\n",
       "      (relu): ReLU(inplace=True)\n",
       "    )\n",
       "    (2): Bottleneck(\n",
       "      (conv1): Conv2d(512, 128, kernel_size=(1, 1), stride=(1, 1), bias=False)\n",
       "      (bn1): BatchNorm2d(128, eps=1e-05, momentum=0.1, affine=True, track_running_stats=True)\n",
       "      (conv2): Conv2d(128, 128, kernel_size=(3, 3), stride=(1, 1), padding=(1, 1), bias=False)\n",
       "      (bn2): BatchNorm2d(128, eps=1e-05, momentum=0.1, affine=True, track_running_stats=True)\n",
       "      (conv3): Conv2d(128, 512, kernel_size=(1, 1), stride=(1, 1), bias=False)\n",
       "      (bn3): BatchNorm2d(512, eps=1e-05, momentum=0.1, affine=True, track_running_stats=True)\n",
       "      (relu): ReLU(inplace=True)\n",
       "    )\n",
       "    (3): Bottleneck(\n",
       "      (conv1): Conv2d(512, 128, kernel_size=(1, 1), stride=(1, 1), bias=False)\n",
       "      (bn1): BatchNorm2d(128, eps=1e-05, momentum=0.1, affine=True, track_running_stats=True)\n",
       "      (conv2): Conv2d(128, 128, kernel_size=(3, 3), stride=(1, 1), padding=(1, 1), bias=False)\n",
       "      (bn2): BatchNorm2d(128, eps=1e-05, momentum=0.1, affine=True, track_running_stats=True)\n",
       "      (conv3): Conv2d(128, 512, kernel_size=(1, 1), stride=(1, 1), bias=False)\n",
       "      (bn3): BatchNorm2d(512, eps=1e-05, momentum=0.1, affine=True, track_running_stats=True)\n",
       "      (relu): ReLU(inplace=True)\n",
       "    )\n",
       "  )\n",
       "  (layer3): Sequential(\n",
       "    (0): Bottleneck(\n",
       "      (conv1): Conv2d(512, 256, kernel_size=(1, 1), stride=(1, 1), bias=False)\n",
       "      (bn1): BatchNorm2d(256, eps=1e-05, momentum=0.1, affine=True, track_running_stats=True)\n",
       "      (conv2): Conv2d(256, 256, kernel_size=(3, 3), stride=(2, 2), padding=(1, 1), bias=False)\n",
       "      (bn2): BatchNorm2d(256, eps=1e-05, momentum=0.1, affine=True, track_running_stats=True)\n",
       "      (conv3): Conv2d(256, 1024, kernel_size=(1, 1), stride=(1, 1), bias=False)\n",
       "      (bn3): BatchNorm2d(1024, eps=1e-05, momentum=0.1, affine=True, track_running_stats=True)\n",
       "      (relu): ReLU(inplace=True)\n",
       "      (downsample): Sequential(\n",
       "        (0): Conv2d(512, 1024, kernel_size=(1, 1), stride=(2, 2), bias=False)\n",
       "        (1): BatchNorm2d(1024, eps=1e-05, momentum=0.1, affine=True, track_running_stats=True)\n",
       "      )\n",
       "    )\n",
       "    (1): Bottleneck(\n",
       "      (conv1): Conv2d(1024, 256, kernel_size=(1, 1), stride=(1, 1), bias=False)\n",
       "      (bn1): BatchNorm2d(256, eps=1e-05, momentum=0.1, affine=True, track_running_stats=True)\n",
       "      (conv2): Conv2d(256, 256, kernel_size=(3, 3), stride=(1, 1), padding=(1, 1), bias=False)\n",
       "      (bn2): BatchNorm2d(256, eps=1e-05, momentum=0.1, affine=True, track_running_stats=True)\n",
       "      (conv3): Conv2d(256, 1024, kernel_size=(1, 1), stride=(1, 1), bias=False)\n",
       "      (bn3): BatchNorm2d(1024, eps=1e-05, momentum=0.1, affine=True, track_running_stats=True)\n",
       "      (relu): ReLU(inplace=True)\n",
       "    )\n",
       "    (2): Bottleneck(\n",
       "      (conv1): Conv2d(1024, 256, kernel_size=(1, 1), stride=(1, 1), bias=False)\n",
       "      (bn1): BatchNorm2d(256, eps=1e-05, momentum=0.1, affine=True, track_running_stats=True)\n",
       "      (conv2): Conv2d(256, 256, kernel_size=(3, 3), stride=(1, 1), padding=(1, 1), bias=False)\n",
       "      (bn2): BatchNorm2d(256, eps=1e-05, momentum=0.1, affine=True, track_running_stats=True)\n",
       "      (conv3): Conv2d(256, 1024, kernel_size=(1, 1), stride=(1, 1), bias=False)\n",
       "      (bn3): BatchNorm2d(1024, eps=1e-05, momentum=0.1, affine=True, track_running_stats=True)\n",
       "      (relu): ReLU(inplace=True)\n",
       "    )\n",
       "    (3): Bottleneck(\n",
       "      (conv1): Conv2d(1024, 256, kernel_size=(1, 1), stride=(1, 1), bias=False)\n",
       "      (bn1): BatchNorm2d(256, eps=1e-05, momentum=0.1, affine=True, track_running_stats=True)\n",
       "      (conv2): Conv2d(256, 256, kernel_size=(3, 3), stride=(1, 1), padding=(1, 1), bias=False)\n",
       "      (bn2): BatchNorm2d(256, eps=1e-05, momentum=0.1, affine=True, track_running_stats=True)\n",
       "      (conv3): Conv2d(256, 1024, kernel_size=(1, 1), stride=(1, 1), bias=False)\n",
       "      (bn3): BatchNorm2d(1024, eps=1e-05, momentum=0.1, affine=True, track_running_stats=True)\n",
       "      (relu): ReLU(inplace=True)\n",
       "    )\n",
       "    (4): Bottleneck(\n",
       "      (conv1): Conv2d(1024, 256, kernel_size=(1, 1), stride=(1, 1), bias=False)\n",
       "      (bn1): BatchNorm2d(256, eps=1e-05, momentum=0.1, affine=True, track_running_stats=True)\n",
       "      (conv2): Conv2d(256, 256, kernel_size=(3, 3), stride=(1, 1), padding=(1, 1), bias=False)\n",
       "      (bn2): BatchNorm2d(256, eps=1e-05, momentum=0.1, affine=True, track_running_stats=True)\n",
       "      (conv3): Conv2d(256, 1024, kernel_size=(1, 1), stride=(1, 1), bias=False)\n",
       "      (bn3): BatchNorm2d(1024, eps=1e-05, momentum=0.1, affine=True, track_running_stats=True)\n",
       "      (relu): ReLU(inplace=True)\n",
       "    )\n",
       "    (5): Bottleneck(\n",
       "      (conv1): Conv2d(1024, 256, kernel_size=(1, 1), stride=(1, 1), bias=False)\n",
       "      (bn1): BatchNorm2d(256, eps=1e-05, momentum=0.1, affine=True, track_running_stats=True)\n",
       "      (conv2): Conv2d(256, 256, kernel_size=(3, 3), stride=(1, 1), padding=(1, 1), bias=False)\n",
       "      (bn2): BatchNorm2d(256, eps=1e-05, momentum=0.1, affine=True, track_running_stats=True)\n",
       "      (conv3): Conv2d(256, 1024, kernel_size=(1, 1), stride=(1, 1), bias=False)\n",
       "      (bn3): BatchNorm2d(1024, eps=1e-05, momentum=0.1, affine=True, track_running_stats=True)\n",
       "      (relu): ReLU(inplace=True)\n",
       "    )\n",
       "  )\n",
       "  (layer4): Sequential(\n",
       "    (0): Bottleneck(\n",
       "      (conv1): Conv2d(1024, 512, kernel_size=(1, 1), stride=(1, 1), bias=False)\n",
       "      (bn1): BatchNorm2d(512, eps=1e-05, momentum=0.1, affine=True, track_running_stats=True)\n",
       "      (conv2): Conv2d(512, 512, kernel_size=(3, 3), stride=(2, 2), padding=(1, 1), bias=False)\n",
       "      (bn2): BatchNorm2d(512, eps=1e-05, momentum=0.1, affine=True, track_running_stats=True)\n",
       "      (conv3): Conv2d(512, 2048, kernel_size=(1, 1), stride=(1, 1), bias=False)\n",
       "      (bn3): BatchNorm2d(2048, eps=1e-05, momentum=0.1, affine=True, track_running_stats=True)\n",
       "      (relu): ReLU(inplace=True)\n",
       "      (downsample): Sequential(\n",
       "        (0): Conv2d(1024, 2048, kernel_size=(1, 1), stride=(2, 2), bias=False)\n",
       "        (1): BatchNorm2d(2048, eps=1e-05, momentum=0.1, affine=True, track_running_stats=True)\n",
       "      )\n",
       "    )\n",
       "    (1): Bottleneck(\n",
       "      (conv1): Conv2d(2048, 512, kernel_size=(1, 1), stride=(1, 1), bias=False)\n",
       "      (bn1): BatchNorm2d(512, eps=1e-05, momentum=0.1, affine=True, track_running_stats=True)\n",
       "      (conv2): Conv2d(512, 512, kernel_size=(3, 3), stride=(1, 1), padding=(1, 1), bias=False)\n",
       "      (bn2): BatchNorm2d(512, eps=1e-05, momentum=0.1, affine=True, track_running_stats=True)\n",
       "      (conv3): Conv2d(512, 2048, kernel_size=(1, 1), stride=(1, 1), bias=False)\n",
       "      (bn3): BatchNorm2d(2048, eps=1e-05, momentum=0.1, affine=True, track_running_stats=True)\n",
       "      (relu): ReLU(inplace=True)\n",
       "    )\n",
       "    (2): Bottleneck(\n",
       "      (conv1): Conv2d(2048, 512, kernel_size=(1, 1), stride=(1, 1), bias=False)\n",
       "      (bn1): BatchNorm2d(512, eps=1e-05, momentum=0.1, affine=True, track_running_stats=True)\n",
       "      (conv2): Conv2d(512, 512, kernel_size=(3, 3), stride=(1, 1), padding=(1, 1), bias=False)\n",
       "      (bn2): BatchNorm2d(512, eps=1e-05, momentum=0.1, affine=True, track_running_stats=True)\n",
       "      (conv3): Conv2d(512, 2048, kernel_size=(1, 1), stride=(1, 1), bias=False)\n",
       "      (bn3): BatchNorm2d(2048, eps=1e-05, momentum=0.1, affine=True, track_running_stats=True)\n",
       "      (relu): ReLU(inplace=True)\n",
       "    )\n",
       "  )\n",
       "  (avgpool): AdaptiveAvgPool2d(output_size=(1, 1))\n",
       "  (fc): Sequential(\n",
       "    (0): Linear(in_features=2048, out_features=1000, bias=True)\n",
       "    (1): ReLU()\n",
       "    (2): Dropout(p=0.1, inplace=False)\n",
       "    (3): Linear(in_features=1000, out_features=256, bias=True)\n",
       "    (4): ReLU()\n",
       "    (5): Dropout(p=0.1, inplace=False)\n",
       "    (6): Linear(in_features=256, out_features=5, bias=True)\n",
       "  )\n",
       ")"
      ]
     },
     "execution_count": 10,
     "metadata": {},
     "output_type": "execute_result"
    }
   ],
   "source": [
    "bestmodel = models.resnet50(weights='ResNet50_Weights.DEFAULT')#get_feature_extractor(feature_extractor='resnet50', cotrain=False)#, simclr='/mnt/c/Users/PCM/Documents/GitHub/pseudopapill/SimCLR/runs/Oct29_21-00-13_DESKTOP-404G4HS/checkpoint_95_29102023.pth.tar')\n",
    "\n",
    "bestmodel.fc = nn.Sequential(torch.nn.Linear(2048, 1000),\n",
    "                                torch.nn.ReLU(),\n",
    "                                torch.nn.Dropout(0.1),\n",
    "                                torch.nn.Linear(1000, 256),\n",
    "                                # torch.nn.Linear(256, 256),\n",
    "                                # torch.nn.ReLU(),\n",
    "                                # torch.nn.Dropout(0.1),\n",
    "                                # torch.nn.Linear(256, 256),\n",
    "                                torch.nn.ReLU(),\n",
    "                                torch.nn.Dropout(0.1),\n",
    "                                torch.nn.Linear(256, len(class_names)))\n",
    "bestmodel.load_state_dict(torch.load(f'pretrained/best-classification-siamese50simclr-SimCLR-2024-03-25.pt'))\n",
    "bestmodel.to(device)"
   ]
  },
  {
   "cell_type": "code",
   "execution_count": 11,
   "id": "725e1691",
   "metadata": {},
   "outputs": [],
   "source": [
    "test_acc = 0\n",
    "predlist = []\n",
    "labelist = []\n",
    "problist = []\n",
    "# test_embeddings = torch.zeros((0, 2048))\n",
    "sedis = 0\n",
    "# fextractor = torch.nn.Sequential(*(list(clf_model.children())[:-1]))\n",
    "\n",
    "for inputs, labels in dataloaders['test']:\n",
    "    bestmodel.eval()\n",
    "    inputs = inputs.to(device)\n",
    "    labels = labels.to(device)\n",
    "\n",
    "    with torch.no_grad():\n",
    "        outputs = bestmodel(inputs)\n",
    "        # emb = fextractor(inputs)\n",
    "        _, preds = torch.max(outputs, 1)\n",
    "        # loss = loss_fn(outputs, labels)\n",
    "        sedis = sedis + torch.sum(torch.exp(torch.abs(labels - torch.max(outputs, 1)[1])))\n",
    "    problist.append(outputs[:,1].detach().cpu().numpy())\n",
    "    labelist.append(labels.detach().cpu().numpy()*1)\n",
    "    predlist.append(preds.detach().cpu().numpy())\n",
    "    # test_embeddings  = torch.cat((test_embeddings, emb.detach().cpu().flatten().unsqueeze(0)), axis=0)\n",
    "    test_acc += torch.sum(preds == labels.data)\n",
    "\n",
    "labelist = np.concatenate(labelist).ravel()\n",
    "problist = np.concatenate(problist).ravel()\n",
    "predlist = np.concatenate(predlist).ravel()\n",
    "# test_embeddings = np.array(test_embeddings)"
   ]
  },
  {
   "cell_type": "markdown",
   "id": "2771ef09",
   "metadata": {},
   "source": [
    "# Result"
   ]
  },
  {
   "cell_type": "code",
   "execution_count": 12,
   "id": "0f122a66",
   "metadata": {},
   "outputs": [
    {
     "name": "stdout",
     "output_type": "stream",
     "text": [
      "              precision    recall  f1-score   support\n",
      "\n",
      "           0      0.707     0.546     0.616      2682\n",
      "           1      0.261     0.283     0.272       934\n",
      "           2      0.078     0.258     0.120       186\n",
      "           3      0.123     0.125     0.124       152\n",
      "           4      0.172     0.565     0.264        46\n",
      "\n",
      "    accuracy                          0.455      4000\n",
      "   macro avg      0.268     0.355     0.279      4000\n",
      "weighted avg      0.546     0.455     0.490      4000\n",
      "\n"
     ]
    }
   ],
   "source": [
    "print(classification_report(labelist, predlist, digits=3))"
   ]
  },
  {
   "cell_type": "code",
   "execution_count": 13,
   "id": "05c9377e",
   "metadata": {},
   "outputs": [
    {
     "data": {
      "image/png": "[encoded data removed]",
      "text/plain": [
       "<Figure size 640x480 with 2 Axes>"
      ]
     },
     "metadata": {},
     "output_type": "display_data"
    }
   ],
   "source": [
    "from sklearn.metrics import confusion_matrix, ConfusionMatrixDisplay\n",
    "cm = confusion_matrix(labelist, predlist)\n",
    "disp = ConfusionMatrixDisplay(confusion_matrix=cm, display_labels=class_names)\n",
    "disp.plot()\n",
    "plt.show()\n"
   ]
  },
  {
   "cell_type": "code",
   "execution_count": null,
   "id": "1ab8a7c1",
   "metadata": {},
   "outputs": [],
   "source": []
  },
  {
   "cell_type": "code",
   "execution_count": null,
   "id": "93d7c31a",
   "metadata": {},
   "outputs": [],
   "source": []
  }
 ],
 "metadata": {
  "kernelspec": {
   "display_name": "Python 3 (ipykernel)",
   "language": "python",
   "name": "python3"
  },
  "language_info": {
   "codemirror_mode": {
    "name": "ipython",
    "version": 3
   },
   "file_extension": ".py",
   "mimetype": "text/x-python",
   "name": "python",
   "nbconvert_exporter": "python",
   "pygments_lexer": "ipython3",
   "version": "3.9.16"
  }
 },
 "nbformat": 4,
 "nbformat_minor": 5
}
