{
 "cells": [
  {
   "cell_type": "code",
   "execution_count": null,
   "metadata": {},
   "outputs": [],
   "source": [
    "args = {'log_to_file': False,\n",
    " 'verbose': False,\n",
    " 'autoencoder': 'temporal',\n",
    " 'save_model': False,\n",
    " 'tensorboard': False,\n",
    " 'encoder': 'vanilla_tcn',\n",
    " 'multiscale': False,\n",
    " 'causal_encoder': False,\n",
    " 'hierarchical': False,\n",
    " 'hz': 0,\n",
    " 'viewing_time': -1,\n",
    " 'signal_type': 'pos',\n",
    " 'slice_time_windows': None,\n",
    " 'augment': False,\n",
    " 'loss_type': '',\n",
    " 'use_validation_set': False,\n",
    " 'cuda': True,\n",
    " 'rec_loss': 'mse',\n",
    " 'batch_size': 64,\n",
    " 'epochs': 200,\n",
    " 'learning_rate': 0.0005,\n",
    " 'model_pos': 'pos-i3738',\n",
    " 'model_vel': 'vel-i8528',\n",
    " 'pca_components': 0,\n",
    " 'save_tsne_plot': True,\n",
    " 'cv_folds': 5,\n",
    " 'generate': False,\n",
    " 'task': ''}\n",
    "from argparse import Namespace\n",
    "args = Namespace(**args)"
   ]
  },
  {
   "cell_type": "code",
   "execution_count": null,
   "metadata": {},
   "outputs": [],
   "source": [
    "import sys\n",
    "sys.path.append('./gazemae/gazemae')\n",
    "from settings import *\n",
    "from network import ModelManager\n",
    "model = ModelManager(args, training=False)"
   ]
  },
  {
   "cell_type": "code",
   "execution_count": null,
   "metadata": {},
   "outputs": [],
   "source": [
    "from read_data import Subject\n",
    "sub0 = Subject('1003_3')\n",
    "data0, fr0 = sub0.readTrialData('Moviestillimage_1.jpg', vel=True)\n",
    "sub1 = Subject('1003_2')\n",
    "data1, fr1 = sub1.readTrialData('Moviestillimage_1.jpg', vel=True)\n"
   ]
  },
  {
   "cell_type": "code",
   "execution_count": null,
   "metadata": {},
   "outputs": [],
   "source": [
    "from read_data import Subject\n",
    "sub = Subject('1003_3')\n",
    "sub.extractFixations('Moviestillimage_8.jpg')\n",
    "\n"
   ]
  },
  {
   "cell_type": "code",
   "execution_count": null,
   "metadata": {},
   "outputs": [],
   "source": [
    "a = [d.split('\\t')[0] for d in sub.fixations[0][2]]\n",
    "b = [d.split('\\t')[0] for d in sub.fixations[0][1]]\n",
    "print(len(a), len(b))"
   ]
  },
  {
   "cell_type": "code",
   "execution_count": 1,
   "metadata": {},
   "outputs": [
    {
     "name": "stdout",
     "output_type": "stream",
     "text": [
      "1015_2 reading fixation\n",
      "2003_1 reading fixation\n",
      "1013_2 reading fixation\n",
      "1003_2 reading fixation\n",
      "1011_1 reading fixation\n",
      "1010_1 reading fixation\n",
      "1017_2 reading fixation\n",
      "1006_1 reading fixation\n",
      "1003_4 reading fixation\n",
      "1007_3 reading fixation\n",
      "2005_1 reading fixation\n",
      "1022_2 reading fixation\n",
      "2003_2 reading fixation\n",
      "2006_2 reading fixation\n",
      "2004_2 reading fixation\n",
      "1017_1 reading fixation\n",
      "2005_2 reading fixation\n",
      "1007_4 reading fixation\n",
      "1006_2 reading fixation\n",
      "1003_3 reading fixation\n",
      "1006_4 reading fixation\n",
      "1008_1 reading fixation\n",
      "1020_2 reading fixation\n",
      "2002_1 reading fixation\n",
      "2006_1 reading fixation\n",
      "1018_1 reading fixation\n",
      "1004_2 reading fixation\n",
      "2004_1 reading fixation\n",
      "1011_2 reading fixation\n",
      "1015_1 reading fixation\n",
      "1006_3 reading fixation\n",
      "1007_1 reading fixation\n",
      "1020_1 reading fixation\n",
      "1013_1 reading fixation\n",
      "1022_1 reading fixation\n",
      "1018_2 reading fixation\n",
      "1005_1 reading fixation\n",
      "1007_2 reading fixation\n",
      "2002_2 reading fixation\n",
      "1010_2 reading fixation\n",
      "1015_2\n",
      "2003_1\n",
      "1015_2 reading fixation\n",
      "2003_1 reading fixation\n",
      "1013_2 reading fixation\n",
      "1003_2 reading fixation\n",
      "1011_1 reading fixation\n",
      "1010_1 reading fixation\n",
      "1017_2 reading fixation\n",
      "1006_1 reading fixation\n",
      "1003_4 reading fixation\n",
      "1007_3 reading fixation\n",
      "2005_1 reading fixation\n",
      "1022_2 reading fixation\n",
      "2003_2 reading fixation\n",
      "2006_2 reading fixation\n",
      "2004_2 reading fixation\n",
      "1017_1 reading fixation\n",
      "2005_2 reading fixation\n"
     ]
    }
   ],
   "source": [
    "from read_data import SaliencyTrace\n",
    "st = SaliencyTrace()\n",
    "# st.readAllFixations('Moviestillimage_8.jpg')\n",
    "st.computeFixationTraceForAll('Freeviewingstillimage_17.jpg')"
   ]
  },
  {
   "cell_type": "code",
   "execution_count": 1,
   "metadata": {},
   "outputs": [],
   "source": [
    "from read_data import Subject\n",
    "sub = Subject('1003_3')\n",
    "fixations = sub.extractFixations('Moviestillimage_12.jpg')\n"
   ]
  },
  {
   "cell_type": "code",
   "execution_count": 3,
   "metadata": {},
   "outputs": [
    {
     "data": {
      "text/plain": [
       "'2594818'"
      ]
     },
     "execution_count": 3,
     "metadata": {},
     "output_type": "execute_result"
    }
   ],
   "source": [
    "sub.trial_numeric[0].split('\\t')[0]"
   ]
  },
  {
   "cell_type": "code",
   "execution_count": 9,
   "metadata": {},
   "outputs": [
    {
     "data": {
      "text/plain": [
       "{'latency_first_fixation': [-1.8626133603923138, 0.07727276111487512],\n",
       " 'saliency_first_fixation': [-3.1171047485049854, 0.005429996778853079],\n",
       " 'saliency_longest_fixation': [-2.844711586889679, 0.010013960562872577],\n",
       " 'latency_longest_fixation': [-2.94463863781231, 0.00801274929641935],\n",
       " 'latency_maximum_saliency': [-1.3651844077777573, 0.1873559830754668]}"
      ]
     },
     "execution_count": 9,
     "metadata": {},
     "output_type": "execute_result"
    },
    {
     "data": {
      "image/png": "[encoded data removed]",
      "text/plain": [
       "<Figure size 432x288 with 5 Axes>"
      ]
     },
     "metadata": {
      "needs_background": "light"
     },
     "output_type": "display_data"
    }
   ],
   "source": [
    "from read_data import FixationAnalyzer\n",
    "fa =FixationAnalyzer('Freeviewingstillimage_16.jpg')\n",
    "fa.compute_metrics()"
   ]
  },
  {
   "cell_type": "code",
   "execution_count": 3,
   "metadata": {},
   "outputs": [],
   "source": [
    "import pickle as pkl \n",
    "f =open('avg_fixation.pkl', 'wb')\n",
    "pkl.dump(st.avg_fixations, f)\n",
    "f.close()"
   ]
  },
  {
   "cell_type": "code",
   "execution_count": 1,
   "metadata": {},
   "outputs": [
    {
     "ename": "IndexError",
     "evalue": "list index out of range",
     "output_type": "error",
     "traceback": [
      "\u001b[0;31m---------------------------------------------------------------------------\u001b[0m",
      "\u001b[0;31mIndexError\u001b[0m                                Traceback (most recent call last)",
      "\u001b[0;32m/tmp/ipykernel_26087/1122729622.py\u001b[0m in \u001b[0;36m<module>\u001b[0;34m\u001b[0m\n\u001b[1;32m      1\u001b[0m \u001b[0;32mfrom\u001b[0m \u001b[0mread_data\u001b[0m \u001b[0;32mimport\u001b[0m \u001b[0mSaliencyTrace\u001b[0m\u001b[0;34m\u001b[0m\u001b[0;34m\u001b[0m\u001b[0m\n\u001b[1;32m      2\u001b[0m \u001b[0mst\u001b[0m \u001b[0;34m=\u001b[0m\u001b[0mSaliencyTrace\u001b[0m\u001b[0;34m(\u001b[0m\u001b[0;34m)\u001b[0m\u001b[0;34m\u001b[0m\u001b[0;34m\u001b[0m\u001b[0m\n\u001b[0;32m----> 3\u001b[0;31m \u001b[0mst\u001b[0m\u001b[0;34m.\u001b[0m\u001b[0mcomputeFixationTraceForAll\u001b[0m\u001b[0;34m(\u001b[0m\u001b[0;34m'Moviestillimage_12.jpg'\u001b[0m\u001b[0;34m)\u001b[0m\u001b[0;34m\u001b[0m\u001b[0;34m\u001b[0m\u001b[0m\n\u001b[0m",
      "\u001b[0;32m/data/rash/cvi/sail-cvi/read_data.py\u001b[0m in \u001b[0;36mcomputeFixationTraceForAll\u001b[0;34m(self, trial_name)\u001b[0m\n\u001b[1;32m    404\u001b[0m \u001b[0;34m\u001b[0m\u001b[0m\n\u001b[1;32m    405\u001b[0m     \u001b[0;32mdef\u001b[0m \u001b[0mcomputeFixationTraceForAll\u001b[0m\u001b[0;34m(\u001b[0m\u001b[0mself\u001b[0m\u001b[0;34m,\u001b[0m \u001b[0mtrial_name\u001b[0m\u001b[0;34m)\u001b[0m\u001b[0;34m:\u001b[0m\u001b[0;34m\u001b[0m\u001b[0;34m\u001b[0m\u001b[0m\n\u001b[0;32m--> 406\u001b[0;31m         \u001b[0mself\u001b[0m\u001b[0;34m.\u001b[0m\u001b[0mreadAllFixations\u001b[0m\u001b[0;34m(\u001b[0m\u001b[0mtrial_name\u001b[0m\u001b[0;34m)\u001b[0m\u001b[0;34m\u001b[0m\u001b[0;34m\u001b[0m\u001b[0m\n\u001b[0m\u001b[1;32m    407\u001b[0m         \u001b[0;31m# self.avg_fixations = {subject: self.computeFixationTraces(trial_name, \\\u001b[0m\u001b[0;34m\u001b[0m\u001b[0;34m\u001b[0m\u001b[0m\n\u001b[1;32m    408\u001b[0m         \u001b[0;31m#                       data) for subject, data in \\\u001b[0m\u001b[0;34m\u001b[0m\u001b[0;34m\u001b[0m\u001b[0m\n",
      "\u001b[0;32m/data/rash/cvi/sail-cvi/read_data.py\u001b[0m in \u001b[0;36mreadAllFixations\u001b[0;34m(self, trial_name)\u001b[0m\n\u001b[1;32m    359\u001b[0m             \u001b[0;31m# print(subject, 'reading fixation')\u001b[0m\u001b[0;34m\u001b[0m\u001b[0;34m\u001b[0m\u001b[0m\n\u001b[1;32m    360\u001b[0m             \u001b[0msub\u001b[0m \u001b[0;34m=\u001b[0m \u001b[0mSubject\u001b[0m\u001b[0;34m(\u001b[0m\u001b[0msubject\u001b[0m\u001b[0;34m)\u001b[0m\u001b[0;34m\u001b[0m\u001b[0;34m\u001b[0m\u001b[0m\n\u001b[0;32m--> 361\u001b[0;31m             \u001b[0mfixations\u001b[0m \u001b[0;34m=\u001b[0m \u001b[0msub\u001b[0m\u001b[0;34m.\u001b[0m\u001b[0mextractFixations\u001b[0m\u001b[0;34m(\u001b[0m\u001b[0mtrial_name\u001b[0m\u001b[0;34m)\u001b[0m\u001b[0;34m\u001b[0m\u001b[0;34m\u001b[0m\u001b[0m\n\u001b[0m\u001b[1;32m    362\u001b[0m             \u001b[0mself\u001b[0m\u001b[0;34m.\u001b[0m\u001b[0mfixation_timeseries\u001b[0m\u001b[0;34m[\u001b[0m\u001b[0msubject\u001b[0m\u001b[0;34m]\u001b[0m \u001b[0;34m=\u001b[0m \u001b[0mfixations\u001b[0m\u001b[0;34m\u001b[0m\u001b[0;34m\u001b[0m\u001b[0m\n\u001b[1;32m    363\u001b[0m \u001b[0;34m\u001b[0m\u001b[0m\n",
      "\u001b[0;32m/data/rash/cvi/sail-cvi/read_data.py\u001b[0m in \u001b[0;36mextractFixations\u001b[0;34m(self, trial_name)\u001b[0m\n\u001b[1;32m    104\u001b[0m \u001b[0;34m\u001b[0m\u001b[0m\n\u001b[1;32m    105\u001b[0m         \u001b[0mself\u001b[0m\u001b[0;34m.\u001b[0m\u001b[0mtrial\u001b[0m \u001b[0;34m=\u001b[0m \u001b[0mtrial\u001b[0m\u001b[0;34m\u001b[0m\u001b[0;34m\u001b[0m\u001b[0m\n\u001b[0;32m--> 106\u001b[0;31m         \u001b[0mtrial_st\u001b[0m \u001b[0;34m=\u001b[0m \u001b[0mint\u001b[0m\u001b[0;34m(\u001b[0m\u001b[0mself\u001b[0m\u001b[0;34m.\u001b[0m\u001b[0mtrial_numeric\u001b[0m\u001b[0;34m[\u001b[0m\u001b[0;36m0\u001b[0m\u001b[0;34m]\u001b[0m\u001b[0;34m.\u001b[0m\u001b[0msplit\u001b[0m\u001b[0;34m(\u001b[0m\u001b[0;34m'\\t'\u001b[0m\u001b[0;34m)\u001b[0m\u001b[0;34m[\u001b[0m\u001b[0;36m0\u001b[0m\u001b[0;34m]\u001b[0m\u001b[0;34m)\u001b[0m\u001b[0;34m\u001b[0m\u001b[0;34m\u001b[0m\u001b[0m\n\u001b[0m\u001b[1;32m    107\u001b[0m         \u001b[0mtrial_et\u001b[0m \u001b[0;34m=\u001b[0m \u001b[0mint\u001b[0m\u001b[0;34m(\u001b[0m\u001b[0mself\u001b[0m\u001b[0;34m.\u001b[0m\u001b[0mtrial_numeric\u001b[0m\u001b[0;34m[\u001b[0m\u001b[0;34m-\u001b[0m\u001b[0;36m1\u001b[0m\u001b[0;34m]\u001b[0m\u001b[0;34m.\u001b[0m\u001b[0msplit\u001b[0m\u001b[0;34m(\u001b[0m\u001b[0;34m'\\t'\u001b[0m\u001b[0;34m)\u001b[0m\u001b[0;34m[\u001b[0m\u001b[0;36m0\u001b[0m\u001b[0;34m]\u001b[0m\u001b[0;34m)\u001b[0m\u001b[0;34m\u001b[0m\u001b[0;34m\u001b[0m\u001b[0m\n\u001b[1;32m    108\u001b[0m         \u001b[0;31m#get the left eye fixations\u001b[0m\u001b[0;34m\u001b[0m\u001b[0;34m\u001b[0m\u001b[0m\n",
      "\u001b[0;31mIndexError\u001b[0m: list index out of range"
     ]
    }
   ],
   "source": [
    "from read_data import SaliencyTrace\n",
    "st =SaliencyTrace()\n",
    "st.computeFixationTraceForAll('Moviestillimage_12.jpg')"
   ]
  },
  {
   "cell_type": "code",
   "execution_count": 2,
   "metadata": {},
   "outputs": [
    {
     "ename": "NameError",
     "evalue": "name 'sub' is not defined",
     "output_type": "error",
     "traceback": [
      "\u001b[0;31m---------------------------------------------------------------------------\u001b[0m",
      "\u001b[0;31mNameError\u001b[0m                                 Traceback (most recent call last)",
      "\u001b[0;32m/tmp/ipykernel_26087/455739764.py\u001b[0m in \u001b[0;36m<module>\u001b[0;34m\u001b[0m\n\u001b[0;32m----> 1\u001b[0;31m \u001b[0msub\u001b[0m\u001b[0;34m.\u001b[0m\u001b[0mtrial_numeric\u001b[0m\u001b[0;34m\u001b[0m\u001b[0;34m\u001b[0m\u001b[0m\n\u001b[0m",
      "\u001b[0;31mNameError\u001b[0m: name 'sub' is not defined"
     ]
    }
   ],
   "source": [
    "%run read"
   ]
  },
  {
   "cell_type": "code",
   "execution_count": 1,
   "metadata": {},
   "outputs": [
    {
     "name": "stdout",
     "output_type": "stream",
     "text": [
      "7 7\n",
      "[[6, 6, 163], [1, 1, 159], [4, 4, 136], [3, 3, 98], [5, 5, 92], [2, 2, 68], [0, 0, 60], [0, 1, 0], [0, 2, 0], [0, 3, 0], [0, 4, 0], [0, 5, 0], [0, 6, 0], [1, 0, 0], [1, 2, 0], [1, 3, 0], [1, 4, 0], [1, 5, 0], [1, 6, 0], [2, 0, 0], [2, 1, 0], [2, 3, 0], [2, 4, 0], [2, 5, 0], [2, 6, 0], [3, 0, 0], [3, 1, 0], [3, 2, 0], [3, 4, 0], [3, 5, 0], [3, 6, 0], [4, 0, 0], [4, 1, 0], [4, 2, 0], [4, 3, 0], [4, 5, 0], [4, 6, 0], [5, 0, 0], [5, 1, 0], [5, 2, 0], [5, 3, 0], [5, 4, 0], [5, 6, 0], [6, 0, 0], [6, 1, 0], [6, 2, 0], [6, 3, 0], [6, 4, 0], [6, 5, 0]]\n"
     ]
    }
   ],
   "source": [
    "from read_data import Subject\n",
    "sub = Subject('2003_1')\n",
    "fix_all = sub.extractFixations('Freeviewingstillimage_16.jpg')"
   ]
  },
  {
   "cell_type": "code",
   "execution_count": 2,
   "metadata": {},
   "outputs": [
    {
     "data": {
      "text/plain": [
       "[]"
      ]
     },
     "execution_count": 2,
     "metadata": {},
     "output_type": "execute_result"
    }
   ],
   "source": [
    "sub.trial"
   ]
  },
  {
   "cell_type": "code",
   "execution_count": 2,
   "metadata": {},
   "outputs": [],
   "source": [
    "a = [d.rstrip() for d in open('ttest_trace_avg.txt')]"
   ]
  },
  {
   "cell_type": "code",
   "execution_count": 17,
   "metadata": {},
   "outputs": [],
   "source": [
    "a = [d.rstrip() for d in open('ttest_trace_avg.txt')]\n",
    "\n",
    "trial_names = [d[:d.index(' Ttest')] for d in a]\n",
    "stats = [float(d[d.index('statistic'):-1].split(',')[0][len('statistic='):]) for d in a]\n",
    "pvalues = [float(d[d.index('statistic'):-1].split(',')[1][len(' pvalue='):]) for d in a]"
   ]
  },
  {
   "cell_type": "code",
   "execution_count": 10,
   "metadata": {},
   "outputs": [
    {
     "data": {
      "text/plain": [
       "-1.7409163738945062"
      ]
     },
     "execution_count": 10,
     "metadata": {},
     "output_type": "execute_result"
    }
   ],
   "source": [
    "d[d.index(' Ttest')"
   ]
  },
  {
   "cell_type": "code",
   "execution_count": 25,
   "metadata": {},
   "outputs": [
    {
     "data": {
      "text/plain": [
       "<BarContainer object of 71 artists>"
      ]
     },
     "execution_count": 25,
     "metadata": {},
     "output_type": "execute_result"
    },
    {
     "data": {
      "image/png": "[encoded data removed]",
      "text/plain": [
       "<Figure size 432x288 with 1 Axes>"
      ]
     },
     "metadata": {
      "needs_background": "light"
     },
     "output_type": "display_data"
    }
   ],
   "source": [
    "from matplotlib import pyplot as plt\n",
    "# plt.scatter(range(1, len(stats)+1), pvalues)\n",
    "# plt.ylabel('pvalues')\n",
    "# plt.title('plot of pvalues for ttest on avg of the trace')\n",
    "# plt.grid()\n",
    "# plt.savefig('pvalues_trace_Avg.png', dpi=300)\n",
    "plt.bar(trial_names, pvalues)"
   ]
  },
  {
   "cell_type": "code",
   "execution_count": 18,
   "metadata": {},
   "outputs": [
    {
     "data": {
      "text/plain": [
       "['Freeviewingstillimage_2',\n",
       " 'Freeviewingstillimage_4',\n",
       " 'Freeviewingstillimage_5',\n",
       " 'Freeviewingstillimage_93',\n",
       " 'Freeviewingstillimage_7',\n",
       " 'Freeviewingstillimage_8',\n",
       " 'Freeviewingstillimage_10',\n",
       " 'Freeviewingstillimage_12',\n",
       " 'Freeviewingstillimage_15',\n",
       " 'visual search orientation 4_1',\n",
       " 'Freeviewingstillimage_28',\n",
       " 'Freeviewingstillimage_29',\n",
       " 'visual search orientation 16_1',\n",
       " 'Freeviewingstillimage_10_cutout',\n",
       " 'Freeviewingstillimage_31',\n",
       " 'visual search orientation 4_1',\n",
       " 'Freeviewingstillimage_93_cutout',\n",
       " 'Freeviewingstillimage_33',\n",
       " 'visual search orientation 16_1',\n",
       " 'Moviestillimage_8',\n",
       " 'visual search orientation 4_1',\n",
       " 'Freeviewingstillimage_36',\n",
       " 'Freeviewingstillimage_28_cutout',\n",
       " 'visual search orientation 16_1',\n",
       " 'Moviestillimage_6',\n",
       " 'Freeviewingstillimage_39',\n",
       " 'visual search form 4_1',\n",
       " 'Freeviewingstillimage_40',\n",
       " 'visual search form 8_1',\n",
       " 'Freeviewingstillimage_41',\n",
       " 'visual search form 16_1',\n",
       " 'Freeviewingstillimage_92',\n",
       " 'Freeviewingstillimage_88',\n",
       " 'visual search form 4_1',\n",
       " 'Freeviewingstillimage_36_cutout',\n",
       " 'visual search form 8_1',\n",
       " 'visual search form 16_1',\n",
       " 'Freeviewingstillimage_46',\n",
       " 'visual search form 4_1']"
      ]
     },
     "execution_count": 18,
     "metadata": {},
     "output_type": "execute_result"
    }
   ],
   "source": [
    "[name for pvalue, name in zip(pvalues, trial_names) if pvalue < 0.01]"
   ]
  },
  {
   "cell_type": "code",
   "execution_count": 22,
   "metadata": {},
   "outputs": [],
   "source": [
    "avg_stats = {name: [stat, pvalue] for name, stat, pvalue in zip(trial_names, stats, pvalues)}"
   ]
  },
  {
   "cell_type": "code",
   "execution_count": 19,
   "metadata": {},
   "outputs": [],
   "source": [
    "import pickle as pkl \n",
    "avg_stats_all = pkl.load(open('avg_fixation_stats_all_trials.pkl', 'rb'))"
   ]
  },
  {
   "cell_type": "code",
   "execution_count": 23,
   "metadata": {},
   "outputs": [],
   "source": [
    "for trial, stat in avg_stats.items():\n",
    "    avg_stats_all[trial]['avg_saliency'] = stat"
   ]
  },
  {
   "cell_type": "code",
   "execution_count": 25,
   "metadata": {},
   "outputs": [],
   "source": [
    "f = open('stats_all_trials_latency_saliency.pkl', 'wb')\n",
    "pkl.dump(avg_stats_all, f)\n",
    "f.close()"
   ]
  },
  {
   "cell_type": "code",
   "execution_count": 27,
   "metadata": {},
   "outputs": [
    {
     "data": {
      "text/plain": [
       "{'visual search orientation 8_1': {'latency_first_fixation': [-0.6247887523659098,\n",
       "   0.5391730509937529],\n",
       "  'saliency_first_fixation': [-0.7865432660080796, 0.4407700983093049],\n",
       "  'saliency_longest_fixation': [-0.5669547871347718, 0.5770533499061354],\n",
       "  'latency_longest_fixation': [-0.9223522559900014, 0.36733862129740735],\n",
       "  'latency_maximum_saliency': [1.6007312258798858, 0.12511443980481224],\n",
       "  'avg_saliency': [-1.703977911169068, 0.09946035566362356]},\n",
       " 'visual search orientation 4_1': {'latency_first_fixation': [1.1007222211151375,\n",
       "   0.28408961871705385],\n",
       "  'saliency_first_fixation': [-2.8666358912590177, 0.009537552930079627],\n",
       "  'saliency_longest_fixation': [-2.946246778726095, 0.007983924497000286],\n",
       "  'latency_longest_fixation': [0.6407596430045942, 0.5289531135641439],\n",
       "  'latency_maximum_saliency': [-0.21421224225798646, 0.8325504402700132],\n",
       "  'avg_saliency': [-3.234769251573764, 0.002890891196943238]},\n",
       " 'visual search orientation 32_1': {'latency_first_fixation': [0.05554440621608468,\n",
       "   0.9563924455564137],\n",
       "  'saliency_first_fixation': [-0.5625215443463577, 0.5815573522845707],\n",
       "  'saliency_longest_fixation': [-0.5625215443463577, 0.5815573522845707],\n",
       "  'latency_longest_fixation': [0.05554440621608468, 0.9563924455564137],\n",
       "  'latency_maximum_saliency': [-0.641112398485497, 0.5305265443671539],\n",
       "  'avg_saliency': [-1.5231274428972137, 0.14027731043831732]},\n",
       " 'visual search orientation 24_1': {'latency_first_fixation': [0.6411978533171299,\n",
       "   0.5310698481870233],\n",
       "  'saliency_first_fixation': [-0.8461520897480281, 0.4107638883558742],\n",
       "  'saliency_longest_fixation': [-0.8461520897480281, 0.4107638883558742],\n",
       "  'latency_longest_fixation': [0.6411978533171299, 0.5310698481870233],\n",
       "  'latency_maximum_saliency': [-1.209828681780269, 0.24506661361822604],\n",
       "  'avg_saliency': [-0.8841218875010086, 0.38390189380147766]},\n",
       " 'visual search orientation 16_1': {'latency_first_fixation': [0.9733499799235124,\n",
       "   0.3405057882964486],\n",
       "  'saliency_first_fixation': [-1.539073673313135, 0.13743200093530325],\n",
       "  'saliency_longest_fixation': [-1.3461168886632287, 0.19138354642087754],\n",
       "  'latency_longest_fixation': [1.1131456638527422, 0.2771447995243863],\n",
       "  'latency_maximum_saliency': [0.04395090778343197, 0.9653228875186356],\n",
       "  'avg_saliency': [-2.860616736218446, 0.007388661299023587]},\n",
       " 'visual search form 8_1': {'latency_first_fixation': [-2.085874786425673,\n",
       "   0.05237063514646768],\n",
       "  'saliency_first_fixation': [-1.9247374358779277, 0.07116386057702358],\n",
       "  'saliency_longest_fixation': [-1.9247374358779277, 0.07116386057702358],\n",
       "  'latency_longest_fixation': [-2.085874786425673, 0.05237063514646768],\n",
       "  'latency_maximum_saliency': [-1.6572826203375766, 0.11580014773723024],\n",
       "  'avg_saliency': [-3.8443042852585507, 0.0006671778454912381]},\n",
       " 'visual search form 4_1': {'latency_first_fixation': [0.7720745757672466,\n",
       "   0.4513243529529083],\n",
       "  'saliency_first_fixation': [-4.627256372163163, 0.00027963456021265194],\n",
       "  'saliency_longest_fixation': [-4.627256372163163, 0.00027963456021265194],\n",
       "  'latency_longest_fixation': [0.7720745757672466, 0.4513243529529083],\n",
       "  'latency_maximum_saliency': [1.1266159469751988, 0.27651901881737667],\n",
       "  'avg_saliency': [-5.33922132718824, 2.70258565201755e-05]},\n",
       " 'visual search form 32_1': {'latency_first_fixation': [2.1308683926771486,\n",
       "   0.048959837787200214],\n",
       "  'saliency_first_fixation': [-2.803477741483438, 0.012749561754004324],\n",
       "  'saliency_longest_fixation': [-2.803477741483438, 0.012749561754004324],\n",
       "  'latency_longest_fixation': [2.1308683926771486, 0.048959837787200214],\n",
       "  'latency_maximum_saliency': [1.9045463607056838, 0.07497795240630342],\n",
       "  'avg_saliency': [-1.889451149890678, 0.07150277104667296]},\n",
       " 'visual search form 24_1': {'latency_first_fixation': [0.029983060475049013,\n",
       "   0.9763777491287366],\n",
       "  'saliency_first_fixation': [-1.2100360963973098, 0.2403731008909881],\n",
       "  'saliency_longest_fixation': [-1.2100360963973098, 0.2403731008909881],\n",
       "  'latency_longest_fixation': [0.029983060475049013, 0.9763777491287366],\n",
       "  'latency_maximum_saliency': [1.202456928227332, 0.24322999893032107],\n",
       "  'avg_saliency': [-2.3125677084339538, 0.02860645594407727]},\n",
       " 'visual search form 16_1': {'latency_first_fixation': [-0.9605732486734313,\n",
       "   0.35105936517758507],\n",
       "  'saliency_first_fixation': [-1.9350970803548293, 0.07085743287801924],\n",
       "  'saliency_longest_fixation': [-1.9350970803548293, 0.07085743287801924],\n",
       "  'latency_longest_fixation': [-0.9605732486734313, 0.35105936517758507],\n",
       "  'latency_maximum_saliency': [0.10539431375686333, 0.9173729276591444],\n",
       "  'avg_saliency': [-2.8624013798447767, 0.008197599375708742]},\n",
       " 'Moviestillimage_8': {'latency_first_fixation': [0.6725103127532048,\n",
       "   0.5093556890546795],\n",
       "  'saliency_first_fixation': [-2.575169554748624, 0.018540664333238262],\n",
       "  'saliency_longest_fixation': [-2.332537771570464, 0.030821843253266118],\n",
       "  'latency_longest_fixation': [0.4280100758279294, 0.6734561330330737],\n",
       "  'latency_maximum_saliency': [0.9609952831343673, 0.3486258134619795],\n",
       "  'avg_saliency': [-3.3849731296130767, 0.0021927709395602292]},\n",
       " 'Moviestillimage_6': {'latency_first_fixation': [1.3095050033483397,\n",
       "   0.2052079505253877],\n",
       "  'saliency_first_fixation': [-2.1221813507052265, 0.046503305962179026],\n",
       "  'saliency_longest_fixation': [-2.1221813507052265, 0.046503305962179026],\n",
       "  'latency_longest_fixation': [1.3095050033483397, 0.2052079505253877],\n",
       "  'latency_maximum_saliency': [0.48459117636218185, 0.6332311078688635],\n",
       "  'avg_saliency': [-3.154978730530539, 0.003916394921879402]},\n",
       " 'Moviestillimage_12': {'latency_first_fixation': [0.31840341651769477,\n",
       "   0.7540573102824462],\n",
       "  'saliency_first_fixation': [-3.4722043108036673, 0.0029144577630095593],\n",
       "  'saliency_longest_fixation': [-3.493599522153993, 0.002782387273794069],\n",
       "  'latency_longest_fixation': [0.3515973425457301, 0.7294604687413783],\n",
       "  'latency_maximum_saliency': [-1.0578922857140685, 0.3049060228826112]},\n",
       " 'Freeviewingstillimage_93_cutout': {'latency_first_fixation': [-0.672620605074612,\n",
       "   0.5102287524010511],\n",
       "  'saliency_first_fixation': [-3.618539620633704, 0.002121779561390669],\n",
       "  'saliency_longest_fixation': [-3.618539620633704, 0.002121779561390669],\n",
       "  'latency_longest_fixation': [-0.672620605074612, 0.5102287524010511],\n",
       "  'latency_maximum_saliency': [0.4040724905313536, 0.6911973048822788],\n",
       "  'avg_saliency': [-4.282600418411729, 0.0002574333537268012]},\n",
       " 'Freeviewingstillimage_93': {'latency_first_fixation': [-0.9162590723372055,\n",
       "   0.3694661865895853],\n",
       "  'saliency_first_fixation': [-2.0347787095105208, 0.054099495495182566],\n",
       "  'saliency_longest_fixation': [-3.1168570931225403, 0.005023079117498825],\n",
       "  'latency_longest_fixation': [-1.7568997084956115, 0.09284579046906354],\n",
       "  'latency_maximum_saliency': [1.30469330052239, 0.20548102809553115],\n",
       "  'avg_saliency': [-4.8594748833474855, 4.072637932273839e-05]},\n",
       " 'Freeviewingstillimage_92': {'latency_first_fixation': [-1.1977289845210455,\n",
       "   0.2465571540180311],\n",
       "  'saliency_first_fixation': [-2.4929164211877755, 0.022638775129184156],\n",
       "  'saliency_longest_fixation': [-2.4929164211877755, 0.022638775129184156],\n",
       "  'latency_longest_fixation': [-1.1977289845210455, 0.2465571540180311],\n",
       "  'latency_maximum_saliency': [-0.2812660251230884, 0.7817141370116583],\n",
       "  'avg_saliency': [-5.512307022678916, 5.484940076875779e-06]},\n",
       " 'Freeviewingstillimage_9': {'latency_first_fixation': [0.1589593686505494,\n",
       "   0.8754708342337518],\n",
       "  'saliency_first_fixation': [-1.096994776248722, 0.28710311901556584],\n",
       "  'saliency_longest_fixation': [-1.096994776248722, 0.28710311901556584],\n",
       "  'latency_longest_fixation': [0.1589593686505494, 0.8754708342337518],\n",
       "  'latency_maximum_saliency': [0.2645327515256115, 0.7943746782640317],\n",
       "  'avg_saliency': [-2.14892938981551, 0.04151464189799604]},\n",
       " 'Freeviewingstillimage_88_cutout': {'latency_first_fixation': [-1.3570904449009522,\n",
       "   0.19784825439497683],\n",
       "  'saliency_first_fixation': [-2.03282296834992, 0.06301637761369133],\n",
       "  'saliency_longest_fixation': [-2.03282296834992, 0.06301637761369133],\n",
       "  'latency_longest_fixation': [-1.3570904449009522, 0.19784825439497683],\n",
       "  'latency_maximum_saliency': [-0.08919194369906706, 0.9302888239971928]},\n",
       " 'Freeviewingstillimage_88': {'latency_first_fixation': [-1.5920583166793465,\n",
       "   0.12979412731976922],\n",
       "  'saliency_first_fixation': [-2.247809197733219, 0.038148294432522885],\n",
       "  'saliency_longest_fixation': [-2.247809197733219, 0.038148294432522885],\n",
       "  'latency_longest_fixation': [-1.5920583166793465, 0.12979412731976922],\n",
       "  'latency_maximum_saliency': [-1.2121376972165927, 0.24203782492299747],\n",
       "  'avg_saliency': [-2.9008564771056884, 0.007844369208925766]},\n",
       " 'Freeviewingstillimage_8': {'latency_first_fixation': [-1.030250567705692,\n",
       "   0.3140865223856906],\n",
       "  'saliency_first_fixation': [-2.0745069858061105, 0.04993588208625851],\n",
       "  'saliency_longest_fixation': [-2.109678555757923, 0.046491934564602384],\n",
       "  'latency_longest_fixation': [-2.1789369125674516, 0.04032860894776721],\n",
       "  'latency_maximum_saliency': [-1.2579211297790474, 0.2216085647515456],\n",
       "  'avg_saliency': [-2.8234905398024286, 0.008105643141940675]},\n",
       " 'Freeviewingstillimage_7': {'latency_first_fixation': [0.9115544964237948,\n",
       "   0.3723491243510815],\n",
       "  'saliency_first_fixation': [-1.3911959238295237, 0.17873082346254598],\n",
       "  'saliency_longest_fixation': [-1.5860266141172874, 0.12767734639217065],\n",
       "  'latency_longest_fixation': [0.41663771930644233, 0.6811712198312594],\n",
       "  'latency_maximum_saliency': [-0.006671635914458477, 0.9947398176410427],\n",
       "  'avg_saliency': [-3.0407734910010116, 0.005473535300447135]},\n",
       " 'Freeviewingstillimage_50': {'latency_first_fixation': [-2.175864016305079,\n",
       "   0.04596135020769999],\n",
       "  'saliency_first_fixation': [-2.68285408478889, 0.017034156404374234],\n",
       "  'saliency_longest_fixation': [-2.68285408478889, 0.017034156404374234],\n",
       "  'latency_longest_fixation': [-2.175864016305079, 0.04596135020769999],\n",
       "  'latency_maximum_saliency': [-0.3647194678817393, 0.7204116505643929]},\n",
       " 'Freeviewingstillimage_5': {'latency_first_fixation': [0.38155992338743944,\n",
       "   0.7068113998492588],\n",
       "  'saliency_first_fixation': [-1.1863560222203298, 0.24938418527845246],\n",
       "  'saliency_longest_fixation': [-1.1863560222203298, 0.24938418527845246],\n",
       "  'latency_longest_fixation': [0.38155992338743944, 0.7068113998492588],\n",
       "  'latency_maximum_saliency': [-1.209497768287132, 0.24057517575610124],\n",
       "  'avg_saliency': [-3.7336197049029893, 0.0008542298394931574]},\n",
       " 'Freeviewingstillimage_49': {'latency_first_fixation': [1.303266414787286,\n",
       "   0.21092719305673668],\n",
       "  'saliency_first_fixation': [-2.753828373061518, 0.014122468450833066],\n",
       "  'saliency_longest_fixation': [-2.753828373061518, 0.014122468450833066],\n",
       "  'latency_longest_fixation': [1.303266414787286, 0.21092719305673668],\n",
       "  'latency_maximum_saliency': [1.4720100681667194, 0.16041464370424896]},\n",
       " 'Freeviewingstillimage_47': {'latency_first_fixation': [0.019779307319073514,\n",
       "   0.984415424344373],\n",
       "  'saliency_first_fixation': [-2.504124508983807, 0.021047314180652713],\n",
       "  'saliency_longest_fixation': [-2.5044052026993198, 0.02103469597814166],\n",
       "  'latency_longest_fixation': [-0.33352884852852094, 0.7422065582034646],\n",
       "  'latency_maximum_saliency': [-1.461702968869921, 0.15935794346621043],\n",
       "  'avg_saliency': [-2.5538369028227588, 0.0166139076474134]},\n",
       " 'Freeviewingstillimage_46': {'latency_first_fixation': [-0.8574004618720398,\n",
       "   0.40190955342275647],\n",
       "  'saliency_first_fixation': [-3.3686679373361623, 0.0032249802992311005],\n",
       "  'saliency_longest_fixation': [-3.373347244264615, 0.00319106451057144],\n",
       "  'latency_longest_fixation': [-1.5549190323230047, 0.13646499651129246],\n",
       "  'latency_maximum_saliency': [-0.9080210971650636, 0.3752407716661509],\n",
       "  'avg_saliency': [-3.4829731176217376, 0.0020097219331412317]},\n",
       " 'Freeviewingstillimage_45': {'latency_first_fixation': [0.8858407880153489,\n",
       "   0.38738495810650775],\n",
       "  'saliency_first_fixation': [-1.5329517107116248, 0.14267575288306164],\n",
       "  'saliency_longest_fixation': [-1.5329517107116248, 0.14267575288306164],\n",
       "  'latency_longest_fixation': [0.8858407880153489, 0.38738495810650775],\n",
       "  'latency_maximum_saliency': [-0.2759861981317879, 0.7857023150136562],\n",
       "  'avg_saliency': [-2.5226291718952756, 0.01838320147937454]},\n",
       " 'Freeviewingstillimage_41': {'latency_first_fixation': [-1.2541733037273812,\n",
       "   0.2235603802564709],\n",
       "  'saliency_first_fixation': [-1.019520138487955, 0.31955858584890395],\n",
       "  'saliency_longest_fixation': [-1.019520138487955, 0.31955858584890395],\n",
       "  'latency_longest_fixation': [-1.2541733037273812, 0.2235603802564709],\n",
       "  'latency_maximum_saliency': [0.8042836087129617, 0.4302446539288841],\n",
       "  'avg_saliency': [-2.857063495876103, 0.008302719356046468]},\n",
       " 'Freeviewingstillimage_40': {'latency_first_fixation': [-0.06690131625988202,\n",
       "   0.9474891326516715],\n",
       "  'saliency_first_fixation': [-3.631281153914745, 0.0022457888446901207],\n",
       "  'saliency_longest_fixation': [-3.631281153914745, 0.0022457888446901207],\n",
       "  'latency_longest_fixation': [-0.06690131625988202, 0.9474891326516715],\n",
       "  'latency_maximum_saliency': [-1.1251658895036747, 0.2771147980654157],\n",
       "  'avg_saliency': [-3.920707904870548, 0.0005747118040545146]},\n",
       " 'Freeviewingstillimage_4': {'latency_first_fixation': [-0.3564286018060985,\n",
       "   0.725447062986061],\n",
       "  'saliency_first_fixation': [-3.189433459058783, 0.004827156553830871],\n",
       "  'saliency_longest_fixation': [-2.640653519873632, 0.01612081471301276],\n",
       "  'latency_longest_fixation': [-1.4339054056913465, 0.16785257236799234],\n",
       "  'latency_maximum_saliency': [1.160548467601191, 0.26020053339686444],\n",
       "  'avg_saliency': [-4.067537211334557, 0.0003505140164888669]},\n",
       " 'Freeviewingstillimage_39': {'latency_first_fixation': [-0.630183132319858,\n",
       "   0.5357092501639527],\n",
       "  'saliency_first_fixation': [-2.878635380198164, 0.009286086445740983],\n",
       "  'saliency_longest_fixation': [-2.878635380198164, 0.009286086445740983],\n",
       "  'latency_longest_fixation': [-0.630183132319858, 0.5357092501639527],\n",
       "  'latency_maximum_saliency': [-0.9277162912367641, 0.36461615431130456],\n",
       "  'avg_saliency': [-3.3433296830168273, 0.002437776917529432]},\n",
       " 'Freeviewingstillimage_36_cutout': {'latency_first_fixation': [0.10321887740386743,\n",
       "   0.9192532502402246],\n",
       "  'saliency_first_fixation': [-1.1165605244370662, 0.2829796251709356],\n",
       "  'saliency_longest_fixation': [-1.1165605244370662, 0.2829796251709356],\n",
       "  'latency_longest_fixation': [0.10321887740386743, 0.9192532502402246],\n",
       "  'latency_maximum_saliency': [0.5116140191121121, 0.6168952290717886],\n",
       "  'avg_saliency': [-3.9260890838671223, 0.0006757680479545145]},\n",
       " 'Freeviewingstillimage_36': {'latency_first_fixation': [-1.5752514911958355,\n",
       "   0.13476240245806498],\n",
       "  'saliency_first_fixation': [-0.9849070944318647, 0.3393301224455487],\n",
       "  'saliency_longest_fixation': [-0.9849070944318647, 0.3393301224455487],\n",
       "  'latency_longest_fixation': [-1.5752514911958355, 0.13476240245806498],\n",
       "  'latency_maximum_saliency': [-0.6184526315107267, 0.5449814585956254],\n",
       "  'avg_saliency': [-3.9707200012336115, 0.00045450104370564355]},\n",
       " 'Freeviewingstillimage_35': {'latency_first_fixation': [-0.5792841149217413,\n",
       "   0.5699948211275183],\n",
       "  'saliency_first_fixation': [-2.315545985664166, 0.03333516155808829],\n",
       "  'saliency_longest_fixation': [-2.315545985664166, 0.03333516155808829],\n",
       "  'latency_longest_fixation': [-0.5792841149217413, 0.5699948211275183],\n",
       "  'latency_maximum_saliency': [0.2051329009799391, 0.8399044268438235],\n",
       "  'avg_saliency': [-2.7053886195778856, 0.011480687840890085]},\n",
       " 'Freeviewingstillimage_33': {'latency_first_fixation': [-0.4375915140006247,\n",
       "   0.6663715089675357],\n",
       "  'saliency_first_fixation': [-1.8750199566555896, 0.07546876745695633],\n",
       "  'saliency_longest_fixation': [-2.2564368644341277, 0.035392572208835134],\n",
       "  'latency_longest_fixation': [-0.23914940897851628, 0.8134233527515249],\n",
       "  'latency_maximum_saliency': [-2.677671338924681, 0.014467042409301398],\n",
       "  'avg_saliency': [-3.9221421542564987, 0.0005725728452187862]},\n",
       " 'Freeviewingstillimage_31': {'latency_first_fixation': [-0.5288016184952337,\n",
       "   0.6058543919647055],\n",
       "  'saliency_first_fixation': [-1.993853532978798, 0.0675797619343304],\n",
       "  'saliency_longest_fixation': [-1.993853532978798, 0.0675797619343304],\n",
       "  'latency_longest_fixation': [-0.5288016184952337, 0.6058543919647055],\n",
       "  'latency_maximum_saliency': [-0.7533189214877075, 0.4646834136295306],\n",
       "  'avg_saliency': [-3.0683562112107534, 0.005272475976644457]},\n",
       " 'Freeviewingstillimage_29': {'latency_first_fixation': [0.08845322964099984,\n",
       "   0.9303545679186956],\n",
       "  'saliency_first_fixation': [-2.175433912234591, 0.041164541725950826],\n",
       "  'saliency_longest_fixation': [-1.8227050471876582, 0.08261906053220336],\n",
       "  'latency_longest_fixation': [0.33770481768791144, 0.7389380713098717],\n",
       "  'latency_maximum_saliency': [1.7141123317385483, 0.10123158386192645],\n",
       "  'avg_saliency': [-3.4641531244448136, 0.0014944170132493207]},\n",
       " 'Freeviewingstillimage_28_cutout': {'latency_first_fixation': [-1.1819836896187983,\n",
       "   0.251794550826971],\n",
       "  'saliency_first_fixation': [-3.201002210603586, 0.004703609328495547],\n",
       "  'saliency_longest_fixation': [-3.201002210603586, 0.004703609328495547],\n",
       "  'latency_longest_fixation': [-1.1819836896187983, 0.251794550826971],\n",
       "  'latency_maximum_saliency': [0.7097833457162344, 0.4864589305859234],\n",
       "  'avg_saliency': [-4.2685246287319725, 0.0002883377546905205]},\n",
       " 'Freeviewingstillimage_28': {'latency_first_fixation': [-2.1247030522253105,\n",
       "   0.04457506805989483],\n",
       "  'saliency_first_fixation': [-1.46223882403479, 0.15720643440373108],\n",
       "  'saliency_longest_fixation': [-1.46223882403479, 0.15720643440373108],\n",
       "  'latency_longest_fixation': [-2.1247030522253105, 0.04457506805989483],\n",
       "  'latency_maximum_saliency': [-1.9077756022229047, 0.06898223444573336],\n",
       "  'avg_saliency': [-2.814187259409435, 0.008180192464751913]},\n",
       " 'Freeviewingstillimage_27': {'latency_first_fixation': [0.18241204684387827,\n",
       "   0.8571915791381788],\n",
       "  'saliency_first_fixation': [-0.27669243100077484, 0.7850038929630355],\n",
       "  'saliency_longest_fixation': [-0.27669243100077484, 0.7850038929630355],\n",
       "  'latency_longest_fixation': [0.18241204684387827, 0.8571915791381788],\n",
       "  'latency_maximum_saliency': [-0.13686410089550874, 0.892578077213881],\n",
       "  'avg_saliency': [-0.7090497653380534, 0.4834278490755065]},\n",
       " 'Freeviewingstillimage_26': {'latency_first_fixation': [-0.05719422319565649,\n",
       "   0.9549311972765728],\n",
       "  'saliency_first_fixation': [-4.516965750748503, 0.00018881647988621282],\n",
       "  'saliency_longest_fixation': [-4.516965750748503, 0.00018881647988621282],\n",
       "  'latency_longest_fixation': [-0.05719422319565649, 0.9549311972765728],\n",
       "  'latency_maximum_saliency': [0.4553680133079061, 0.6535177246873001],\n",
       "  'avg_saliency': [-1.8973277450069077, 0.06744711896240746]},\n",
       " 'Freeviewingstillimage_25': {'latency_first_fixation': [-1.3817637067392772,\n",
       "   0.1809159307507557],\n",
       "  'saliency_first_fixation': [-1.1089221483094813, 0.27943945838445094],\n",
       "  'saliency_longest_fixation': [-1.1089221483094813, 0.27943945838445094],\n",
       "  'latency_longest_fixation': [-1.3817637067392772, 0.1809159307507557],\n",
       "  'latency_maximum_saliency': [0.12687346994714266, 0.9001930116753314],\n",
       "  'avg_saliency': [-2.343637082624798, 0.02508164969906435]},\n",
       " 'Freeviewingstillimage_24': {'latency_first_fixation': [-0.1537359508853112,\n",
       "   0.8793585911363968],\n",
       "  'saliency_first_fixation': [-1.1992705387470095, 0.24443872060627914],\n",
       "  'saliency_longest_fixation': [-1.1992705387470095, 0.24443872060627914],\n",
       "  'latency_longest_fixation': [-0.1537359508853112, 0.8793585911363968],\n",
       "  'latency_maximum_saliency': [-1.6611600593148477, 0.11227780618929135],\n",
       "  'avg_saliency': [-2.4908423675731304, 0.018123314235216362]},\n",
       " 'Freeviewingstillimage_23': {'latency_first_fixation': [-0.8842427755109894,\n",
       "   0.3876179886781782],\n",
       "  'saliency_first_fixation': [-1.639800734731734, 0.11749856658994712],\n",
       "  'saliency_longest_fixation': [-1.639800734731734, 0.11749856658994712],\n",
       "  'latency_longest_fixation': [-0.8842427755109894, 0.3876179886781782],\n",
       "  'latency_maximum_saliency': [-0.3789236639136211, 0.7089458225779033],\n",
       "  'avg_saliency': [-0.8413206075463446, 0.40783997659165383]},\n",
       " 'Freeviewingstillimage_22': {'latency_first_fixation': [-1.8767826649089248,\n",
       "   0.07782073637347889],\n",
       "  'saliency_first_fixation': [-1.4125081259885788, 0.17584586640934946],\n",
       "  'saliency_longest_fixation': [-1.0847765206122437, 0.293165382917759],\n",
       "  'latency_longest_fixation': [-1.4848950405731398, 0.15587841159462026],\n",
       "  'latency_maximum_saliency': [0.26823687146609604, 0.7917447272091356],\n",
       "  'avg_saliency': [-2.5823651906602745, 0.015555928184033747]},\n",
       " 'Freeviewingstillimage_21': {'latency_first_fixation': [-0.08314648723129663,\n",
       "   0.9346048157774427],\n",
       "  'saliency_first_fixation': [-1.3421677082475936, 0.1953609584509414],\n",
       "  'saliency_longest_fixation': [-0.7899867129053312, 0.43928436822505],\n",
       "  'latency_longest_fixation': [-0.5241049194825758, 0.6062662636282015],\n",
       "  'latency_maximum_saliency': [0.30167825823420164, 0.7661744325402011],\n",
       "  'avg_saliency': [-1.3359619252334127, 0.19195168588788158]},\n",
       " 'Freeviewingstillimage_20': {'latency_first_fixation': [1.0641395720094924,\n",
       "   0.3030624376668434],\n",
       "  'saliency_first_fixation': [-1.3121927202962638, 0.20796944657985056],\n",
       "  'saliency_longest_fixation': [-1.3121927202962638, 0.20796944657985056],\n",
       "  'latency_longest_fixation': [1.0641395720094924, 0.3030624376668434],\n",
       "  'latency_maximum_saliency': [1.1106256456835142, 0.28314192532902815],\n",
       "  'avg_saliency': [-1.410211478355638, 0.1687618657725427]},\n",
       " 'Freeviewingstillimage_2': {'latency_first_fixation': [0.04441380840556299,\n",
       "   0.9650150098499528],\n",
       "  'saliency_first_fixation': [-2.4158459892079125, 0.025386702804490836],\n",
       "  'saliency_longest_fixation': [-2.4158459892079125, 0.025386702804490836],\n",
       "  'latency_longest_fixation': [0.04441380840556299, 0.9650150098499528],\n",
       "  'latency_maximum_saliency': [-0.4685143998401186, 0.6444828652669281],\n",
       "  'avg_saliency': [-2.89002704182974, 0.00767339971016432]},\n",
       " 'Freeviewingstillimage_19': {'latency_first_fixation': [-1.2238955145941046,\n",
       "   0.23595259900486634],\n",
       "  'saliency_first_fixation': [-1.9776507788392361, 0.06265783427242634],\n",
       "  'saliency_longest_fixation': [-1.8724914109867006, 0.07661128466056351],\n",
       "  'latency_longest_fixation': [-2.2379192931630305, 0.03739982062846612],\n",
       "  'latency_maximum_saliency': [-1.1919697270942122, 0.2479489915112202],\n",
       "  'avg_saliency': [-1.8200702304453904, 0.07985224159641763]},\n",
       " 'Freeviewingstillimage_18': {'latency_first_fixation': [-0.17621768688091716,\n",
       "   0.8618112228893662],\n",
       "  'saliency_first_fixation': [-0.9143502213156346, 0.37091255871951023],\n",
       "  'saliency_longest_fixation': [-0.9385752093428908, 0.3586195105686384],\n",
       "  'latency_longest_fixation': [-1.1115862045333897, 0.2788808337324743],\n",
       "  'latency_maximum_saliency': [-0.6421088865885304, 0.5277505020676079],\n",
       "  'avg_saliency': [-1.467243239754968, 0.1543030662422471]},\n",
       " 'Freeviewingstillimage_17': {'latency_first_fixation': [-3.800569958957318,\n",
       "   0.0010455646378260237],\n",
       "  'saliency_first_fixation': [-3.4043847150741824, 0.0026704261878739916],\n",
       "  'saliency_longest_fixation': [-3.388910308108496, 0.002769198688622759],\n",
       "  'latency_longest_fixation': [-3.8001717240370514, 0.001046556640110669],\n",
       "  'latency_maximum_saliency': [-3.9050722836398033, 0.0008150058231056158],\n",
       "  'avg_saliency': [-2.4441942688018288, 0.021609723355412887]},\n",
       " 'Freeviewingstillimage_16': {'latency_first_fixation': [-1.8626133603923138,\n",
       "   0.07727276111487512],\n",
       "  'saliency_first_fixation': [-3.1171047485049854, 0.005429996778853079],\n",
       "  'saliency_longest_fixation': [-2.844711586889679, 0.010013960562872577],\n",
       "  'latency_longest_fixation': [-2.94463863781231, 0.00801274929641935],\n",
       "  'latency_maximum_saliency': [-1.3651844077777573, 0.1873559830754668],\n",
       "  'avg_saliency': [-2.313724887420675, 0.028849357983748797]},\n",
       " 'Freeviewingstillimage_15': {'latency_first_fixation': [0.5644296353985475,\n",
       "   0.578737634139076],\n",
       "  'saliency_first_fixation': [-2.7588850451386073, 0.012107226371657096],\n",
       "  'saliency_longest_fixation': [-2.7588850451386073, 0.012107226371657096],\n",
       "  'latency_longest_fixation': [0.5644296353985475, 0.578737634139076],\n",
       "  'latency_maximum_saliency': [0.27396909631059485, 0.786917971835751],\n",
       "  'avg_saliency': [-2.95872524775958, 0.006843711237387436]},\n",
       " 'Freeviewingstillimage_13': {'latency_first_fixation': [0.5695962675497398,\n",
       "   0.5752941388678041],\n",
       "  'saliency_first_fixation': [-2.0861149084836494, 0.04998489576048457],\n",
       "  'saliency_longest_fixation': [-2.772109755080042, 0.011759480048489451],\n",
       "  'latency_longest_fixation': [-0.3351709840607214, 0.7409861504578581],\n",
       "  'latency_maximum_saliency': [0.22623346923070345, 0.8233158965855816],\n",
       "  'avg_saliency': [-2.666329479266481, 0.012234504263137828]},\n",
       " 'Freeviewingstillimage_12': {'latency_first_fixation': [0.6488495724758521,\n",
       "   0.5246284425388776],\n",
       "  'saliency_first_fixation': [-2.407933068072972, 0.026983671236580156],\n",
       "  'saliency_longest_fixation': [-2.407933068072972, 0.026983671236580156],\n",
       "  'latency_longest_fixation': [0.6488495724758521, 0.5246284425388776],\n",
       "  'latency_maximum_saliency': [-0.07788243538469641, 0.9387808051550013],\n",
       "  'avg_saliency': [-3.220812895115243, 0.00342142298696795]},\n",
       " 'Freeviewingstillimage_11': {'latency_first_fixation': [-0.9170882355740942,\n",
       "   0.36904113781170755],\n",
       "  'saliency_first_fixation': [-1.7409243882380399, 0.09566614589278181],\n",
       "  'saliency_longest_fixation': [-1.6951508647766098, 0.10415615002184969],\n",
       "  'latency_longest_fixation': [-2.4955667483123642, 0.020565225556449202],\n",
       "  'latency_maximum_saliency': [-1.6298527407997687, 0.11736834366992782],\n",
       "  'avg_saliency': [-2.7385903255790836, 0.010991034363222308]},\n",
       " 'Freeviewingstillimage_10_cutout': {'latency_first_fixation': [0.3747713250775887,\n",
       "   0.7119809750222458],\n",
       "  'saliency_first_fixation': [-1.1505111707989342, 0.26420815659766594],\n",
       "  'saliency_longest_fixation': [-1.1505111707989342, 0.26420815659766594],\n",
       "  'latency_longest_fixation': [0.3747713250775887, 0.7119809750222458],\n",
       "  'latency_maximum_saliency': [-0.479012869878742, 0.6373961452840242],\n",
       "  'avg_saliency': [-4.0814436307385105, 0.0003205500545825231]},\n",
       " 'Freeviewingstillimage_10': {'latency_first_fixation': [0.08091847354750048,\n",
       "   0.9364518089202927],\n",
       "  'saliency_first_fixation': [-3.517157415101891, 0.0026438346030674153],\n",
       "  'saliency_longest_fixation': [-3.6721013393160384, 0.0018888580170888815],\n",
       "  'latency_longest_fixation': [0.31615525524151716, 0.755733439334802],\n",
       "  'latency_maximum_saliency': [0.4061830977821792, 0.6896753251330446],\n",
       "  'avg_saliency': [-4.053830838965784, 0.0004598549495388729]},\n",
       " 'Freeviewingstillimage_1': {'latency_first_fixation': [0.8916659476046169,\n",
       "   0.3843368580624734],\n",
       "  'saliency_first_fixation': [-0.7537529164660987, 0.46074452234068153],\n",
       "  'saliency_longest_fixation': [-0.7656376635654429, 0.45381520122956154],\n",
       "  'latency_longest_fixation': [0.6789347866046782, 0.5058158936680195],\n",
       "  'latency_maximum_saliency': [1.378717685683866, 0.18487630911482977],\n",
       "  'avg_saliency': [-1.7409163738945062, 0.09267804955238917]}}"
      ]
     },
     "execution_count": 27,
     "metadata": {},
     "output_type": "execute_result"
    }
   ],
   "source": [
    "significance = ['Trial_name', 'avg_saliency', 'latency_first_fixation', 'saliency_first_fixation', 'saliency_longest_fixation'\\\n",
    "    , 'latency_longest_fixation', 'latency_maximum_saliency']\n",
    "pv = 0.01\n",
    "for trial, stats in avg_stats_all.items():\n",
    "    significance.append([trial, stats['avg_saliency'][1]<pv, stats['latency_first_fixation'][1]<pv,\\\n",
    "        stats['saliency_first_fixation'][1]<pv, stats['saliency_longest_fixation'][1]<pv, stats['latency_longest_fixation'][1]<pv,\\\n",
    "        stats['latency_maximum_saliency'][1]<pv])"
   ]
  },
  {
   "cell_type": "code",
   "execution_count": null,
   "metadata": {},
   "outputs": [],
   "source": []
  }
 ],
 "metadata": {
  "interpreter": {
   "hash": "150c4d3c2ccf2482d30b4159dcd7cfbc97dad3409708ec1cea689bb0147cb576"
  },
  "kernelspec": {
   "display_name": "Python 3.9.7 ('cvi_base')",
   "language": "python",
   "name": "python3"
  },
  "language_info": {
   "codemirror_mode": {
    "name": "ipython",
    "version": 3
   },
   "file_extension": ".py",
   "mimetype": "text/x-python",
   "name": "python",
   "nbconvert_exporter": "python",
   "pygments_lexer": "ipython3",
   "version": "3.9.7"
  },
  "orig_nbformat": 2
 },
 "nbformat": 4,
 "nbformat_minor": 2
}
