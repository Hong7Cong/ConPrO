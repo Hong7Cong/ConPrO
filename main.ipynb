{
 "cells": [
  {
   "cell_type": "code",
   "execution_count": 1,
   "metadata": {},
   "outputs": [],
   "source": [
    "from IPython.display import clear_output \n",
    "import numpy as np\n",
    "# import pandas as pd\n",
    "import matplotlib.pyplot as plt\n",
    "import torchvision.transforms.functional as F\n",
    "import torch\n",
    "from torchvision.utils import make_grid\n",
    "from torchvision.io import read_image\n",
    "# from torchvision import models, transforms\n",
    "# import sys\n",
    "# import os\n",
    "from PIL import Image\n",
    "import torch\n",
    "# import torch.functional as F\n",
    "import numpy as np\n",
    "clear_output()\n",
    "# import glob\n",
    "from utils import *\n",
    "from datetime import date\n",
    "from torch.optim import lr_scheduler\n",
    "import torchvision\n",
    "from constants import mean, std\n",
    "from PapilledemaLoader import PapilledemaDataset, PapilSeverityDataset\n",
    "import torch.nn as nn\n",
    "import torch.optim as optim"
   ]
  },
  {
   "cell_type": "markdown",
   "metadata": {},
   "source": [
    "# Classification"
   ]
  },
  {
   "cell_type": "code",
   "execution_count": null,
   "metadata": {},
   "outputs": [],
   "source": [
    "data_dir = '/mnt/c/Users/PCM/Dropbox/chla_fundus_croped/severity'\n",
    "image_datasets = {x: PapilledemaDataset(data_dir=data_dir, phase=x) for x in ['train', 'val', 'test']}\n",
    "\n",
    "dataloaders = {x: torch.utils.data.DataLoader(image_datasets[x], batch_size=16, shuffle=True, num_workers=4)\n",
    "              for x in ['train', 'val', 'test']}\n",
    "\n",
    "dataset_sizes = {x: len(image_datasets[x]) for x in ['train', 'val',  'test']}\n",
    "class_names = image_datasets['train'].classes\n",
    "\n",
    "device = torch.device(\"cuda:0\" if torch.cuda.is_available() else \"cpu\")\n",
    "print(device, class_names)\n"
   ]
  },
  {
   "cell_type": "code",
   "execution_count": null,
   "metadata": {},
   "outputs": [],
   "source": [
    "inputs, classes = next(iter(dataloaders['test']))\n",
    "out = torchvision.utils.make_grid(inputs)\n",
    "imshow(out, title=[class_names[x] for x in classes], mean=mean, std=std)"
   ]
  },
  {
   "cell_type": "code",
   "execution_count": null,
   "metadata": {},
   "outputs": [],
   "source": [
    "# siamese50simclr = get_feature_extractor(feature_extractor='resnet101', cotrain=False, simclr='/mnt/c/Users/PCM/Dropbox/pretrained/SimCLR/checkpoint_10_02102023.pth.tar')\n",
    "siamese50simclr = get_feature_extractor(feature_extractor='resnet50', cotrain=False)#, simclr='/mnt/c/Users/PCM/Dropbox/pretrained/SimCLR/checkpoint_0050.pth.tar')#, simclr='/mnt/c/Users/PCM/Documents/GitHub/pseudopapill/SimCLR/runs/Oct29_21-00-13_DESKTOP-404G4HS/checkpoint_95_29102023.pth.tar')\n",
    "siamese50simclr.fc = nn.Sequential(torch.nn.Linear(2048, 1000),\n",
    "                                torch.nn.ReLU(),\n",
    "                                torch.nn.Dropout(0.1),\n",
    "                                torch.nn.Linear(1000, 256),\n",
    "                                # torch.nn.Linear(256, 256),\n",
    "                                # torch.nn.ReLU(),\n",
    "                                # torch.nn.Dropout(0.1),\n",
    "                                # torch.nn.Linear(256, 256),\n",
    "                                torch.nn.ReLU(),\n",
    "                                torch.nn.Dropout(0.1),\n",
    "                                torch.nn.Linear(256, len(class_names)))"
   ]
  },
  {
   "cell_type": "code",
   "execution_count": null,
   "metadata": {},
   "outputs": [],
   "source": [
    "# from torch.optim import lr_scheduler\n",
    "import pytorch_warmup as warmup  \n",
    "siamese50simclr = siamese50simclr.to(device)\n",
    "momentum = 0.9\n",
    "lr = 0.01\n",
    "optimizer_ft = optim.SGD([{'params': siamese50simclr.fc.parameters()}], lr=lr, momentum=momentum)\n",
    "class_weights=torch.tensor([0.3, 1.28, 1.51, 1.31, 3.18, 11],dtype=torch.float).to(device)\n",
    "loss_fn = torch.nn.CrossEntropyLoss(weight=class_weights)\n",
    "scheduler = lr_scheduler.StepLR(optimizer_ft, step_size=10, gamma=0.5)\n",
    "warmup_scheduler = warmup.LinearWarmup(optimizer_ft, warmup_period=10)\n",
    "\n",
    "for param in siamese50simclr.parameters():\n",
    "    param.requires_grad = False\n",
    "for param in siamese50simclr.fc.parameters():\n",
    "    param.requires_grad = True"
   ]
  },
  {
   "cell_type": "code",
   "execution_count": null,
   "metadata": {},
   "outputs": [],
   "source": [
    "# bestmodel = siamese50simclr\n",
    "valaccmax = 0\n",
    "for e in range(30):\n",
    "    training_acc = 0\n",
    "    val_acc = 0\n",
    "    training_loss_test = 0.0\n",
    "\n",
    "    for inputs, labels in dataloaders['train']:\n",
    "        siamese50simclr.train()\n",
    "        inputs = inputs.to(device)\n",
    "        labels = labels.to(device)\n",
    "        # zero the parameter gradients\n",
    "        optimizer_ft.zero_grad()\n",
    "\n",
    "        outputs = siamese50simclr(inputs)\n",
    "        _, preds = torch.max(outputs, 1)\n",
    "        loss = loss_fn(outputs, labels)\n",
    "        loss.backward()\n",
    "        optimizer_ft.step()\n",
    "        training_loss_test += loss.item() * inputs.size(0)\n",
    "        training_acc += torch.sum(preds == labels.data)\n",
    "\n",
    "    for inputs, labels in dataloaders['val']:\n",
    "        siamese50simclr.eval()\n",
    "        inputs = inputs.to(device)\n",
    "        labels = labels.to(device)\n",
    "\n",
    "        with torch.no_grad():\n",
    "            outputs = siamese50simclr(inputs)\n",
    "            _, preds = torch.max(outputs, 1)\n",
    "            loss = loss_fn(outputs, labels)\n",
    "\n",
    "        val_acc += torch.sum(preds == labels.data)\n",
    "\n",
    "    if(val_acc >= valaccmax):\n",
    "        valaccmax = val_acc\n",
    "        print(f\"New best mode at epoch {e}\")\n",
    "        torch.save(siamese50simclr.state_dict(), './pretrained/best-classification-siamese50simclr.pt')\n",
    "        \n",
    "    with warmup_scheduler.dampening(): \n",
    "        if warmup_scheduler.last_step + 1 >= 10:\n",
    "            scheduler.step()\n",
    "\n",
    "    print(f\"E{e} With LR {optimizer_ft.param_groups[0]['lr']} training acc: \", training_acc.detach().cpu().numpy() / dataset_sizes['train'], \"Val acc: \", val_acc.detach().cpu().numpy() / dataset_sizes['val'], \"traning loss: \", training_loss_test / dataset_sizes['train'])"
   ]
  },
  {
   "cell_type": "markdown",
   "metadata": {},
   "source": [
    "## Testing and Evaluation"
   ]
  },
  {
   "cell_type": "code",
   "execution_count": null,
   "metadata": {},
   "outputs": [],
   "source": [
    "# bestmodel = get_feature_extractor(feature_extractor='resnet101', cotrain=False, simclr='/mnt/c/Users/PCM/Dropbox/pretrained/SimCLR/checkpoint_10_02102023.pth.tar')\n",
    "bestmodel = get_feature_extractor(feature_extractor='resnet50', cotrain=False)#, simclr='/mnt/c/Users/PCM/Documents/GitHub/pseudopapill/SimCLR/runs/Oct29_21-00-13_DESKTOP-404G4HS/checkpoint_95_29102023.pth.tar')\n",
    "\n",
    "bestmodel.fc = nn.Sequential(torch.nn.Linear(2048, 1000),\n",
    "                                torch.nn.ReLU(),\n",
    "                                torch.nn.Dropout(0.1),\n",
    "                                torch.nn.Linear(1000, 256),\n",
    "                                # torch.nn.Linear(256, 256),\n",
    "                                # torch.nn.ReLU(),\n",
    "                                # torch.nn.Dropout(0.1),\n",
    "                                # torch.nn.Linear(256, 256),\n",
    "                                torch.nn.ReLU(),\n",
    "                                torch.nn.Dropout(0.1),\n",
    "                                torch.nn.Linear(256, len(class_names)))\n",
    "bestmodel.load_state_dict(torch.load('./pretrained/best-classification-siamese50simclr.pt'))\n",
    "bestmodel.to(device)\n",
    "clear_output()"
   ]
  },
  {
   "cell_type": "code",
   "execution_count": null,
   "metadata": {},
   "outputs": [],
   "source": [
    "test_acc = 0\n",
    "predlist = []\n",
    "labelist = []\n",
    "problist = []\n",
    "test_embeddings = torch.zeros((0, 2048))\n",
    "fextractor = torch.nn.Sequential(*(list(bestmodel.children())[:-1]))\n",
    "sedis = 0\n",
    "for inputs, labels in dataloaders['test']:\n",
    "    bestmodel.eval()\n",
    "    inputs = inputs.to(device)\n",
    "    labels = labels.to(device)\n",
    "\n",
    "    with torch.no_grad():\n",
    "        outputs = bestmodel(inputs)\n",
    "        emb = fextractor(inputs)\n",
    "        _, preds = torch.max(outputs, 1)\n",
    "        loss = loss_fn(outputs, labels)\n",
    "        sedis = sedis + torch.sum(torch.exp(torch.abs(labels - torch.max(outputs, 1)[1])))\n",
    "    problist.append(outputs[:,1].detach().cpu().numpy())\n",
    "    labelist.append(labels.detach().cpu().numpy()*1)\n",
    "    predlist.append(preds.detach().cpu().numpy())\n",
    "    # test_embeddings  = torch.cat((test_embeddings, emb.detach().cpu().flatten().unsqueeze(0)), axis=0)\n",
    "    test_acc += torch.sum(preds == labels.data)\n",
    "\n",
    "labelist = np.concatenate(labelist).ravel()\n",
    "problist = np.concatenate(problist).ravel()\n",
    "predlist = np.concatenate(predlist).ravel()\n",
    "# test_embeddings = np.array(test_embeddings)"
   ]
  },
  {
   "cell_type": "code",
   "execution_count": null,
   "metadata": {},
   "outputs": [],
   "source": [
    "sedis/dataset_sizes['test']"
   ]
  },
  {
   "cell_type": "markdown",
   "metadata": {},
   "source": [
    "### F1 Acc Confusion Matrix AUC-ROC"
   ]
  },
  {
   "cell_type": "code",
   "execution_count": null,
   "metadata": {},
   "outputs": [],
   "source": [
    "print(\"test_acc acc: \", test_acc / dataset_sizes['test'])"
   ]
  },
  {
   "cell_type": "code",
   "execution_count": null,
   "metadata": {},
   "outputs": [],
   "source": [
    "from sklearn.metrics import classification_report\n",
    "from sklearn.metrics import roc_auc_score\n",
    "\n",
    "print(classification_report(labelist, predlist, digits=3))"
   ]
  },
  {
   "cell_type": "code",
   "execution_count": null,
   "metadata": {},
   "outputs": [],
   "source": [
    "from sklearn.metrics import confusion_matrix, ConfusionMatrixDisplay\n",
    "cm = confusion_matrix(labelist, predlist)\n",
    "disp = ConfusionMatrixDisplay(confusion_matrix=cm, display_labels=class_names)\n",
    "disp.plot()\n",
    "plt.show()"
   ]
  },
  {
   "cell_type": "code",
   "execution_count": null,
   "metadata": {},
   "outputs": [],
   "source": [
    "import sklearn.metrics as metrics\n",
    "\n",
    "y_test = (labelist)\n",
    "y_pred =(problist)\n",
    "fpr, tpr, _ = metrics.roc_curve(y_test, y_pred)\n",
    "auc = round(metrics.roc_auc_score(y_test, y_pred), 4)\n",
    "plt.plot(fpr,tpr,label=\"Logistic Regression, AUC=\"+str(auc))\n",
    "plt.grid(linestyle='--')\n",
    "roc_auc_score(y_test, y_pred)"
   ]
  },
  {
   "cell_type": "markdown",
   "metadata": {},
   "source": [
    "### GradCAM"
   ]
  },
  {
   "cell_type": "code",
   "execution_count": null,
   "metadata": {},
   "outputs": [],
   "source": [
    "# siamese50simclr = RankNet_wresnet(feature_extractor='resnet101', cotrain=False).fextractor\n",
    "for param in bestmodel.parameters():\n",
    "    param.requires_grad = True"
   ]
  },
  {
   "cell_type": "code",
   "execution_count": null,
   "metadata": {},
   "outputs": [],
   "source": [
    "X, y = next(iter(dataloaders['test']))\n",
    "print('True label : ', y, ' and predicted: ', torch.max(bestmodel(X.cuda()),1)[1])"
   ]
  },
  {
   "cell_type": "code",
   "execution_count": null,
   "metadata": {},
   "outputs": [],
   "source": [
    "from pytorch_grad_cam.utils.image import show_cam_on_image\n",
    "from pytorch_grad_cam import GradCAM\n",
    "from pytorch_grad_cam.utils.model_targets import ClassifierOutputTarget\n",
    "\n",
    "model = bestmodel.eval()\n",
    "target_layers = [model.layer4[-1]]\n",
    "\n",
    "input_tensorA = X[0].unsqueeze(0)\n",
    "rgb_imgA = imgtensor2array(X[0], mean=mean, std=std)\n",
    "cam = GradCAM(model=model, target_layers=target_layers, use_cuda=True)\n",
    "grayscale_camA = cam(input_tensor=input_tensorA, targets=[ClassifierOutputTarget(0)])\n",
    "\n",
    "visualizationA = show_cam_on_image(rgb_imgA, grayscale_camA[0, :], use_rgb=True)\n",
    "\n",
    "fig, axes = plt.subplots(1, 2, figsize=(16, 4))\n",
    "ax = axes.ravel()\n",
    "\n",
    "ax[0].imshow(visualizationA, label= 'heatmap A')\n",
    "ax[1].imshow(rgb_imgA, label= 'heatmap A')\n"
   ]
  },
  {
   "cell_type": "markdown",
   "metadata": {},
   "source": [
    "### Plot TSNE"
   ]
  },
  {
   "cell_type": "code",
   "execution_count": null,
   "metadata": {},
   "outputs": [],
   "source": [
    "import matplotlib.pyplot as plt\n",
    "import numpy as np\n",
    "import torch\n",
    "from matplotlib import cm\n",
    "from sklearn.decomposition import PCA\n",
    "from sklearn.manifold import TSNE\n",
    "from torch.utils.data import DataLoader\n",
    "from torchvision import transforms\n",
    "from torchvision.datasets import MNIST"
   ]
  },
  {
   "cell_type": "code",
   "execution_count": null,
   "metadata": {},
   "outputs": [],
   "source": [
    "tsne = TSNE(2, verbose=1, n_iter=1000)\n",
    "tsne_proj = tsne.fit_transform(test_embeddings)\n",
    "# Plot those points as a scatter plot and label them based on the pred labels\n",
    "cmap = cm.get_cmap('tab20')\n",
    "fig, ax = plt.subplots(figsize=(8,8))\n",
    "num_categories = 6\n",
    "for lab in range(num_categories):\n",
    "    indices = predlist==lab\n",
    "    ax.scatter(tsne_proj[indices,0],tsne_proj[indices,1], c=np.array(cmap(lab)).reshape(1,4), label = lab ,alpha=0.5)\n",
    "ax.legend(fontsize='large', markerscale=2)\n",
    "plt.show()"
   ]
  },
  {
   "cell_type": "markdown",
   "metadata": {},
   "source": [
    "# Similarity Comparison"
   ]
  },
  {
   "cell_type": "code",
   "execution_count": null,
   "metadata": {},
   "outputs": [],
   "source": [
    "data_dir = '/mnt/c/Users/PCM/Dropbox/chla_fundus_croped/severity'\n",
    "datalne = {'train':100000, 'val':1000, 'test':1000}\n",
    "image_datasets = {x: PapilSeverityDataset(data_dir=data_dir, phase=x, datalen=datalne[x], mode=\"binary_contrastive\") for x in ['train', 'val', 'test']}\n",
    "batch_size = {'train':16, 'val':16, 'test':1}\n",
    "dataloaders = {x: torch.utils.data.DataLoader(image_datasets[x], batch_size=batch_size[x], shuffle=True, num_workers=4)\n",
    "              for x in ['train', 'val', 'test']}\n",
    "\n",
    "dataset_sizes = {x: len(image_datasets[x]) for x in ['train', 'val',  'test']}\n",
    "class_names = ['0','1']\n",
    "\n",
    "device = torch.device(\"cuda:0\" if torch.cuda.is_available() else \"cpu\")\n",
    "print(device, class_names)"
   ]
  },
  {
   "cell_type": "code",
   "execution_count": null,
   "metadata": {},
   "outputs": [],
   "source": [
    "(inputs, _), classes, _ = next(iter(dataloaders['train']))\n",
    "out = torchvision.utils.make_grid(inputs)\n",
    "imshow(out, title=[class_names[x] for x in classes], mean=mean, std=std)"
   ]
  },
  {
   "cell_type": "code",
   "execution_count": null,
   "metadata": {},
   "outputs": [],
   "source": [
    "class SiameseNetwork101(nn.Module):\n",
    "    \"\"\"\n",
    "    Siamese neural network\n",
    "    Modified from: https://hackernoon.com/facial-similarity-with-siamese-networks-in-pytorch-9642aa9db2f7\n",
    "    Siamese ResNet-101 from Pytorch library\n",
    "    \"\"\" \n",
    "    def __init__(self):\n",
    "        super(SiameseNetwork101, self).__init__()\n",
    "        # note that resnet101 requires 3 input channels, will repeat grayscale image x3\n",
    "        self.cnn1 = get_feature_extractor(feature_extractor='resnet50', cotrain=False , simclr='/mnt/c/Users/PCM/Dropbox/pretrained/SimCLR/checkpoint_0050.pth.tar')\n",
    "        self.cnn1.fc = nn.Sequential(torch.nn.Linear(2048, 1000),\n",
    "                                torch.nn.ReLU(),\n",
    "                                torch.nn.Dropout(0.1),\n",
    "                                torch.nn.Linear(1000, 256))\n",
    "    \n",
    "    def forward_once(self, x):\n",
    "        output = self.cnn1(x)\n",
    "        return output\n",
    "\n",
    "    def forward(self, input1, input2):\n",
    "        output1 = self.forward_once(input1)\n",
    "        output2 = self.forward_once(input2)\n",
    "        return output1, output2\n"
   ]
  },
  {
   "cell_type": "code",
   "execution_count": null,
   "metadata": {},
   "outputs": [],
   "source": [
    "class ContrastiveLoss(torch.nn.Module):\n",
    "    \"\"\"\n",
    "    Contrastive loss function.\n",
    "    Based on: http://yann.lecun.com/exdb/publis/pdf/hadsell-chopra-lecun-06.pdf\n",
    "    Modified from: https://hackernoon.com/facial-similarity-with-siamese-networks-in-pytorch-9642aa9db2f7\n",
    "\n",
    "    \"\"\" \n",
    "\n",
    "    def __init__(self, margin=2.0):\n",
    "        super(ContrastiveLoss, self).__init__()\n",
    "        self.margin = margin\n",
    "\n",
    "    def forward(self, output1, output2, label):\n",
    "        # euclidean_distance = torch.nn.functional.pairwise_distance(output1, output2)\n",
    "        # loss_contrastive = torch.mean((1-label) * torch.pow(euclidean_distance, 2) +\n",
    "        #                               (label) * torch.pow(torch.clamp(self.margin - euclidean_distance, min=0.0), 2))\n",
    "        \n",
    "        cosine_distance = torch.nn.functional.cosine_similarity(output1, output2)\n",
    "        loss_contrastive = torch.mean((1-label) * torch.pow(cosine_distance, 2) +\n",
    "                                      (label) * torch.pow(torch.clamp(self.margin - cosine_distance, min=0.0), 2))\n",
    "        # loss_contrastive =  torch.nn.NLLLoss()(cosine_distance)\n",
    "\n",
    "        return loss_contrastive"
   ]
  },
  {
   "cell_type": "code",
   "execution_count": null,
   "metadata": {},
   "outputs": [],
   "source": [
    "# from torch.optim import lr_scheduler\n",
    "siamese50simclr = SiameseNetwork101().to(device)\n",
    "momentum = 0\n",
    "lr = 0.001\n",
    "optimizer_ft = optim.SGD([{'params': siamese50simclr.cnn1.conv1.parameters()},\n",
    "                        {'params': siamese50simclr.cnn1.layer1.parameters()},\n",
    "                        {'params': siamese50simclr.cnn1.layer2.parameters()},\n",
    "                        {'params': siamese50simclr.cnn1.layer3.parameters()},\n",
    "                        {'params': siamese50simclr.cnn1.layer4.parameters()},\n",
    "                        {'params': siamese50simclr.cnn1.fc.parameters(), 'lr':lr*10}], lr=lr, momentum=momentum)\n",
    "loss_fn = ContrastiveLoss(margin=2.0)\n",
    "scheduler = lr_scheduler.StepLR(optimizer_ft, step_size=10, gamma=0.5)\n",
    "\n",
    "for param in siamese50simclr.cnn1.parameters():\n",
    "    param.requires_grad = True\n",
    "for param in siamese50simclr.cnn1.fc.parameters():\n",
    "    param.requires_grad = True"
   ]
  },
  {
   "cell_type": "code",
   "execution_count": null,
   "metadata": {},
   "outputs": [],
   "source": [
    "valaccmax = 0\n",
    "trainlosslist = []\n",
    "trainacclist  = []\n",
    "currloss = 100000\n",
    "for e in range(100):\n",
    "    training_acc = 0\n",
    "    val_acc = 0\n",
    "    training_loss = 0.0\n",
    "    val_loss = 0.0\n",
    "    for inputs, labels, _ in dataloaders['train']:\n",
    "        siamese50simclr.train()\n",
    "        inputA = inputs[0].to(device)\n",
    "        inputB = inputs[1].to(device)\n",
    "        labels = labels.to(device)\n",
    "        # zero the parameter gradients\n",
    "        optimizer_ft.zero_grad()\n",
    "\n",
    "        output1, output2 = siamese50simclr(inputA, inputB)\n",
    "        # preds = (torch.max(output1, 1)[1] == torch.max(output2, 1)[1])*1\n",
    "        loss = loss_fn(output1, output2, labels)\n",
    "        loss.backward()\n",
    "        optimizer_ft.step()\n",
    "        training_loss += loss.item()\n",
    "        # training_acc += torch.sum(preds == labels.data)\n",
    "    # trainlosslist.append(training_loss)\n",
    "        # trainacclist.append(training_acc)\n",
    "        \n",
    "    for inputs, labels, _ in dataloaders['val']:\n",
    "        siamese50simclr.eval()\n",
    "        inputA = inputs[0].to(device)\n",
    "        inputB = inputs[1].to(device)\n",
    "        labels = labels.to(device)\n",
    "\n",
    "        with torch.no_grad():\n",
    "            output1, output2 = siamese50simclr(inputA, inputB)\n",
    "            # preds = (torch.max(output1, 1)[1] == torch.max(output2, 1)[1])*1\n",
    "            loss = loss_fn(output1, output2, labels)\n",
    "            val_loss += loss.item()\n",
    "            # val_acc += torch.sum(preds == labels.data)\n",
    "\n",
    "    if(val_loss < currloss):\n",
    "        currloss = val_loss\n",
    "        today = date.today()\n",
    "        torch.save(siamese50simclr.state_dict(), f'./pretrained/best-contrastive50-{today}.pt')\n",
    "\n",
    "    scheduler.step()\n",
    "\n",
    "    print(f\"E{e} With LR {optimizer_ft.param_groups[0]['lr']} training acc: \", \"traning loss: \", training_loss / dataset_sizes['train'], \"val loss: \", val_loss / dataset_sizes['val'])"
   ]
  },
  {
   "cell_type": "code",
   "execution_count": null,
   "metadata": {},
   "outputs": [],
   "source": [
    "plt.plot(torch.stack(val_loss).cpu()/1000)\n",
    "# plt.plot(training_loss_test/1000)"
   ]
  },
  {
   "cell_type": "code",
   "execution_count": null,
   "metadata": {},
   "outputs": [],
   "source": [
    "bestsimese50simclr = SiameseNetwork101().to(device)\n",
    "state_dict = torch.load('./pretrained/best-contrastive50-2024-03-10.pt')\n",
    "bestsimese50simclr.load_state_dict(state_dict)"
   ]
  },
  {
   "cell_type": "code",
   "execution_count": null,
   "metadata": {},
   "outputs": [],
   "source": [
    "test_acc = 0\n",
    "test_embeddings = torch.zeros((0, 256))\n",
    "test_targets = []\n",
    "\n",
    "for inputs, labels, args in dataloaders['train']:\n",
    "        bestsimese50simclr.eval()\n",
    "        inputA = inputs[0].to(device)\n",
    "        inputB = inputs[1].to(device)\n",
    "        labels = labels.to(device)\n",
    "\n",
    "        with torch.no_grad():\n",
    "            output1, output2 = bestsimese50simclr(inputA, inputB)\n",
    "            preds = (torch.max(output1, 1)[1] == torch.max(output2, 1)[1])*1\n",
    "            # loss = loss_fn(inputA, inputB, labels)\n",
    "            test_acc += torch.sum(preds == labels.data)\n",
    "            test_targets.append(args[0])\n",
    "            test_targets.append(args[1])\n",
    "            test_embeddings  = torch.cat((test_embeddings, output1.detach().cpu().flatten().unsqueeze(0)), axis=0)\n",
    "            test_embeddings  = torch.cat((test_embeddings, output2.detach().cpu().flatten().unsqueeze(0)), axis=0)\n",
    "test_acc\n",
    "\n",
    "test_targets = torch.stack(test_targets).flatten()\n",
    "test_embeddings = np.array(test_embeddings)\n",
    "test_targets = np.array(test_targets)\n"
   ]
  },
  {
   "cell_type": "code",
   "execution_count": null,
   "metadata": {},
   "outputs": [],
   "source": [
    "from matplotlib import cm\n",
    "from sklearn.decomposition import PCA\n",
    "from sklearn.manifold import TSNE\n",
    "embeddings = test_embeddings[~np.isnan(test_targets)]\n",
    "targets = test_targets[~np.isnan(test_targets)]\n",
    "\n",
    "tsne = TSNE(2, verbose=1, n_iter=1000, init='random', perplexity=30, early_exaggeration=12, metric=\"cosine\")\n",
    "tsne_proj = tsne.fit_transform(embeddings)\n",
    "# Plot those points as a scatter plot and label them based on the pred labels\n",
    "cmap = cm.get_cmap('tab20')\n",
    "fig, ax = plt.subplots(figsize=(8,8))\n",
    "num_categories = 6\n",
    "for lab in range(num_categories):\n",
    "    indices = targets==lab\n",
    "    ax.scatter(tsne_proj[indices,0],tsne_proj[indices,1], label = lab ,alpha=0.5)\n",
    "ax.legend(fontsize='large', markerscale=2)\n",
    "plt.show()"
   ]
  },
  {
   "cell_type": "markdown",
   "metadata": {},
   "source": [
    "# Prefered Comparison"
   ]
  },
  {
   "cell_type": "code",
   "execution_count": 2,
   "metadata": {},
   "outputs": [
    {
     "name": "stdout",
     "output_type": "stream",
     "text": [
      "cuda:0 ['0', '1']\n"
     ]
    }
   ],
   "source": [
    "data_dir = '/mnt/c/Users/PCM/Dropbox/chla_fundus_croped/severity'\n",
    "datalne = {'train':10000, 'val':1000, 'test':1000}\n",
    "image_datasets = {x: PapilSeverityDataset(data_dir=data_dir, phase=x, datalen=datalne[x], mode=\"severity_comparison\") for x in ['train', 'val', 'test']}\n",
    "batch_size = {'train':8, 'val':8, 'test':1}\n",
    "dataloaders = {x: torch.utils.data.DataLoader(image_datasets[x], batch_size=batch_size[x], shuffle=True, num_workers=4)\n",
    "              for x in ['train', 'val', 'test']}\n",
    "\n",
    "dataset_sizes = {x: len(image_datasets[x]) for x in ['train', 'val',  'test']}\n",
    "class_names = ['0','1']\n",
    "\n",
    "device = torch.device(\"cuda:0\" if torch.cuda.is_available() else \"cpu\")\n",
    "print(device, class_names)"
   ]
  },
  {
   "cell_type": "code",
   "execution_count": 3,
   "metadata": {},
   "outputs": [
    {
     "data": {
      "image/png": "[encoded data removed]",
      "text/plain": [
       "<Figure size 640x480 with 1 Axes>"
      ]
     },
     "metadata": {},
     "output_type": "display_data"
    }
   ],
   "source": [
    "(inputs, _), classes, _ = next(iter(dataloaders['train']))\n",
    "out = torchvision.utils.make_grid(inputs)\n",
    "imshow(out, title=[class_names[x] for x in classes], mean=mean, std=std)"
   ]
  },
  {
   "cell_type": "code",
   "execution_count": 4,
   "metadata": {},
   "outputs": [],
   "source": [
    "class SiameseNetwork101(nn.Module):\n",
    "    \"\"\"\n",
    "    Siamese neural network\n",
    "    Modified from: https://hackernoon.com/facial-similarity-with-siamese-networks-in-pytorch-9642aa9db2f7\n",
    "    Siamese ResNet-101 from Pytorch library\n",
    "    \"\"\" \n",
    "    def __init__(self):\n",
    "        super(SiameseNetwork101, self).__init__()\n",
    "        # note that resnet101 requires 3 input channels, will repeat grayscale image x3\n",
    "        self.cnn1 = get_feature_extractor(feature_extractor='resnet50', cotrain=False)# , simclr='/mnt/c/Users/PCM/Dropbox/pretrained/SimCLR/checkpoint_10_02102023.pth.tar')\n",
    "        self.cnn1.fc = nn.Sequential(torch.nn.Linear(2048, 1000),\n",
    "                                torch.nn.ReLU(),\n",
    "                                torch.nn.Dropout(0.1),\n",
    "                                torch.nn.Linear(1000, 256))\n",
    "    \n",
    "    def forward_once(self, x):\n",
    "        output = self.cnn1(x)\n",
    "        return output\n",
    "\n",
    "    def forward(self, input1, input2):\n",
    "        output1 = self.forward_once(input1)\n",
    "        output2 = self.forward_once(input2)\n",
    "        return output1, output2\n"
   ]
  },
  {
   "cell_type": "code",
   "execution_count": 5,
   "metadata": {},
   "outputs": [],
   "source": [
    "class SeverityModel(nn.Module):\n",
    "    \"\"\"\n",
    "    Siamese neural network\n",
    "    Modified from: https://hackernoon.com/facial-similarity-with-siamese-networks-in-pytorch-9642aa9db2f7\n",
    "    Siamese ResNet-101 from Pytorch library\n",
    "    \"\"\" \n",
    "    def __init__(self, path2pretrained='./pretrained/best-contrastive50-2024-02-29.pt'):\n",
    "        super(SeverityModel, self).__init__()\n",
    "        # note that resnet101 requires 3 input channels, will repeat grayscale image x3\n",
    "        self.bestsimese50simclr = SiameseNetwork101()\n",
    "        state_dict = torch.load(path2pretrained)\n",
    "        self.bestsimese50simclr.load_state_dict(state_dict)\n",
    "        self.bestsimese50simclr.cnn1.add_module('fc2',\n",
    "            nn.Sequential(torch.nn.Linear(256, 256),\n",
    "                          torch.nn.ReLU(),\n",
    "                        torch.nn.Dropout(0.1),\n",
    "                        torch.nn.Linear(256, 256)))\n",
    "    \n",
    "    def forward_once(self, x):\n",
    "        output = self.bestsimese50simclr.cnn1.fc2(self.bestsimese50simclr.cnn1(x))\n",
    "        return output\n",
    "\n",
    "    def forward(self, input1, input2, refinput):\n",
    "        output1 = self.forward_once(input1)\n",
    "        output2 = self.forward_once(input2)\n",
    "        refinput = self.bestsimese50simclr.cnn1(refinput)\n",
    "        return output1, output2, refinput"
   ]
  },
  {
   "cell_type": "code",
   "execution_count": 6,
   "metadata": {},
   "outputs": [],
   "source": [
    "class PreferenceComparisonLoss(torch.nn.Module):\n",
    "    \"\"\"\n",
    "    Contrastive loss function.\n",
    "    Based on: http://yann.lecun.com/exdb/publis/pdf/hadsell-chopra-lecun-06.pdf\n",
    "    Modified from: https://hackernoon.com/facial-similarity-with-siamese-networks-in-pytorch-9642aa9db2f7\n",
    "\n",
    "    \"\"\" \n",
    "\n",
    "    def __init__(self, margin=2.0):\n",
    "        super(PreferenceComparisonLoss, self).__init__()\n",
    "        self.margin = margin\n",
    "\n",
    "    def forward(self, output1, output2, label, ref):\n",
    "        # euclidean_distance = torch.nn.functional.pairwise_distance(output1, output2)\n",
    "        # loss_contrastive = torch.mean((1-label) * torch.pow(euclidean_distance, 2) +\n",
    "        #                               (label) * torch.pow(torch.clamp(self.margin - euclidean_distance, min=0.0), 2))\n",
    "        \n",
    "        cosine_distanceA = torch.nn.functional.cosine_similarity(output1, ref)\n",
    "        cosine_distanceB = torch.nn.functional.cosine_similarity(output2, ref)\n",
    "        loss_comparation = torch.nn.NLLLoss()(torch.nn.Sigmoid()(cosine_distanceA - cosine_distanceB), label)\n",
    "        # loss_comparation = torch.mean((1-label) * torch.pow(cosine_distance, 2) +\n",
    "        #                               (label) * torch.pow(torch.clamp(self.margin - cosine_distance, min=0.0), 2))\n",
    "\n",
    "        return loss_comparation"
   ]
  },
  {
   "cell_type": "code",
   "execution_count": 7,
   "metadata": {},
   "outputs": [],
   "source": [
    "smodel = SeverityModel(path2pretrained='./pretrained/best-contrastive50-2024-03-10.pt').to(device)\n",
    "momentum = 0\n",
    "lr = 0.001\n",
    "optimizer_ft = optim.SGD([{'params': smodel.bestsimese50simclr.cnn1.conv1.parameters()},\n",
    "                        {'params': smodel.bestsimese50simclr.cnn1.layer1.parameters()},\n",
    "                        {'params': smodel.bestsimese50simclr.cnn1.layer2.parameters()},\n",
    "                        {'params': smodel.bestsimese50simclr.cnn1.layer3.parameters()},\n",
    "                        {'params': smodel.bestsimese50simclr.cnn1.layer4.parameters()},\n",
    "                        {'params': smodel.bestsimese50simclr.cnn1.fc.parameters()},\n",
    "                        {'params': smodel.bestsimese50simclr.cnn1.fc2.parameters(), 'lr':lr*10}], lr=lr, momentum=momentum)\n",
    "loss_fn = PreferenceComparisonLoss()\n",
    "scheduler = lr_scheduler.StepLR(optimizer_ft, step_size=10, gamma=0.5)\n",
    "\n",
    "for param in smodel.bestsimese50simclr.cnn1.parameters():\n",
    "    param.requires_grad = True\n",
    "for param in smodel.bestsimese50simclr.cnn1.fc2.parameters():\n",
    "    param.requires_grad = True"
   ]
  },
  {
   "cell_type": "code",
   "execution_count": 17,
   "metadata": {},
   "outputs": [],
   "source": [
    "valaccmax = 0\n",
    "trainlosslist = []\n",
    "trainacclist  = []"
   ]
  },
  {
   "cell_type": "code",
   "execution_count": 9,
   "metadata": {},
   "outputs": [],
   "source": [
    "# valaccmax = 0\n",
    "# trainlosslist = []\n",
    "# trainacclist  = []\n",
    "# torch.set_grad_enabled(True)\n",
    "for e in range(50):\n",
    "    training_acc = 0\n",
    "    val_acc = 0\n",
    "    training_loss_test = 0.0\n",
    "    val_loss = 0.0\n",
    "    curr_loss = 100\n",
    "    curr_train_loss = 100\n",
    "    for inputs, labels, _ in dataloaders['train']:\n",
    "        smodel.train()\n",
    "        inputA = inputs[0].to(device)\n",
    "        inputB = inputs[1].to(device)\n",
    "        labels = labels.to(device)\n",
    "        # zero the parameter gradients\n",
    "        optimizer_ft.zero_grad()\n",
    "        # ref = [image_datasets['train'].get_ref_images() for i in range(len(inputA))]\n",
    "        ref = [torch.stack(image_datasets['train'].get_ref_images2(n=20)) for i in range(len(inputA))]\n",
    "        ref = torch.stack(ref).to(device)\n",
    "        # output1, output2, refimg = smodel(inputA, inputB, ref)\n",
    "        output1, output2, refimg = smodel(inputA, inputB, ref.reshape((160,3,224,224)))\n",
    "        refimg = torch.mean(refimg.reshape((8,20,256)), axis=1)\n",
    "        # preds = (torch.max(output1, 1)[1] == torch.max(output2, 1)[1])*1\n",
    "        loss = loss_fn(output1, output2, labels, refimg)\n",
    "        # cosine_distanceA = torch.nn.functional.cosine_similarity(output1, refimg)\n",
    "        # cosine_distanceB = torch.nn.functional.cosine_similarity(output2, refimg)\n",
    "        # gamma = torch.nn.Sigmoid()(cosine_distanceA - cosine_distanceB)\n",
    "        # loss = torch.nn.NLLLoss()(gamma, labels)\n",
    "        # loss.requires_grad = True\n",
    "        loss.backward()\n",
    "        optimizer_ft.step()\n",
    "        training_loss_test += loss.item()\n",
    "        # training_acc += torch.sum(preds == labels.data)\n",
    "        # trainlosslist.append(training_loss_test)\n",
    "        # trainacclist.append(training_acc)\n",
    "        \n",
    "    # for inputs, labels, _ in dataloaders['val']:\n",
    "    #     smodel.eval()\n",
    "    #     inputA = inputs[0].to(device)\n",
    "    #     inputB = inputs[1].to(device)\n",
    "    #     labels = labels.to(device)\n",
    "\n",
    "    #     with torch.no_grad():\n",
    "    #         ref = [image_datasets['train'].get_ref_images() for i in range(len(inputA))]\n",
    "    #         ref = torch.stack(ref).to(device)\n",
    "    #         output1, output2, refimg = smodel(inputA, inputB, ref)\n",
    "    #         loss = loss_fn(output1, output2, labels, refimg)\n",
    "    #         val_loss += loss.item()\n",
    "            # output1, output2 = siamese50simclr(inputA, inputB)\n",
    "            # preds = (torch.max(output1, 1)[1] == torch.max(output2, 1)[1])*1\n",
    "            # loss = loss_fn(inputA, inputB, labels)\n",
    "            # val_acc += torch.sum(preds == labels.data)\n",
    "\n",
    "    # if(val_loss < curr_loss):\n",
    "    #     curr_loss = val_loss\n",
    "    #     today = date.today()\n",
    "    #     torch.save(smodel.state_dict(), f'./pretrained/best-val-smodel50-wofreeze-{today}.pt')\n",
    "    if(training_loss_test < curr_loss):\n",
    "        curr_train_loss = training_loss_test\n",
    "        today = date.today()\n",
    "        torch.save(smodel.state_dict(), f'./pretrained/best-train-smodel50-wofreeze-{today}-n20.pt')\n",
    "\n",
    "    scheduler.step()\n",
    "\n",
    "    print(f\"E{e} With LR {optimizer_ft.param_groups[0]['lr']}\", \"traning loss: \", training_loss_test / dataset_sizes['train'], \"val loss: \", val_loss / dataset_sizes['val'])"
   ]
  },
  {
   "cell_type": "code",
   "execution_count": 25,
   "metadata": {},
   "outputs": [
    {
     "data": {
      "text/plain": [
       "torch.Size([16, 256])"
      ]
     },
     "execution_count": 25,
     "metadata": {},
     "output_type": "execute_result"
    }
   ],
   "source": [
    "torch.mean(refimg.reshape((16,10,256)), axis=1).shape"
   ]
  },
  {
   "cell_type": "code",
   "execution_count": null,
   "metadata": {},
   "outputs": [
    {
     "ename": "AttributeError",
     "evalue": "'torch.dtype' object has no attribute 'type'",
     "output_type": "error",
     "traceback": [
      "\u001b[0;31m---------------------------------------------------------------------------\u001b[0m",
      "\u001b[0;31mAttributeError\u001b[0m                            Traceback (most recent call last)",
      "Cell \u001b[0;32mIn[11], line 1\u001b[0m\n\u001b[0;32m----> 1\u001b[0m \u001b[43mimage_datasets\u001b[49m\u001b[43m[\u001b[49m\u001b[38;5;124;43m'\u001b[39;49m\u001b[38;5;124;43mtrain\u001b[39;49m\u001b[38;5;124;43m'\u001b[39;49m\u001b[43m]\u001b[49m\u001b[38;5;241;43m.\u001b[39;49m\u001b[43mget_ref_images2\u001b[49m\u001b[43m(\u001b[49m\u001b[43m)\u001b[49m\n",
      "File \u001b[0;32m/mnt/c/Users/PCM/Documents/GitHub/pseudopapill/PapilledemaLoader.py:147\u001b[0m, in \u001b[0;36mPapilSeverityDataset.get_ref_images2\u001b[0;34m(self, n)\u001b[0m\n\u001b[1;32m    145\u001b[0m \u001b[38;5;28;01mif\u001b[39;00m(\u001b[38;5;28mself\u001b[39m\u001b[38;5;241m.\u001b[39mtransform):\n\u001b[1;32m    146\u001b[0m     ref_img \u001b[38;5;241m=\u001b[39m [\u001b[38;5;28mself\u001b[39m\u001b[38;5;241m.\u001b[39mtransform(Image\u001b[38;5;241m.\u001b[39mopen(i)) \u001b[38;5;28;01mfor\u001b[39;00m i \u001b[38;5;129;01min\u001b[39;00m ref_img]\n\u001b[0;32m--> 147\u001b[0m \u001b[38;5;28;01mreturn\u001b[39;00m \u001b[43mnp\u001b[49m\u001b[38;5;241;43m.\u001b[39;49m\u001b[43mmean\u001b[49m\u001b[43m(\u001b[49m\u001b[43mref_img\u001b[49m\u001b[43m,\u001b[49m\u001b[43m \u001b[49m\u001b[43maxis\u001b[49m\u001b[38;5;241;43m=\u001b[39;49m\u001b[38;5;241;43m0\u001b[39;49m\u001b[43m)\u001b[49m\n",
      "File \u001b[0;32m<__array_function__ internals>:180\u001b[0m, in \u001b[0;36mmean\u001b[0;34m(*args, **kwargs)\u001b[0m\n",
      "File \u001b[0;32m~/miniconda3/envs/xai/lib/python3.10/site-packages/numpy/core/fromnumeric.py:3432\u001b[0m, in \u001b[0;36mmean\u001b[0;34m(a, axis, dtype, out, keepdims, where)\u001b[0m\n\u001b[1;32m   3429\u001b[0m     \u001b[38;5;28;01melse\u001b[39;00m:\n\u001b[1;32m   3430\u001b[0m         \u001b[38;5;28;01mreturn\u001b[39;00m mean(axis\u001b[38;5;241m=\u001b[39maxis, dtype\u001b[38;5;241m=\u001b[39mdtype, out\u001b[38;5;241m=\u001b[39mout, \u001b[38;5;241m*\u001b[39m\u001b[38;5;241m*\u001b[39mkwargs)\n\u001b[0;32m-> 3432\u001b[0m \u001b[38;5;28;01mreturn\u001b[39;00m \u001b[43m_methods\u001b[49m\u001b[38;5;241;43m.\u001b[39;49m\u001b[43m_mean\u001b[49m\u001b[43m(\u001b[49m\u001b[43ma\u001b[49m\u001b[43m,\u001b[49m\u001b[43m \u001b[49m\u001b[43maxis\u001b[49m\u001b[38;5;241;43m=\u001b[39;49m\u001b[43maxis\u001b[49m\u001b[43m,\u001b[49m\u001b[43m \u001b[49m\u001b[43mdtype\u001b[49m\u001b[38;5;241;43m=\u001b[39;49m\u001b[43mdtype\u001b[49m\u001b[43m,\u001b[49m\n\u001b[1;32m   3433\u001b[0m \u001b[43m                      \u001b[49m\u001b[43mout\u001b[49m\u001b[38;5;241;43m=\u001b[39;49m\u001b[43mout\u001b[49m\u001b[43m,\u001b[49m\u001b[43m \u001b[49m\u001b[38;5;241;43m*\u001b[39;49m\u001b[38;5;241;43m*\u001b[39;49m\u001b[43mkwargs\u001b[49m\u001b[43m)\u001b[49m\n",
      "File \u001b[0;32m~/miniconda3/envs/xai/lib/python3.10/site-packages/numpy/core/_methods.py:190\u001b[0m, in \u001b[0;36m_mean\u001b[0;34m(a, axis, dtype, out, keepdims, where)\u001b[0m\n\u001b[1;32m    188\u001b[0m         ret \u001b[38;5;241m=\u001b[39m arr\u001b[38;5;241m.\u001b[39mdtype\u001b[38;5;241m.\u001b[39mtype(ret \u001b[38;5;241m/\u001b[39m rcount)\n\u001b[1;32m    189\u001b[0m     \u001b[38;5;28;01melse\u001b[39;00m:\n\u001b[0;32m--> 190\u001b[0m         ret \u001b[38;5;241m=\u001b[39m \u001b[43mret\u001b[49m\u001b[38;5;241;43m.\u001b[39;49m\u001b[43mdtype\u001b[49m\u001b[38;5;241;43m.\u001b[39;49m\u001b[43mtype\u001b[49m(ret \u001b[38;5;241m/\u001b[39m rcount)\n\u001b[1;32m    191\u001b[0m \u001b[38;5;28;01melse\u001b[39;00m:\n\u001b[1;32m    192\u001b[0m     ret \u001b[38;5;241m=\u001b[39m ret \u001b[38;5;241m/\u001b[39m rcount\n",
      "\u001b[0;31mAttributeError\u001b[0m: 'torch.dtype' object has no attribute 'type'"
     ]
    }
   ],
   "source": [
    "image_datasets['train'].get_ref_images2()"
   ]
  },
  {
   "cell_type": "code",
   "execution_count": null,
   "metadata": {},
   "outputs": [],
   "source": [
    "bestsmodel = SeverityModel(path2pretrained='./pretrained/best-contrastive50-2024-02-25.pt').to(device)\n",
    "state_dict = torch.load('./pretrained/best-smodel50-wofreeze.pt')\n",
    "bestsmodel.load_state_dict(state_dict)"
   ]
  },
  {
   "cell_type": "code",
   "execution_count": null,
   "metadata": {},
   "outputs": [],
   "source": [
    "test_acc = 0\n",
    "test_embeddings = torch.zeros((0, 256))\n",
    "test_targets = []\n",
    "\n",
    "for inputs, labels, args in dataloaders['test']:\n",
    "        bestsmodel.eval()\n",
    "        inputA = inputs[0].to(device)\n",
    "        inputB = inputs[1].to(device)\n",
    "        labels = labels.to(device)\n",
    "\n",
    "        with torch.no_grad():\n",
    "            ref = [image_datasets['train'].get_ref_images() for i in range(len(inputA))]\n",
    "            ref = torch.stack(ref).to(device)\n",
    "            output1, output2, refimg = bestsmodel(inputA, inputB, ref)\n",
    "            # preds = (torch.max(output1, 1)[1] == torch.max(output2, 1)[1])*1\n",
    "            # loss = loss_fn(inputA, inputB, labels)\n",
    "            # test_acc += torch.sum(preds == labels.data)\n",
    "            test_targets.append(args[0])\n",
    "            test_targets.append(args[1])\n",
    "            test_targets.append(torch.Tensor([0]))\n",
    "            test_embeddings  = torch.cat((test_embeddings, output1.detach().cpu().flatten().unsqueeze(0)), axis=0)\n",
    "            test_embeddings  = torch.cat((test_embeddings, output2.detach().cpu().flatten().unsqueeze(0)), axis=0)\n",
    "            test_embeddings  = torch.cat((test_embeddings, refimg.detach().cpu().flatten().unsqueeze(0)), axis=0)\n",
    "# test_acc\n",
    "\n",
    "test_targets = torch.stack(test_targets).flatten()\n",
    "test_embeddings = np.array(test_embeddings)\n",
    "test_targets = np.array(test_targets)\n"
   ]
  },
  {
   "cell_type": "code",
   "execution_count": null,
   "metadata": {},
   "outputs": [],
   "source": [
    "from matplotlib import cm\n",
    "from sklearn.decomposition import PCA\n",
    "from sklearn.manifold import TSNE\n",
    "\n",
    "embeddings = test_embeddings[~np.isnan(test_targets)]\n",
    "targets = test_targets[~np.isnan(test_targets)]\n",
    "\n",
    "tsne = TSNE(2, verbose=1, n_iter=1000, init='random', perplexity=50, early_exaggeration=12, metric=\"cosine\")\n",
    "tsne_proj = tsne.fit_transform(embeddings)\n",
    "# Plot those points as a scatter plot and label them based on the pred labels\n",
    "cmap = cm.get_cmap('tab20')\n",
    "fig, ax = plt.subplots(figsize=(8,8))\n",
    "num_categories = 6\n",
    "for lab in range(num_categories):\n",
    "    indices = targets==lab\n",
    "    ax.scatter(tsne_proj[indices,0],tsne_proj[indices,1], label = lab ,alpha=0.5)\n",
    "ax.legend(fontsize='large', markerscale=2)\n",
    "plt.show()"
   ]
  },
  {
   "cell_type": "markdown",
   "metadata": {},
   "source": [
    "# Explainable AI"
   ]
  },
  {
   "cell_type": "code",
   "execution_count": null,
   "metadata": {},
   "outputs": [],
   "source": [
    "from pytorch_grad_cam import GradCAM\n",
    "from pytorch_grad_cam.utils.image import show_cam_on_image\n",
    "\n",
    "from captum.attr import IntegratedGradients, LimeBase\n",
    "from captum.attr import GradientShap, KernelShap, FeatureAblation, FeaturePermutation,ShapleyValueSampling\n",
    "from captum.attr import Occlusion\n",
    "from captum.attr import NoiseTunnel\n",
    "from captum.attr import visualization as viz\n",
    "from matplotlib.colors import LinearSegmentedColormap"
   ]
  },
  {
   "cell_type": "code",
   "execution_count": null,
   "metadata": {},
   "outputs": [],
   "source": [
    "X, y, meta = image_datasets['train'][50]"
   ]
  },
  {
   "cell_type": "code",
   "execution_count": null,
   "metadata": {},
   "outputs": [],
   "source": [
    "meta"
   ]
  },
  {
   "cell_type": "code",
   "execution_count": null,
   "metadata": {},
   "outputs": [],
   "source": [
    "# X,y,_ = image_datasets[4]\n",
    "model = smodel.bestsimese50simclr.cnn1.cpu()\n",
    "target_layers = [model.layer4[-1]]\n",
    "\n",
    "# input_tensor = data_transforms['test'](Image.open(\"./datasets/longtitude/90007-L/90007-LU306-L.jpg\")).unsqueeze(0) # Create an input tensor image for your model..\n",
    "input_tensorA = X[0].unsqueeze(0)\n",
    "input_tensorB = X[1].unsqueeze(0)\n",
    "\n",
    "# Note: input_tensor can be a batch tensor with several images!\n",
    "rgb_imgA = imgtensor2array(input_tensorA[0], mean=mean, std=std)\n",
    "rgb_imgB = imgtensor2array(input_tensorB[0], mean=mean, std=std)\n",
    "# Construct the CAM object once, and then re-use it on many images:\n",
    "cam = GradCAM(model=model, target_layers=target_layers, use_cuda=True)\n",
    "\n",
    "input_tensorA.requires_grad = True\n",
    "input_tensorB.requires_grad = True\n",
    "# You can also pass aug_smooth=True and eigen_smooth=True, to apply smoothing.\n",
    "grayscale_camA = cam(input_tensor=input_tensorA)\n",
    "grayscale_camB = cam(input_tensor=input_tensorB)\n",
    "# In this example grayscale_cam has only one image in the batch:\n",
    "\n",
    "visualizationA = show_cam_on_image(rgb_imgA, grayscale_camA[0, :], use_rgb=True)\n",
    "visualizationB = show_cam_on_image(rgb_imgB, grayscale_camB[0, :], use_rgb=True)\n",
    "\n",
    "fig, axes = plt.subplots(1, 4, figsize=(16, 4))\n",
    "ax = axes.ravel()\n",
    "\n",
    "ax[0].imshow(visualizationA, label= 'heatmap A')\n",
    "ax[1].imshow(rgb_imgA, label= 'heatmap A')\n",
    "ax[2].imshow(visualizationB, label= 'heatmap A')\n",
    "ax[3].imshow(rgb_imgB, label= 'heatmap A')"
   ]
  },
  {
   "cell_type": "markdown",
   "metadata": {},
   "source": [
    "# Preference and Comparison"
   ]
  },
  {
   "cell_type": "code",
   "execution_count": null,
   "metadata": {},
   "outputs": [],
   "source": [
    "data_dir = '/mnt/c/Users/PCM/Dropbox/chla_fundus_croped/severity'\n",
    "datalne = {'train':10000, 'val':1000, 'test':1000}\n",
    "image_datasets = {x: PapilSeverityDataset(data_dir=data_dir, phase=x, datalen=datalne[x], mode=\"preference_contrastive\") for x in ['train', 'val', 'test']}\n",
    "batch_size = {'train':16, 'val':16, 'test':1}\n",
    "dataloaders = {x: torch.utils.data.DataLoader(image_datasets[x], batch_size=batch_size[x], shuffle=True, num_workers=4)\n",
    "              for x in ['train', 'val', 'test']}\n",
    "\n",
    "dataset_sizes = {x: len(image_datasets[x]) for x in ['train', 'val',  'test']}\n",
    "class_names = ['0','1','2']\n",
    "\n",
    "device = torch.device(\"cuda:0\" if torch.cuda.is_available() else \"cpu\")\n",
    "print(device, class_names)"
   ]
  },
  {
   "cell_type": "code",
   "execution_count": null,
   "metadata": {},
   "outputs": [],
   "source": [
    "(inputs, _), classes, _ = next(iter(dataloaders['train']))\n",
    "out = torchvision.utils.make_grid(inputs)\n",
    "imshow(out, title=[class_names[x] for x in classes], mean=mean, std=std)"
   ]
  },
  {
   "cell_type": "code",
   "execution_count": null,
   "metadata": {},
   "outputs": [],
   "source": [
    "class PreferenceContrastiveLoss(torch.nn.Module):\n",
    "    \"\"\"\n",
    "    Contrastive loss function.\n",
    "    Based on: http://yann.lecun.com/exdb/publis/pdf/hadsell-chopra-lecun-06.pdf\n",
    "    Modified from: https://hackernoon.com/facial-similarity-with-siamese-networks-in-pytorch-9642aa9db2f7\n",
    "\n",
    "    \"\"\" \n",
    "\n",
    "    def __init__(self, margin=2.0):\n",
    "        super(PreferenceContrastiveLoss, self).__init__()\n",
    "        self.margin = margin\n",
    "\n",
    "    def forward(self, output1, output2, label, ref):\n",
    "        total_loss = 0\n",
    "        for i in label:\n",
    "            # cosine_distanceA = torch.nn.functional.cosine_similarity(output1[i], ref)\n",
    "            # cosine_distanceB = torch.nn.functional.cosine_similarity(output2[i], ref)\n",
    "            # cosine_distance = torch.nn.functional.cosine_similarity(output1[i], output2[i])\n",
    "            if(i == 2):\n",
    "                cosine_distance = torch.nn.functional.cosine_similarity(output1[i], output2[i])\n",
    "                total_loss = total_loss + (i) * torch.pow(torch.clamp(self.margin - cosine_distance, min=0.0), 2)\n",
    "            else:\n",
    "                cosine_distanceA = torch.nn.functional.cosine_similarity(output1[i], ref)\n",
    "                cosine_distanceB = torch.nn.functional.cosine_similarity(output2[i], ref)\n",
    "                total_loss = total_loss + torch.nn.CrossEntropyLoss()(torch.nn.Sigmoid()(cosine_distanceA - cosine_distanceB), i) \n",
    "\n",
    "        return total_loss/len(label)"
   ]
  },
  {
   "cell_type": "code",
   "execution_count": null,
   "metadata": {},
   "outputs": [],
   "source": [
    "smodel = SeverityModel().to(device)\n",
    "momentum = 0\n",
    "lr = 0.05\n",
    "optimizer_ft = optim.SGD([{'params': smodel.bestsimese50simclr.cnn1.parameters()}], lr=lr, momentum=momentum)\n",
    "loss_fn = PreferenceComparisonLoss()\n",
    "scheduler = lr_scheduler.StepLR(optimizer_ft, step_size=10, gamma=0.8)\n",
    "\n",
    "for param in smodel.bestsimese50simclr.cnn1.parameters():\n",
    "    param.requires_grad = True\n",
    "for param in smodel.bestsimese50simclr.cnn1.fc2.parameters():\n",
    "    param.requires_grad = True"
   ]
  },
  {
   "cell_type": "code",
   "execution_count": null,
   "metadata": {},
   "outputs": [],
   "source": [
    "valaccmax = 0\n",
    "trainlosslist = []\n",
    "trainacclist  = []"
   ]
  },
  {
   "cell_type": "code",
   "execution_count": null,
   "metadata": {},
   "outputs": [],
   "source": [
    "for e in range(10):\n",
    "    training_acc = 0\n",
    "    val_acc = 0\n",
    "    training_loss_test = 0.0\n",
    "    curr_loss = 0\n",
    "    for inputs, labels, _ in dataloaders['train']:\n",
    "        smodel.train()\n",
    "        inputA = inputs[0].to(device)\n",
    "        inputB = inputs[1].to(device)\n",
    "        labels = labels.to(device)\n",
    "        # zero the parameter gradients\n",
    "        optimizer_ft.zero_grad()\n",
    "        ref = [image_datasets['train'].get_ref_images() for i in range(len(inputA))]\n",
    "        ref = torch.stack(ref).to(device)\n",
    "        output1, output2, refimg = smodel(inputA, inputB, ref)\n",
    "        # preds = (torch.max(output1, 1)[1] == torch.max(output2, 1)[1])*1\n",
    "        loss = loss_fn(output1, output2, labels, refimg)\n",
    "        # cosine_distanceA = torch.nn.functional.cosine_similarity(output1, refimg)\n",
    "        # cosine_distanceB = torch.nn.functional.cosine_similarity(output2, refimg)\n",
    "        # gamma = torch.nn.Sigmoid()(cosine_distanceA - cosine_distanceB)\n",
    "        # loss = torch.nn.NLLLoss()(gamma, labels)\n",
    "        # loss.requires_grad = True\n",
    "        loss.backward()\n",
    "        optimizer_ft.step()\n",
    "        training_loss_test += loss.item()\n",
    "        # training_acc += torch.sum(preds == labels.data)\n",
    "        trainlosslist.append(training_loss_test)\n",
    "        trainacclist.append(training_acc)\n",
    "        \n",
    "    # for inputs, labels in dataloaders['val']:\n",
    "    #     smodel.eval()\n",
    "    #     inputA = inputs[0].to(device)\n",
    "    #     inputB = inputs[1].to(device)\n",
    "    #     labels = labels.to(device)\n",
    "\n",
    "    #     with torch.no_grad():\n",
    "    #         output1, output2 = siamese50simclr(inputA, inputB)\n",
    "    #         preds = (torch.max(output1, 1)[1] == torch.max(output2, 1)[1])*1\n",
    "    #         # loss = loss_fn(inputA, inputB, labels)\n",
    "    #         val_acc += torch.sum(preds == labels.data)\n",
    "\n",
    "    if(training_loss_test < curr_loss):\n",
    "        curr_loss = training_loss_test\n",
    "        torch.save(smodel.state_dict(), './pretrained/best-combine-smodel-wofreeze.pt')\n",
    "\n",
    "    scheduler.step()\n",
    "\n",
    "    print(f\"E{e} With LR {optimizer_ft.param_groups[0]['lr']}\", \"traning loss: \", training_loss_test / dataset_sizes['train'])"
   ]
  },
  {
   "cell_type": "code",
   "execution_count": null,
   "metadata": {},
   "outputs": [],
   "source": [
    "bestsmodel = SeverityModel().to(device)\n",
    "state_dict = torch.load('./pretrained/best-combine-smodel-wofreeze.pt')\n",
    "bestsmodel.load_state_dict(state_dict)"
   ]
  },
  {
   "cell_type": "code",
   "execution_count": null,
   "metadata": {},
   "outputs": [],
   "source": [
    "test_acc = 0\n",
    "test_embeddings = torch.zeros((0, 256))\n",
    "test_targets = []\n",
    "\n",
    "for inputs, labels, args in dataloaders['test']:\n",
    "        bestsmodel.eval()\n",
    "        inputA = inputs[0].to(device)\n",
    "        inputB = inputs[1].to(device)\n",
    "        labels = labels.to(device)\n",
    "\n",
    "        with torch.no_grad():\n",
    "            ref = [image_datasets['train'].get_ref_images() for i in range(len(inputA))]\n",
    "            ref = torch.stack(ref).to(device)\n",
    "            output1, output2, refimg = bestsmodel(inputA, inputB, ref)\n",
    "            # preds = (torch.max(output1, 1)[1] == torch.max(output2, 1)[1])*1\n",
    "            # loss = loss_fn(inputA, inputB, labels)\n",
    "            # test_acc += torch.sum(preds == labels.data)\n",
    "            test_targets.append(args[0])\n",
    "            test_targets.append(args[1])\n",
    "            test_targets.append(torch.Tensor([0]))\n",
    "            test_embeddings  = torch.cat((test_embeddings, output1.detach().cpu().flatten().unsqueeze(0)), axis=0)\n",
    "            test_embeddings  = torch.cat((test_embeddings, output2.detach().cpu().flatten().unsqueeze(0)), axis=0)\n",
    "            test_embeddings  = torch.cat((test_embeddings, refimg.detach().cpu().flatten().unsqueeze(0)), axis=0)\n",
    "# test_acc\n",
    "\n",
    "test_targets = torch.stack(test_targets).flatten()\n",
    "test_embeddings = np.array(test_embeddings)\n",
    "test_targets = np.array(test_targets)"
   ]
  },
  {
   "cell_type": "code",
   "execution_count": null,
   "metadata": {},
   "outputs": [],
   "source": [
    "from matplotlib import cm\n",
    "from sklearn.decomposition import PCA\n",
    "from sklearn.manifold import TSNE\n",
    "\n",
    "embeddings = test_embeddings[~np.isnan(test_targets)]\n",
    "targets = test_targets[~np.isnan(test_targets)]\n",
    "\n",
    "tsne = TSNE(2, verbose=1, n_iter=1000, init='random', perplexity=30, early_exaggeration=10, metric=\"cosine\")\n",
    "tsne_proj = tsne.fit_transform(embeddings)\n",
    "# Plot those points as a scatter plot and label them based on the pred labels\n",
    "cmap = cm.get_cmap('tab20')\n",
    "fig, ax = plt.subplots(figsize=(8,8))\n",
    "num_categories = 6\n",
    "for lab in range(num_categories):\n",
    "    indices = targets==lab\n",
    "    ax.scatter(tsne_proj[indices,0],tsne_proj[indices,1], label = lab ,alpha=0.5)\n",
    "ax.legend(fontsize='large', markerscale=2)\n",
    "plt.show()"
   ]
  },
  {
   "cell_type": "markdown",
   "metadata": {},
   "source": [
    "# Multiclass Contrastive Learning"
   ]
  },
  {
   "cell_type": "code",
   "execution_count": null,
   "metadata": {},
   "outputs": [
    {
     "name": "stdout",
     "output_type": "stream",
     "text": [
      "cuda:0 ['0', '1']\n"
     ]
    }
   ],
   "source": [
    "data_dir = '/mnt/c/Users/PCM/Dropbox/chla_fundus_croped/severity'\n",
    "datalne = {'train':100000, 'val':2000, 'test':1000}\n",
    "image_datasets = {x: PapilSeverityDataset(data_dir=data_dir, phase=x, datalen=datalne[x], mode=\"multiclass_contrastive\") for x in ['train', 'val', 'test']}\n",
    "batch_size = {'train':16, 'val':16, 'test':1}\n",
    "dataloaders = {x: torch.utils.data.DataLoader(image_datasets[x], batch_size=batch_size[x], shuffle=True, num_workers=4)\n",
    "              for x in ['train', 'val', 'test']}\n",
    "\n",
    "dataset_sizes = {x: len(image_datasets[x]) for x in ['train', 'val',  'test']}\n",
    "class_names = ['0','1']\n",
    "\n",
    "device = torch.device(\"cuda:0\" if torch.cuda.is_available() else \"cpu\")\n",
    "print(device, class_names)"
   ]
  },
  {
   "cell_type": "code",
   "execution_count": null,
   "metadata": {},
   "outputs": [
    {
     "name": "stdout",
     "output_type": "stream",
     "text": [
      "load simclr resnet\n"
     ]
    }
   ],
   "source": [
    "siamese50simclr = SiameseNetwork101().to(device)\n",
    "momentum = 0\n",
    "lr = 0.001\n",
    "optimizer_ft = optim.SGD([{'params': siamese50simclr.cnn1.conv1.parameters()},\n",
    "                        {'params': siamese50simclr.cnn1.layer1.parameters()},\n",
    "                        {'params': siamese50simclr.cnn1.layer2.parameters()},\n",
    "                        {'params': siamese50simclr.cnn1.layer3.parameters()},\n",
    "                        {'params': siamese50simclr.cnn1.layer4.parameters()},\n",
    "                        {'params': siamese50simclr.cnn1.fc.parameters(), 'lr':lr*10}], lr=lr, momentum=momentum)\n",
    "loss_fn = ContrastiveLoss(margin=2.0)\n",
    "scheduler = lr_scheduler.StepLR(optimizer_ft, step_size=2, gamma=0.5)\n",
    "\n",
    "for param in siamese50simclr.cnn1.parameters():\n",
    "    param.requires_grad = True\n",
    "for param in siamese50simclr.cnn1.fc.parameters():\n",
    "    param.requires_grad = True"
   ]
  },
  {
   "cell_type": "code",
   "execution_count": null,
   "metadata": {},
   "outputs": [
    {
     "name": "stdout",
     "output_type": "stream",
     "text": [
      "E0 With LR 0.001 training acc:  traning loss:  0.054553194693922995 val loss:  0.04828261169791222\n",
      "E1 With LR 0.0005 training acc:  traning loss:  0.05119498553514481 val loss:  0.04921877501904964\n",
      "E2 With LR 0.0005 training acc:  traning loss:  0.049492754992246625 val loss:  0.04956170517206192\n",
      "E3 With LR 0.00025 training acc:  traning loss:  0.04792418382465839 val loss:  0.050712778329849245\n",
      "E4 With LR 0.00025 training acc:  traning loss:  0.04672124081850052 val loss:  0.05139765501022339\n",
      "E5 With LR 0.000125 training acc:  traning loss:  0.04605607598379254 val loss:  0.05194871392846107\n",
      "E6 With LR 0.000125 training acc:  traning loss:  0.04557762124091387 val loss:  0.051970355242490766\n",
      "E7 With LR 6.25e-05 training acc:  traning loss:  0.0452674633488059 val loss:  0.05231369918584824\n",
      "E8 With LR 6.25e-05 training acc:  traning loss:  0.04506775370985269 val loss:  0.051385525226593017\n"
     ]
    },
    {
     "ename": "KeyboardInterrupt",
     "evalue": "",
     "output_type": "error",
     "traceback": [
      "\u001b[0;31m---------------------------------------------------------------------------\u001b[0m",
      "\u001b[0;31mKeyboardInterrupt\u001b[0m                         Traceback (most recent call last)",
      "Cell \u001b[0;32mIn[6], line 23\u001b[0m\n\u001b[1;32m     21\u001b[0m     loss\u001b[38;5;241m.\u001b[39mbackward()\n\u001b[1;32m     22\u001b[0m     optimizer_ft\u001b[38;5;241m.\u001b[39mstep()\n\u001b[0;32m---> 23\u001b[0m     training_loss \u001b[38;5;241m+\u001b[39m\u001b[38;5;241m=\u001b[39m \u001b[43mloss\u001b[49m\u001b[38;5;241;43m.\u001b[39;49m\u001b[43mitem\u001b[49m\u001b[43m(\u001b[49m\u001b[43m)\u001b[49m\n\u001b[1;32m     24\u001b[0m     \u001b[38;5;66;03m# training_acc += torch.sum(preds == labels.data)\u001b[39;00m\n\u001b[1;32m     25\u001b[0m \u001b[38;5;66;03m# trainlosslist.append(training_loss)\u001b[39;00m\n\u001b[1;32m     26\u001b[0m     \u001b[38;5;66;03m# trainacclist.append(training_acc)\u001b[39;00m\n\u001b[1;32m     28\u001b[0m \u001b[38;5;28;01mfor\u001b[39;00m inputs, labels, _ \u001b[38;5;129;01min\u001b[39;00m dataloaders[\u001b[38;5;124m'\u001b[39m\u001b[38;5;124mval\u001b[39m\u001b[38;5;124m'\u001b[39m]:\n",
      "\u001b[0;31mKeyboardInterrupt\u001b[0m: "
     ]
    }
   ],
   "source": [
    "valaccmax = 0\n",
    "trainlosslist = []\n",
    "trainacclist  = []\n",
    "currloss = 100000\n",
    "for e in range(100):\n",
    "    training_acc = 0\n",
    "    val_acc = 0\n",
    "    training_loss = 0.0\n",
    "    val_loss = 0.0\n",
    "    for inputs, labels, _ in dataloaders['train']:\n",
    "        siamese50simclr.train()\n",
    "        inputA = inputs[0].to(device)\n",
    "        inputB = inputs[1].to(device)\n",
    "        labels = labels.to(device)\n",
    "        # zero the parameter gradients\n",
    "        optimizer_ft.zero_grad()\n",
    "\n",
    "        output1, output2 = siamese50simclr(inputA, inputB)\n",
    "        # preds = (torch.max(output1, 1)[1] == torch.max(output2, 1)[1])*1\n",
    "        loss = loss_fn(output1, output2, labels)\n",
    "        loss.backward()\n",
    "        optimizer_ft.step()\n",
    "        training_loss += loss.item()\n",
    "        # training_acc += torch.sum(preds == labels.data)\n",
    "    # trainlosslist.append(training_loss)\n",
    "        # trainacclist.append(training_acc)\n",
    "        \n",
    "    for inputs, labels, _ in dataloaders['val']:\n",
    "        siamese50simclr.eval()\n",
    "        inputA = inputs[0].to(device)\n",
    "        inputB = inputs[1].to(device)\n",
    "        labels = labels.to(device)\n",
    "\n",
    "        with torch.no_grad():\n",
    "            output1, output2 = siamese50simclr(inputA, inputB)\n",
    "            # preds = (torch.max(output1, 1)[1] == torch.max(output2, 1)[1])*1\n",
    "            loss = loss_fn(output1, output2, labels)\n",
    "            val_loss += loss.item()\n",
    "            # val_acc += torch.sum(preds == labels.data)\n",
    "\n",
    "    if(val_loss < currloss):\n",
    "        currloss = val_loss\n",
    "        today = date.today()\n",
    "        torch.save(siamese50simclr.state_dict(), f'./pretrained/best-multiclass-contrastive50-{today}.pt')\n",
    "\n",
    "    scheduler.step()\n",
    "\n",
    "    print(f\"E{e} With LR {optimizer_ft.param_groups[0]['lr']} training acc: \", \"traning loss: \", training_loss / dataset_sizes['train'], \"val loss: \", val_loss / dataset_sizes['val'])"
   ]
  },
  {
   "cell_type": "code",
   "execution_count": null,
   "metadata": {},
   "outputs": [],
   "source": [
    "torch.save(siamese50simclr.state_dict(), f'./pretrained/best-multiclass-contrastive50-{today}-latest.pt')"
   ]
  }
 ],
 "metadata": {
  "kernelspec": {
   "display_name": "xai",
   "language": "python",
   "name": "python3"
  },
  "language_info": {
   "codemirror_mode": {
    "name": "ipython",
    "version": 3
   },
   "file_extension": ".py",
   "mimetype": "text/x-python",
   "name": "python",
   "nbconvert_exporter": "python",
   "pygments_lexer": "ipython3",
   "version": "3.10.13"
  },
  "orig_nbformat": 4
 },
 "nbformat": 4,
 "nbformat_minor": 2
}
