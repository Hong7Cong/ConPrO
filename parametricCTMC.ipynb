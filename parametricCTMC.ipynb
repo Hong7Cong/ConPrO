{
 "cells": [
  {
   "cell_type": "code",
   "execution_count": 1,
   "metadata": {},
   "outputs": [
    {
     "name": "stdout",
     "output_type": "stream",
     "text": [
      "WARNING: Stormpy not found.\n"
     ]
    }
   ],
   "source": [
    "import jajapy as ja"
   ]
  },
  {
   "cell_type": "code",
   "execution_count": 2,
   "metadata": {},
   "outputs": [],
   "source": [
    "labelling = ['red','red','yellow','blue','blue']\n",
    "transitions = [(0,1,0.08),(0,2,0.12),(1,1,0.3),(1,2,0.7),\n",
    "                (2,0,0.2),(2,3,0.1),(2,4,0.2),(3,3,0.8),\n",
    "                (3,1,0.1),(3,4,0.1),(4,2,0.25)]\n",
    "original_model = ja.createCTMC(transitions,labelling,initial_state=0,name=\"My_CTMC\")"
   ]
  },
  {
   "cell_type": "code",
   "execution_count": 3,
   "metadata": {},
   "outputs": [],
   "source": [
    "training_set = original_model.generateSet(1000,10,timed=True)\n",
    "test_set = original_model.generateSet(1000,10,timed=True)"
   ]
  },
  {
   "cell_type": "code",
   "execution_count": 4,
   "metadata": {},
   "outputs": [
    {
     "data": {
      "text/plain": [
       "['init',\n",
       " 0.45726213603065785,\n",
       " 'red',\n",
       " 3.671877343128273,\n",
       " 'yellow',\n",
       " 0.4185286591105553,\n",
       " 'red',\n",
       " 0.6213118424404269,\n",
       " 'yellow',\n",
       " 1.8820613684894618,\n",
       " 'red',\n",
       " 12.881883402638344,\n",
       " 'yellow',\n",
       " 1.0332231950794741,\n",
       " 'blue',\n",
       " 7.4488105078526665,\n",
       " 'yellow',\n",
       " 0.7252436786698613,\n",
       " 'blue',\n",
       " 2.753264526990834,\n",
       " 'yellow']"
      ]
     },
     "execution_count": 4,
     "metadata": {},
     "output_type": "execute_result"
    }
   ],
   "source": [
    "training_set.sequences[0]"
   ]
  },
  {
   "cell_type": "code",
   "execution_count": 5,
   "metadata": {},
   "outputs": [
    {
     "name": "stdout",
     "output_type": "stream",
     "text": [
      "WARNING: the size of the labelling is lower than the number of states. The labels for the last states will be chosen randomly.\n",
      "WARNING: the size of the labelling is lower than the number of states. The labels for the last states will be chosen randomly.\n",
      "WARNING: the size of the labelling is lower than the number of states. The labels for the last states will be chosen randomly.\n",
      "WARNING: the size of the labelling is lower than the number of states. The labels for the last states will be chosen randomly.\n",
      "WARNING: the size of the labelling is lower than the number of states. The labels for the last states will be chosen randomly.\n",
      "WARNING: the size of the labelling is lower than the number of states. The labels for the last states will be chosen randomly.\n",
      "WARNING: the size of the labelling is lower than the number of states. The labels for the last states will be chosen randomly.\n",
      "WARNING: the size of the labelling is lower than the number of states. The labels for the last states will be chosen randomly.\n",
      "WARNING: the size of the labelling is lower than the number of states. The labels for the last states will be chosen randomly.\n",
      "WARNING: the size of the labelling is lower than the number of states. The labels for the last states will be chosen randomly.\n"
     ]
    }
   ],
   "source": [
    "nb_trials = 10\n",
    "best_model = None\n",
    "quality_best = -1024\n",
    "for n in range(1,nb_trials+1):\n",
    "            current_model = ja.CTMC_random(nb_states=5,\n",
    "                                    labelling=['red','yellow','blue'],\n",
    "                                    self_loop=False,\n",
    "                                    random_initial_state=False,\n",
    "                                    min_exit_rate_time=1,\n",
    "                                    max_exit_rate_time=6)\n",
    "            current_quality = current_model.logLikelihood(test_set)\n",
    "            if quality_best < current_quality: #we keep the best model only\n",
    "                            quality_best = current_quality\n",
    "                            best_model = current_model"
   ]
  },
  {
   "cell_type": "code",
   "execution_count": 6,
   "metadata": {},
   "outputs": [
    {
     "name": "stdout",
     "output_type": "stream",
     "text": [
      "['red', 'yellow', 'blue', 'yellow', 'yellow', 'init']\n"
     ]
    }
   ],
   "source": [
    "print(best_model.labelling)"
   ]
  },
  {
   "cell_type": "code",
   "execution_count": 7,
   "metadata": {},
   "outputs": [
    {
     "name": "stdout",
     "output_type": "stream",
     "text": [
      "Learning a CTMC...\n",
      "WARNING: stormpy not found. The output model will be a Jajapy model\n",
      "|████████████████████████████████████████| 14 in 8.6s (1.63/s) \n"
     ]
    }
   ],
   "source": [
    "output_model = ja.BW().fit(training_set,initial_model=best_model)"
   ]
  },
  {
   "cell_type": "code",
   "execution_count": 15,
   "metadata": {},
   "outputs": [
    {
     "data": {
      "text/plain": [
       "0.53689748926658959947"
      ]
     },
     "execution_count": 15,
     "metadata": {},
     "output_type": "execute_result"
    }
   ],
   "source": [
    "output_model.lkl"
   ]
  },
  {
   "cell_type": "code",
   "execution_count": 18,
   "metadata": {},
   "outputs": [
    {
     "ename": "AttributeError",
     "evalue": "module 'jajapy' has no attribute 'with_stormpy'",
     "output_type": "error",
     "traceback": [
      "\u001b[0;31m---------------------------------------------------------------------------\u001b[0m",
      "\u001b[0;31mAttributeError\u001b[0m                            Traceback (most recent call last)",
      "\u001b[1;32m/mnt/c/Users/PCM/Documents/GitHub/pseudopapill/parametricCTMC.ipynb Cell 9\u001b[0m line \u001b[0;36m3\n\u001b[1;32m      <a href='vscode-notebook-cell://wsl%2Bubuntu/mnt/c/Users/PCM/Documents/GitHub/pseudopapill/parametricCTMC.ipynb#X10sdnNjb2RlLXJlbW90ZQ%3D%3D?line=0'>1</a>\u001b[0m \u001b[39m# import stormpy.lib.stormpy as stormpy\u001b[39;00m\n\u001b[0;32m----> <a href='vscode-notebook-cell://wsl%2Bubuntu/mnt/c/Users/PCM/Documents/GitHub/pseudopapill/parametricCTMC.ipynb#X10sdnNjb2RlLXJlbW90ZQ%3D%3D?line=2'>3</a>\u001b[0m original_model \u001b[39m=\u001b[39m ja\u001b[39m.\u001b[39;49mwith_stormpy\u001b[39m.\u001b[39mjajapyModeltoStormpy(original_model)\n\u001b[1;32m      <a href='vscode-notebook-cell://wsl%2Bubuntu/mnt/c/Users/PCM/Documents/GitHub/pseudopapill/parametricCTMC.ipynb#X10sdnNjb2RlLXJlbW90ZQ%3D%3D?line=3'>4</a>\u001b[0m formulas \u001b[39m=\u001b[39m [\u001b[39m\"\u001b[39m\u001b[39mT=? [ F \u001b[39m\u001b[39m\\\"\u001b[39;00m\u001b[39mblue\u001b[39m\u001b[39m\\\"\u001b[39;00m\u001b[39m  ]\u001b[39m\u001b[39m\"\u001b[39m, \u001b[39m\"\u001b[39m\u001b[39mP=? [ F>5 \u001b[39m\u001b[39m\\\"\u001b[39;00m\u001b[39mblue\u001b[39m\u001b[39m\\\"\u001b[39;00m\u001b[39m  ]\u001b[39m\u001b[39m\"\u001b[39m]\n\u001b[1;32m      <a href='vscode-notebook-cell://wsl%2Bubuntu/mnt/c/Users/PCM/Documents/GitHub/pseudopapill/parametricCTMC.ipynb#X10sdnNjb2RlLXJlbW90ZQ%3D%3D?line=4'>5</a>\u001b[0m \u001b[39mfor\u001b[39;00m formula \u001b[39min\u001b[39;00m formulas:\n",
      "\u001b[0;31mAttributeError\u001b[0m: module 'jajapy' has no attribute 'with_stormpy'"
     ]
    }
   ],
   "source": [
    "\n",
    "# import stormpy.lib.stormpy as stormpy\n",
    "\n",
    "original_model = ja.with_stormpy.jajapyModeltoStormpy(original_model)\n",
    "formulas = [\"T=? [ F \\\"blue\\\"  ]\", \"P=? [ F>5 \\\"blue\\\"  ]\"]\n",
    "for formula in formulas:\n",
    "    properties = stormpy.parse_properties(formula)\n",
    "    result_original = stormpy.check_model_sparse(original_model, properties[0])\n",
    "    result_original = result_original.at(original_model.initial_states[0])\n",
    "    result_output = stormpy.check_model_sparse(output_model, properties[0])\n",
    "    result_output = result_output.at(output_model.initial_states[0])\n",
    "    print(formula,'in the original model:',str(result_original))\n",
    "    print(formula,'in the output model active:',str(result_output))\n",
    "    print()"
   ]
  }
 ],
 "metadata": {
  "kernelspec": {
   "display_name": "xai",
   "language": "python",
   "name": "python3"
  },
  "language_info": {
   "codemirror_mode": {
    "name": "ipython",
    "version": 3
   },
   "file_extension": ".py",
   "mimetype": "text/x-python",
   "name": "python",
   "nbconvert_exporter": "python",
   "pygments_lexer": "ipython3",
   "version": "3.1.0"
  }
 },
 "nbformat": 4,
 "nbformat_minor": 2
}
