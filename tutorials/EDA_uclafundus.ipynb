{
 "cells": [
  {
   "cell_type": "code",
   "execution_count": 1,
   "metadata": {},
   "outputs": [],
   "source": [
    "import numpy as np\n",
    "from PIL import Image\n",
    "import pandas as pd\n",
    "from glob import glob\n",
    "import shutil"
   ]
  },
  {
   "cell_type": "code",
   "execution_count": 2,
   "metadata": {},
   "outputs": [],
   "source": [
    "computername = 'PCM'\n",
    "consensus_grades_severity = pd.read_csv(f'/mnt/c/Users/{computername}/Dropbox/chla_fundus/consensus_grades_severity.csv')\n",
    "labels = pd.read_csv(f'/mnt/c/Users/{computername}/Dropbox/chla_fundus/labels.csv')\n",
    "metadata = pd.read_csv(f'/mnt/c/Users/{computername}/Dropbox/chla_fundus/metadata.csv')"
   ]
  },
  {
   "cell_type": "markdown",
   "metadata": {},
   "source": [
    "## Severity Classification"
   ]
  },
  {
   "cell_type": "markdown",
   "metadata": {},
   "source": [
    "Create dataset train/test/val in form of pandas dataframe"
   ]
  },
  {
   "cell_type": "code",
   "execution_count": 3,
   "metadata": {},
   "outputs": [],
   "source": [
    "# get severity labels of 1,2,3,4,5 (less to more severe)\n",
    "def get_subject_number(path):\n",
    "    return int(path.split('_')[0])\n",
    "\n",
    "severity_labels = consensus_grades_severity.drop(['Unnamed: 0','Filename', 'Optos'], axis=1).rename(columns={\"original name\": \"path\", \"consensus_grade\": \"labels\"})\n",
    "severity_labels['subject'] = severity_labels['path'].apply(get_subject_number)\n",
    "\n",
    "# get severity labels of 0 (Healthy)\n",
    "pseudopap = labels[labels.label==1].drop(['site'], axis=1)\n",
    "pseudopap['labels'] = pseudopap['label'] * 0\n",
    "pseudopap = pseudopap.drop(['label'], axis=1)\n",
    "\n",
    "# concat two above\n",
    "severity_labels = pd.concat([severity_labels, pseudopap], ignore_index=True)"
   ]
  },
  {
   "cell_type": "code",
   "execution_count": 44,
   "metadata": {},
   "outputs": [
    {
     "data": {
      "text/html": [
       "<div>\n",
       "<style scoped>\n",
       "    .dataframe tbody tr th:only-of-type {\n",
       "        vertical-align: middle;\n",
       "    }\n",
       "\n",
       "    .dataframe tbody tr th {\n",
       "        vertical-align: top;\n",
       "    }\n",
       "\n",
       "    .dataframe thead th {\n",
       "        text-align: right;\n",
       "    }\n",
       "</style>\n",
       "<table border=\"1\" class=\"dataframe\">\n",
       "  <thead>\n",
       "    <tr style=\"text-align: right;\">\n",
       "      <th></th>\n",
       "      <th>subject</th>\n",
       "      <th>labels</th>\n",
       "    </tr>\n",
       "  </thead>\n",
       "  <tbody>\n",
       "    <tr>\n",
       "      <th>0</th>\n",
       "      <td>2</td>\n",
       "      <td>0</td>\n",
       "    </tr>\n",
       "    <tr>\n",
       "      <th>1</th>\n",
       "      <td>3</td>\n",
       "      <td>4</td>\n",
       "    </tr>\n",
       "    <tr>\n",
       "      <th>2</th>\n",
       "      <td>4</td>\n",
       "      <td>0</td>\n",
       "    </tr>\n",
       "    <tr>\n",
       "      <th>3</th>\n",
       "      <td>11</td>\n",
       "      <td>0</td>\n",
       "    </tr>\n",
       "    <tr>\n",
       "      <th>4</th>\n",
       "      <td>20</td>\n",
       "      <td>0</td>\n",
       "    </tr>\n",
       "  </tbody>\n",
       "</table>\n",
       "</div>"
      ],
      "text/plain": [
       "   subject  labels\n",
       "0        2       0\n",
       "1        3       4\n",
       "2        4       0\n",
       "3       11       0\n",
       "4       20       0"
      ]
     },
     "execution_count": 44,
     "metadata": {},
     "output_type": "execute_result"
    }
   ],
   "source": [
    "subs = pd.DataFrame(severity_labels[['subject','labels']].groupby(['subject']).mean().astype(int)).reset_index()\n",
    "subs.head()"
   ]
  },
  {
   "cell_type": "code",
   "execution_count": 28,
   "metadata": {},
   "outputs": [],
   "source": [
    "subjects = subs.subject\n",
    "avglabel = subs.labels"
   ]
  },
  {
   "cell_type": "code",
   "execution_count": 98,
   "metadata": {},
   "outputs": [],
   "source": [
    "from sklearn.model_selection import train_test_split\n",
    "X_trainval, X_test, y_trainval, y_test = train_test_split(subjects, avglabel, test_size=0.1, random_state=42, stratify=avglabel)\n",
    "X_train, X_val, y_train, y_val = train_test_split(X_trainval, y_trainval, test_size=0.1, random_state=42, stratify=y_trainval)"
   ]
  },
  {
   "cell_type": "code",
   "execution_count": 99,
   "metadata": {},
   "outputs": [
    {
     "data": {
      "text/html": [
       "<div>\n",
       "<style scoped>\n",
       "    .dataframe tbody tr th:only-of-type {\n",
       "        vertical-align: middle;\n",
       "    }\n",
       "\n",
       "    .dataframe tbody tr th {\n",
       "        vertical-align: top;\n",
       "    }\n",
       "\n",
       "    .dataframe thead th {\n",
       "        text-align: right;\n",
       "    }\n",
       "</style>\n",
       "<table border=\"1\" class=\"dataframe\">\n",
       "  <thead>\n",
       "    <tr style=\"text-align: right;\">\n",
       "      <th></th>\n",
       "      <th>path</th>\n",
       "      <th>labels</th>\n",
       "      <th>subject</th>\n",
       "    </tr>\n",
       "  </thead>\n",
       "  <tbody>\n",
       "    <tr>\n",
       "      <th>0</th>\n",
       "      <td>328_visit01_photo02.jpg</td>\n",
       "      <td>2</td>\n",
       "      <td>328</td>\n",
       "    </tr>\n",
       "    <tr>\n",
       "      <th>3</th>\n",
       "      <td>182_visit03_photo01.jpg</td>\n",
       "      <td>3</td>\n",
       "      <td>182</td>\n",
       "    </tr>\n",
       "    <tr>\n",
       "      <th>4</th>\n",
       "      <td>225_visit01_photo01.jpg</td>\n",
       "      <td>4</td>\n",
       "      <td>225</td>\n",
       "    </tr>\n",
       "    <tr>\n",
       "      <th>6</th>\n",
       "      <td>233_visit02_photo02.jpg</td>\n",
       "      <td>3</td>\n",
       "      <td>233</td>\n",
       "    </tr>\n",
       "    <tr>\n",
       "      <th>7</th>\n",
       "      <td>300_visit02_photo02.jpg</td>\n",
       "      <td>3</td>\n",
       "      <td>300</td>\n",
       "    </tr>\n",
       "  </tbody>\n",
       "</table>\n",
       "</div>"
      ],
      "text/plain": [
       "                      path  labels  subject\n",
       "0  328_visit01_photo02.jpg       2      328\n",
       "3  182_visit03_photo01.jpg       3      182\n",
       "4  225_visit01_photo01.jpg       4      225\n",
       "6  233_visit02_photo02.jpg       3      233\n",
       "7  300_visit02_photo02.jpg       3      300"
      ]
     },
     "execution_count": 99,
     "metadata": {},
     "output_type": "execute_result"
    }
   ],
   "source": [
    "severity_labels.loc[severity_labels['subject'].isin(X_train)].head()"
   ]
  },
  {
   "cell_type": "code",
   "execution_count": 95,
   "metadata": {},
   "outputs": [],
   "source": [
    "import os\n",
    "os.system('rm -rf /mnt/c/Users/PCM/Dropbox/chla_fundus_croped/severity')\n",
    "os.system('mkdir /mnt/c/Users/PCM/Dropbox/chla_fundus_croped/severity')\n",
    "for phase in ['train', 'test', 'val']:\n",
    "    os.system(f'mkdir /mnt/c/Users/PCM/Dropbox/chla_fundus_croped/severity/{phase}')\n",
    "    for i in range(6):\n",
    "        os.system(f'mkdir /mnt/c/Users/PCM/Dropbox/chla_fundus_croped/severity/{phase}/{i}')\n"
   ]
  },
  {
   "cell_type": "code",
   "execution_count": null,
   "metadata": {},
   "outputs": [],
   "source": [
    "path2fundus = f'/mnt/c/Users/{computername}/Dropbox/chla_fundus_croped'\n",
    "count = 0\n",
    "for phase in ['train', 'test', 'val']:\n",
    "    \n",
    "    try:\n",
    "        shutil.copy(f'{path2fundus}/full/' + severity_labels.path[i], f'{path2fundus}/severity/full/{severity_labels.labels[i]}')\n",
    "    except:\n",
    "        count = count + 1\n",
    "        print(f'No Image {severity_labels.path[i]} name found')\n",
    "print('Total images not present in the dataset: ', count)"
   ]
  },
  {
   "cell_type": "code",
   "execution_count": 102,
   "metadata": {},
   "outputs": [
    {
     "data": {
      "text/html": [
       "<div>\n",
       "<style scoped>\n",
       "    .dataframe tbody tr th:only-of-type {\n",
       "        vertical-align: middle;\n",
       "    }\n",
       "\n",
       "    .dataframe tbody tr th {\n",
       "        vertical-align: top;\n",
       "    }\n",
       "\n",
       "    .dataframe thead th {\n",
       "        text-align: right;\n",
       "    }\n",
       "</style>\n",
       "<table border=\"1\" class=\"dataframe\">\n",
       "  <thead>\n",
       "    <tr style=\"text-align: right;\">\n",
       "      <th></th>\n",
       "      <th>path</th>\n",
       "      <th>labels</th>\n",
       "      <th>subject</th>\n",
       "    </tr>\n",
       "  </thead>\n",
       "  <tbody>\n",
       "    <tr>\n",
       "      <th>0</th>\n",
       "      <td>328_visit01_photo02.jpg</td>\n",
       "      <td>2</td>\n",
       "      <td>328</td>\n",
       "    </tr>\n",
       "    <tr>\n",
       "      <th>3</th>\n",
       "      <td>182_visit03_photo01.jpg</td>\n",
       "      <td>3</td>\n",
       "      <td>182</td>\n",
       "    </tr>\n",
       "    <tr>\n",
       "      <th>4</th>\n",
       "      <td>225_visit01_photo01.jpg</td>\n",
       "      <td>4</td>\n",
       "      <td>225</td>\n",
       "    </tr>\n",
       "    <tr>\n",
       "      <th>6</th>\n",
       "      <td>233_visit02_photo02.jpg</td>\n",
       "      <td>3</td>\n",
       "      <td>233</td>\n",
       "    </tr>\n",
       "    <tr>\n",
       "      <th>7</th>\n",
       "      <td>300_visit02_photo02.jpg</td>\n",
       "      <td>3</td>\n",
       "      <td>300</td>\n",
       "    </tr>\n",
       "  </tbody>\n",
       "</table>\n",
       "</div>"
      ],
      "text/plain": [
       "                      path  labels  subject\n",
       "0  328_visit01_photo02.jpg       2      328\n",
       "3  182_visit03_photo01.jpg       3      182\n",
       "4  225_visit01_photo01.jpg       4      225\n",
       "6  233_visit02_photo02.jpg       3      233\n",
       "7  300_visit02_photo02.jpg       3      300"
      ]
     },
     "execution_count": 102,
     "metadata": {},
     "output_type": "execute_result"
    }
   ],
   "source": [
    "phase = 'train'\n",
    "data = severity_labels.loc[severity_labels['subject'].isin(eval(f'X_{phase}'))]\n",
    "data.head()"
   ]
  },
  {
   "cell_type": "code",
   "execution_count": 109,
   "metadata": {},
   "outputs": [
    {
     "name": "stdout",
     "output_type": "stream",
     "text": [
      "No Image 203_visit01_photo02.jpg name found\n",
      "No Image 174_visit03_photo01.jpg name found\n",
      "No Image 174_visit06_photo02.jpg name found\n",
      "No Image 334_visit01_photo02.jpg name found\n",
      "No Image 343_visit02_photo02.jpg name found\n",
      "No Image 195_visit01_photo01.jpg name found\n",
      "No Image 329_visit01_photo02.jpg name found\n",
      "No Image 200_visit03_photo01.jpg name found\n",
      "No Image 343_visit02_photo01.jpg name found\n",
      "No Image 196_visit01_photo01.jpg name found\n",
      "No Image 193_visit01_photo01.jpg name found\n",
      "No Image 232_visit05_photo01.jpg name found\n",
      "No Image 44_visit03_photo01.jpg name found\n",
      "No Image 173_visit03_photo02.jpg name found\n",
      "No Image 39_visit01_photo01.jpg name found\n",
      "No Image 178_visit01_photo01.jpg name found\n",
      "No Image 207_visit02_photo02.jpg name found\n",
      "No Image 334_visit01_photo01.jpg name found\n",
      "No Image 233_visit01_photo02.jpg name found\n",
      "No Image 232_visit03_photo02.jpg name found\n",
      "No Image 227_visit03_photo01.jpg name found\n",
      "No Image 227_visit03_photo02.jpg name found\n",
      "No Image 197_visit01_photo01.jpg name found\n",
      "No Image 316_visit01_photo01.jpg name found\n",
      "No Image 236_visit03_photo01.jpg name found\n",
      "No Image 174_visit02_photo01.jpg name found\n",
      "No Image 204_visit01_photo01.jpg name found\n",
      "No Image 224_visit05_photo02.jpg name found\n",
      "No Image 307_visit01_photo01.jpg name found\n",
      "No Image 327_visit01_photo02.jpg name found\n",
      "No Image 155_visit01_photo01.jpg name found\n",
      "No Image 236_visit04_photo02.jpg name found\n",
      "No Image 30_visit01_photo01.jpg name found\n",
      "No Image 129_visit02_photo02.jpg name found\n",
      "No Image 142_visit01_photo01.jpg name found\n",
      "No Image 235_visit04_photo02.jpg name found\n",
      "No Image 207_visit01_photo02.jpg name found\n",
      "No Image 173_visit02_photo02.jpg name found\n",
      "No Image 303_visit02_photo01.jpg name found\n",
      "No Image 204_visit03_photo01.jpg name found\n",
      "No Image 44_visit02_photo01.jpg name found\n",
      "No Image 150_visit02_photo01.jpg name found\n",
      "No Image 225_visit02_photo02.jpg name found\n",
      "No Image 320_visit01_photo02.jpg name found\n",
      "No Image 251_visit02_photo01.jpg name found\n",
      "No Image 119_visit01_photo02.jpg name found\n",
      "No Image 241_visit02_photo02.jpg name found\n",
      "No Image 290_visit03_photo02.jpg name found\n",
      "No Image 299_visit01_photo02.jpg name found\n",
      "No Image 300_visit02_photo02.jpg name found\n",
      "No Image 305_visit01_photo02.jpg name found\n",
      "No Image 228_visit04_photo02.jpg name found\n",
      "No Image 310_visit01_photo02.jpg name found\n",
      "No Image 343_visit02_photo01.jpg name found\n",
      "Total images not present in the dataset:  54\n"
     ]
    }
   ],
   "source": [
    "path2fundus = f'/mnt/c/Users/{computername}/Dropbox/chla_fundus_croped'\n",
    "count = 0\n",
    "for phase in ['train', 'test', 'val']:\n",
    "    data = severity_labels.loc[severity_labels['subject'].isin(eval(f'X_{phase}'))].path.to_numpy()\n",
    "    labels = severity_labels.loc[severity_labels['subject'].isin(eval(f'X_{phase}'))].labels.to_numpy()\n",
    "    for i in range(len(data)):\n",
    "        try:\n",
    "            shutil.copy(f'{path2fundus}/full/' + data[i], f'{path2fundus}/severity/{phase}/{labels[i]}')\n",
    "        except:\n",
    "            count = count + 1\n",
    "            print(f'No Image {data[i]} name found')\n",
    "\n",
    "print('Total images not present in the dataset: ', count)"
   ]
  },
  {
   "cell_type": "markdown",
   "metadata": {},
   "source": [
    "Create binary class dataset"
   ]
  },
  {
   "cell_type": "code",
   "execution_count": 112,
   "metadata": {},
   "outputs": [],
   "source": [
    "import os\n",
    "os.system('rm -rf /mnt/c/Users/PCM/Dropbox/chla_fundus_croped/binary')\n",
    "os.system('mkdir /mnt/c/Users/PCM/Dropbox/chla_fundus_croped/binary')\n",
    "for phase in ['train', 'test', 'val']:\n",
    "    os.system(f'mkdir /mnt/c/Users/PCM/Dropbox/chla_fundus_croped/binary/{phase}')\n",
    "    for i in range(2):\n",
    "        os.system(f'mkdir /mnt/c/Users/PCM/Dropbox/chla_fundus_croped/binary/{phase}/{i}')\n"
   ]
  },
  {
   "cell_type": "code",
   "execution_count": 114,
   "metadata": {},
   "outputs": [
    {
     "data": {
      "text/plain": [
       "True"
      ]
     },
     "execution_count": 114,
     "metadata": {},
     "output_type": "execute_result"
    }
   ],
   "source": [
    "labels[1]==4"
   ]
  },
  {
   "cell_type": "code",
   "execution_count": 115,
   "metadata": {},
   "outputs": [
    {
     "name": "stdout",
     "output_type": "stream",
     "text": [
      "No Image 206_visit03_photo02.jpg name found\n",
      "No Image 205_visit02_photo01.jpg name found\n",
      "No Image 145_visit03_photo02.jpg name found\n",
      "No Image 145_visit02_photo01.jpg name found\n",
      "No Image 145_visit01_photo02.jpg name found\n",
      "No Image 145_visit01_photo01.jpg name found\n",
      "No Image 205_visit04_photo01.jpg name found\n",
      "No Image 178_visit01_photo02.jpg name found\n",
      "No Image 205_visit02_photo02.jpg name found\n",
      "No Image 173_visit03_photo02.jpg name found\n",
      "No Image 178_visit01_photo01.jpg name found\n",
      "No Image 182_visit04_photo01.jpg name found\n",
      "No Image 204_visit04_photo01.jpg name found\n",
      "No Image 204_visit04_photo02.jpg name found\n",
      "No Image 207_visit02_photo02.jpg name found\n",
      "No Image 205_visit04_photo02.jpg name found\n",
      "No Image 208_visit01_photo02.jpg name found\n",
      "No Image 197_visit01_photo01.jpg name found\n",
      "No Image 205_visit03_photo01.jpg name found\n",
      "No Image 192_visit01_photo02.jpg name found\n",
      "No Image 224_visit05_photo02.jpg name found\n",
      "No Image 193_visit02_photo01.jpg name found\n",
      "No Image 206_visit02_photo01.jpg name found\n",
      "No Image 205_visit01_photo02.jpg name found\n",
      "No Image 160_visit01_photo02.jpg name found\n",
      "No Image 160_visit01_photo01.jpg name found\n",
      "No Image 207_visit02_photo01.jpg name found\n",
      "No Image 205_visit01_photo01.jpg name found\n",
      "No Image 204_visit05_photo02.jpg name found\n",
      "No Image 206_visit03_photo01.jpg name found\n",
      "No Image 204_visit05_photo01.jpg name found\n",
      "No Image 206_visit01_photo02.jpg name found\n",
      "No Image 206_visit01_photo01.jpg name found\n",
      "No Image 182_visit04_photo02.jpg name found\n",
      "No Image 173_visit03_photo01.jpg name found\n",
      "No Image 145_visit02_photo02.jpg name found\n",
      "No Image 145_visit03_photo01.jpg name found\n",
      "No Image 300_visit02_photo01.jpg name found\n",
      "No Image 208_visit01_photo01.jpg name found\n",
      "No Image 300_visit01_photo02.jpg name found\n",
      "No Image 192_visit01_photo01.jpg name found\n",
      "No Image 205_visit03_photo02.jpg name found\n",
      "No Image 197_visit01_photo02.jpg name found\n",
      "No Image 295_visit01_photo01.jpeg name found\n",
      "No Image 177_visit01_photo02.png name found\n",
      "No Image 41_visit03_photo01.jpg name found\n",
      "No Image 295_visit01_photo02.jpeg name found\n",
      "No Image 177_visit01_photo01.png name found\n",
      "No Image 58_visit03_photo01.jpg name found\n",
      "No Image 214_visit01_photo01.jpg name found\n",
      "No Image 186_visit01_photo02.jpg name found\n",
      "No Image 214_visit01_photo02.jpg name found\n",
      "No Image 186_visit01_photo01.jpg name found\n",
      "No Image 247_visit01_photo01.jpg name found\n",
      "Total images not present in the dataset:  54\n"
     ]
    }
   ],
   "source": [
    "path2fundus = f'/mnt/c/Users/{computername}/Dropbox/chla_fundus_croped'\n",
    "count = 0\n",
    "for phase in ['train', 'test', 'val']:\n",
    "    data = severity_labels.loc[severity_labels['subject'].isin(eval(f'X_{phase}'))].path.to_numpy()\n",
    "    labels = severity_labels.loc[severity_labels['subject'].isin(eval(f'X_{phase}'))].labels.to_numpy()\n",
    "    for i in range(len(data)):\n",
    "        try:\n",
    "            shutil.copy(f'{path2fundus}/full/' + data[i], f'{path2fundus}/binary/{phase}/{(labels[i]!=0)*1}')\n",
    "        except:\n",
    "            count = count + 1\n",
    "            print(f'No Image {data[i]} name found')\n",
    "\n",
    "print('Total images not present in the dataset: ', count)"
   ]
  },
  {
   "cell_type": "code",
   "execution_count": null,
   "metadata": {},
   "outputs": [],
   "source": []
  }
 ],
 "metadata": {
  "kernelspec": {
   "display_name": "hongn",
   "language": "python",
   "name": "python3"
  },
  "language_info": {
   "codemirror_mode": {
    "name": "ipython",
    "version": 3
   },
   "file_extension": ".py",
   "mimetype": "text/x-python",
   "name": "python",
   "nbconvert_exporter": "python",
   "pygments_lexer": "ipython3",
   "version": "3.1.undefined"
  },
  "orig_nbformat": 4
 },
 "nbformat": 4,
 "nbformat_minor": 2
}
